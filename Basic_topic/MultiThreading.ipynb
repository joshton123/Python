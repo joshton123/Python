{
 "cells": [
  {
   "cell_type": "code",
   "execution_count": 1,
   "id": "e2307518-c1e8-4f32-bc01-4ef80438674b",
   "metadata": {},
   "outputs": [],
   "source": [
    "import threading"
   ]
  },
  {
   "cell_type": "code",
   "execution_count": 3,
   "id": "b793ed70-81ea-4c75-bddb-0c1e933f6ad8",
   "metadata": {},
   "outputs": [],
   "source": [
    "def test(id):\n",
    "    print(\"program start %d \"%id)"
   ]
  },
  {
   "cell_type": "code",
   "execution_count": 4,
   "id": "95a8e564-f8a0-4534-a4f6-49f91b6025c6",
   "metadata": {},
   "outputs": [
    {
     "name": "stdout",
     "output_type": "stream",
     "text": [
      "program start 50 \n"
     ]
    }
   ],
   "source": [
    "test(50)"
   ]
  },
  {
   "cell_type": "code",
   "execution_count": 6,
   "id": "aa900e68-1233-4b72-9f9f-202e60f692d7",
   "metadata": {},
   "outputs": [],
   "source": [
    "thread = [threading.Thread(target=test , args=(i,)) for i in range(10)]"
   ]
  },
  {
   "cell_type": "code",
   "execution_count": 7,
   "id": "511dc2a6-4b6f-4fb7-b7de-7e39d4f7bd2c",
   "metadata": {},
   "outputs": [
    {
     "name": "stdout",
     "output_type": "stream",
     "text": [
      "program start 0 \n",
      "program start 1 \n",
      "program start 2 \n",
      "program start 3 \n",
      "program start 4 \n",
      "program start 5 \n",
      "program start 6 \n",
      "program start 7 \n",
      "program start 8 \n",
      "program start 9 \n"
     ]
    }
   ],
   "source": [
    "for t in thread:\n",
    "    t.start()"
   ]
  },
  {
   "cell_type": "code",
   "execution_count": 9,
   "id": "533823fc-5af0-4342-83e0-a4634b88d57d",
   "metadata": {},
   "outputs": [
    {
     "data": {
      "text/plain": [
       "[<Thread(Thread-5 (test), stopped 26340)>,\n",
       " <Thread(Thread-6 (test), stopped 25876)>,\n",
       " <Thread(Thread-7 (test), stopped 14544)>,\n",
       " <Thread(Thread-8 (test), stopped 17044)>,\n",
       " <Thread(Thread-9 (test), stopped 31780)>,\n",
       " <Thread(Thread-10 (test), stopped 15248)>,\n",
       " <Thread(Thread-11 (test), stopped 25272)>,\n",
       " <Thread(Thread-12 (test), stopped 24624)>,\n",
       " <Thread(Thread-13 (test), stopped 18080)>,\n",
       " <Thread(Thread-14 (test), stopped 6372)>]"
      ]
     },
     "execution_count": 9,
     "metadata": {},
     "output_type": "execute_result"
    }
   ],
   "source": [
    "thread"
   ]
  },
  {
   "cell_type": "code",
   "execution_count": 10,
   "id": "c49763b5-cf4a-48e7-a1c8-ab5e5dfab0e0",
   "metadata": {},
   "outputs": [
    {
     "data": {
      "text/plain": [
       "3195043977280"
      ]
     },
     "execution_count": 10,
     "metadata": {},
     "output_type": "execute_result"
    }
   ],
   "source": [
    "id(thread)"
   ]
  },
  {
   "cell_type": "code",
   "execution_count": 11,
   "id": "4d9a01c8-9e36-495c-887e-301d4390feaf",
   "metadata": {},
   "outputs": [],
   "source": [
    "import threading\n",
    "import urllib.request\n",
    "\n",
    "def file_download(url , filename):\n",
    "    urllib.request.urlretrieve(url , filename)"
   ]
  },
  {
   "cell_type": "code",
   "execution_count": 12,
   "id": "725ccb03-c64b-4846-affe-7e57e0daa343",
   "metadata": {},
   "outputs": [],
   "source": [
    "file_download('https://raw.githubusercontent.com/divmain/GitSavvy/master/README.md' , 'test.txt')"
   ]
  },
  {
   "cell_type": "code",
   "execution_count": 13,
   "id": "023235c7-4db2-450d-ad2f-b15063bbc587",
   "metadata": {},
   "outputs": [],
   "source": [
    "# if multiple use list . it goes same for multiple file saving"
   ]
  },
  {
   "cell_type": "code",
   "execution_count": 15,
   "id": "c3367bdf-97bd-459f-8ec0-457cee23f910",
   "metadata": {},
   "outputs": [],
   "source": [
    "# ther = threading.Thread(target=file_download , arg( url_list[i] , file_name[i])), for i in range(len(url_list))]\n",
    "# for i in ther:\n",
    "#     i.start()"
   ]
  },
  {
   "cell_type": "code",
   "execution_count": null,
   "id": "56cad00b-b4b8-47c0-9408-f66a8e124ec5",
   "metadata": {},
   "outputs": [],
   "source": []
  }
 ],
 "metadata": {
  "kernelspec": {
   "display_name": "Python 3 (ipykernel)",
   "language": "python",
   "name": "python3"
  },
  "language_info": {
   "codemirror_mode": {
    "name": "ipython",
    "version": 3
   },
   "file_extension": ".py",
   "mimetype": "text/x-python",
   "name": "python",
   "nbconvert_exporter": "python",
   "pygments_lexer": "ipython3",
   "version": "3.12.2"
  }
 },
 "nbformat": 4,
 "nbformat_minor": 5
}
