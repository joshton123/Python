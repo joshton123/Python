{
 "cells": [
  {
   "cell_type": "code",
   "execution_count": null,
   "id": "5440d1d1-25e4-4ea8-883e-12e60e76268a",
   "metadata": {},
   "outputs": [],
   "source": [
    "s = 'pwskills'"
   ]
  },
  {
   "cell_type": "code",
   "execution_count": null,
   "id": "9eecafc1-dec3-4ac0-8be9-a75e1b12dc7c",
   "metadata": {},
   "outputs": [],
   "source": [
    "s[::1]"
   ]
  },
  {
   "cell_type": "code",
   "execution_count": null,
   "id": "c08c4445-1701-434f-9b7c-a2ab6541f6a5",
   "metadata": {},
   "outputs": [],
   "source": [
    "s1 = 'this is my string class'"
   ]
  },
  {
   "cell_type": "code",
   "execution_count": null,
   "id": "0d39ef24-57f9-45dc-b9a7-dffabe9106fb",
   "metadata": {},
   "outputs": [],
   "source": [
    "len(s1)"
   ]
  },
  {
   "cell_type": "code",
   "execution_count": null,
   "id": "0f602d91-49bc-41f0-878d-8e43e10f3764",
   "metadata": {},
   "outputs": [],
   "source": [
    "s1.find('s')"
   ]
  },
  {
   "cell_type": "code",
   "execution_count": null,
   "id": "ce1502a3-9fc4-4be3-87fb-add8e3d72cbb",
   "metadata": {},
   "outputs": [],
   "source": [
    "s1.count('s')"
   ]
  },
  {
   "cell_type": "code",
   "execution_count": null,
   "id": "d004c296-9f7f-4bd4-aa7c-a3cf5b85b73a",
   "metadata": {},
   "outputs": [],
   "source": [
    "s1"
   ]
  },
  {
   "cell_type": "code",
   "execution_count": null,
   "id": "7272df11-81df-495f-adf0-4dd052c9b2a8",
   "metadata": {},
   "outputs": [],
   "source": [
    "s1.count('z')"
   ]
  },
  {
   "cell_type": "code",
   "execution_count": null,
   "id": "8b78d7f1-e9c6-4834-b350-e919af90e7d2",
   "metadata": {},
   "outputs": [],
   "source": [
    "s='joshton '"
   ]
  },
  {
   "cell_type": "code",
   "execution_count": null,
   "id": "68764177-2fba-4d4b-a192-2bb33474a957",
   "metadata": {},
   "outputs": [],
   "source": [
    "s*3"
   ]
  },
  {
   "cell_type": "code",
   "execution_count": null,
   "id": "d1935855-4556-4021-9bae-b18c4a02f2c1",
   "metadata": {},
   "outputs": [],
   "source": [
    "dict1 = {\n",
    "    \"name\" : \"joshton\",\n",
    "    \"email\": \"joshton@gmail.com\",\n",
    "    \"number\": 123456,\n",
    "    \"married\" : False\n",
    "}"
   ]
  },
  {
   "cell_type": "code",
   "execution_count": null,
   "id": "af2bf454-1d13-4f99-b015-db9b8d037ea5",
   "metadata": {},
   "outputs": [],
   "source": [
    "dict1[\"name\"]"
   ]
  },
  {
   "cell_type": "code",
   "execution_count": null,
   "id": "dd917f18-7272-44ce-9be5-8b41f21923e4",
   "metadata": {},
   "outputs": [],
   "source": [
    "dict1[1]"
   ]
  },
  {
   "cell_type": "code",
   "execution_count": null,
   "id": "22907156-c5ca-470f-86fe-5fc368249414",
   "metadata": {},
   "outputs": [],
   "source": []
  },
  {
   "cell_type": "code",
   "execution_count": null,
   "id": "c8392e6e-729d-4472-ba63-fadc1223b185",
   "metadata": {},
   "outputs": [],
   "source": []
  },
  {
   "cell_type": "code",
   "execution_count": null,
   "id": "b1619d5f-f3d5-4db6-ac60-14dc506fa89a",
   "metadata": {},
   "outputs": [],
   "source": []
  }
 ],
 "metadata": {
  "kernelspec": {
   "display_name": "Python 3 (ipykernel)",
   "language": "python",
   "name": "python3"
  },
  "language_info": {
   "codemirror_mode": {
    "name": "ipython",
    "version": 3
   },
   "file_extension": ".py",
   "mimetype": "text/x-python",
   "name": "python",
   "nbconvert_exporter": "python",
   "pygments_lexer": "ipython3",
   "version": "3.12.2"
  }
 },
 "nbformat": 4,
 "nbformat_minor": 5
}
