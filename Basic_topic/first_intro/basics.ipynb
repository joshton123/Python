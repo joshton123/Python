{
 "cells": [
  {
   "cell_type": "code",
   "execution_count": 1,
   "id": "5440d1d1-25e4-4ea8-883e-12e60e76268a",
   "metadata": {},
   "outputs": [],
   "source": [
    "s = 'pwskills'"
   ]
  },
  {
   "cell_type": "code",
   "execution_count": 2,
   "id": "9eecafc1-dec3-4ac0-8be9-a75e1b12dc7c",
   "metadata": {},
   "outputs": [
    {
     "data": {
      "text/plain": [
       "'pwskills'"
      ]
     },
     "execution_count": 2,
     "metadata": {},
     "output_type": "execute_result"
    }
   ],
   "source": [
    "s[::1]"
   ]
  },
  {
   "cell_type": "code",
   "execution_count": 3,
   "id": "c08c4445-1701-434f-9b7c-a2ab6541f6a5",
   "metadata": {},
   "outputs": [],
   "source": [
    "s1 = 'this is my string class'"
   ]
  },
  {
   "cell_type": "code",
   "execution_count": 4,
   "id": "0d39ef24-57f9-45dc-b9a7-dffabe9106fb",
   "metadata": {},
   "outputs": [
    {
     "data": {
      "text/plain": [
       "23"
      ]
     },
     "execution_count": 4,
     "metadata": {},
     "output_type": "execute_result"
    }
   ],
   "source": [
    "len(s1)"
   ]
  },
  {
   "cell_type": "code",
   "execution_count": 5,
   "id": "0f602d91-49bc-41f0-878d-8e43e10f3764",
   "metadata": {},
   "outputs": [
    {
     "data": {
      "text/plain": [
       "3"
      ]
     },
     "execution_count": 5,
     "metadata": {},
     "output_type": "execute_result"
    }
   ],
   "source": [
    "s1.find('s')"
   ]
  },
  {
   "cell_type": "code",
   "execution_count": 6,
   "id": "ce1502a3-9fc4-4be3-87fb-add8e3d72cbb",
   "metadata": {},
   "outputs": [
    {
     "data": {
      "text/plain": [
       "5"
      ]
     },
     "execution_count": 6,
     "metadata": {},
     "output_type": "execute_result"
    }
   ],
   "source": [
    "s1.count('s')"
   ]
  },
  {
   "cell_type": "code",
   "execution_count": 7,
   "id": "d004c296-9f7f-4bd4-aa7c-a3cf5b85b73a",
   "metadata": {},
   "outputs": [
    {
     "data": {
      "text/plain": [
       "'this is my string class'"
      ]
     },
     "execution_count": 7,
     "metadata": {},
     "output_type": "execute_result"
    }
   ],
   "source": [
    "s1"
   ]
  },
  {
   "cell_type": "code",
   "execution_count": 8,
   "id": "7272df11-81df-495f-adf0-4dd052c9b2a8",
   "metadata": {},
   "outputs": [
    {
     "data": {
      "text/plain": [
       "0"
      ]
     },
     "execution_count": 8,
     "metadata": {},
     "output_type": "execute_result"
    }
   ],
   "source": [
    "s1.count('z')"
   ]
  },
  {
   "cell_type": "code",
   "execution_count": 9,
   "id": "8b78d7f1-e9c6-4834-b350-e919af90e7d2",
   "metadata": {},
   "outputs": [],
   "source": [
    "s='joshton '"
   ]
  },
  {
   "cell_type": "code",
   "execution_count": 10,
   "id": "68764177-2fba-4d4b-a192-2bb33474a957",
   "metadata": {},
   "outputs": [
    {
     "data": {
      "text/plain": [
       "'joshton joshton joshton '"
      ]
     },
     "execution_count": 10,
     "metadata": {},
     "output_type": "execute_result"
    }
   ],
   "source": [
    "s*3"
   ]
  },
  {
   "cell_type": "code",
   "execution_count": 11,
   "id": "d1935855-4556-4021-9bae-b18c4a02f2c1",
   "metadata": {},
   "outputs": [],
   "source": [
    "dict1 = {\n",
    "    \"name\" : \"joshton\",\n",
    "    \"email\": \"joshton@gmail.com\",\n",
    "    \"number\": 123456,\n",
    "    \"married\" : False\n",
    "}"
   ]
  },
  {
   "cell_type": "code",
   "execution_count": 12,
   "id": "af2bf454-1d13-4f99-b015-db9b8d037ea5",
   "metadata": {},
   "outputs": [
    {
     "data": {
      "text/plain": [
       "'joshton'"
      ]
     },
     "execution_count": 12,
     "metadata": {},
     "output_type": "execute_result"
    }
   ],
   "source": [
    "dict1[\"name\"]"
   ]
  },
  {
   "cell_type": "code",
   "execution_count": 14,
   "id": "dd917f18-7272-44ce-9be5-8b41f21923e4",
   "metadata": {},
   "outputs": [],
   "source": [
    "# dict1[1]"
   ]
  },
  {
   "cell_type": "code",
   "execution_count": 18,
   "id": "22907156-c5ca-470f-86fe-5fc368249414",
   "metadata": {},
   "outputs": [
    {
     "name": "stdin",
     "output_type": "stream",
     "text": [
      "Enter ur marks  6\n"
     ]
    }
   ],
   "source": [
    "marks = input(\"Enter ur marks \")"
   ]
  },
  {
   "cell_type": "code",
   "execution_count": null,
   "id": "c8392e6e-729d-4472-ba63-fadc1223b185",
   "metadata": {},
   "outputs": [],
   "source": []
  },
  {
   "cell_type": "code",
   "execution_count": 23,
   "id": "b1619d5f-f3d5-4db6-ac60-14dc506fa89a",
   "metadata": {},
   "outputs": [],
   "source": [
    "set1 = {10,20,3,\"hello\",10,20,30}"
   ]
  },
  {
   "cell_type": "code",
   "execution_count": 24,
   "id": "6bd26662-df65-43b0-8622-02dd9daa8b6d",
   "metadata": {},
   "outputs": [
    {
     "data": {
      "text/plain": [
       "{10, 20, 3, 30, 'hello'}"
      ]
     },
     "execution_count": 24,
     "metadata": {},
     "output_type": "execute_result"
    }
   ],
   "source": [
    "set1"
   ]
  },
  {
   "cell_type": "code",
   "execution_count": 54,
   "id": "68bc30b9-d224-45c0-a235-9afb095789f2",
   "metadata": {},
   "outputs": [],
   "source": [
    "l = [1,2,3,30,4,5,6,7,8]"
   ]
  },
  {
   "cell_type": "code",
   "execution_count": 55,
   "id": "7487d569-9b8e-4997-bb06-23821e13fd14",
   "metadata": {},
   "outputs": [
    {
     "name": "stdout",
     "output_type": "stream",
     "text": [
      "1\n",
      "2\n",
      "3\n",
      "30\n",
      "4\n",
      "5\n",
      "6\n",
      "7\n",
      "8\n"
     ]
    }
   ],
   "source": [
    "for i in l:\n",
    "    print(i)"
   ]
  },
  {
   "cell_type": "code",
   "execution_count": 56,
   "id": "34ffd9d5-215d-4200-82d0-d9c78e88a29b",
   "metadata": {},
   "outputs": [
    {
     "data": {
      "text/plain": [
       "[1, 2, 3, 30, 4, 5, 6, 7, 8]"
      ]
     },
     "execution_count": 56,
     "metadata": {},
     "output_type": "execute_result"
    }
   ],
   "source": [
    "l1=[]\n",
    "l"
   ]
  },
  {
   "cell_type": "code",
   "execution_count": 57,
   "id": "2c8e92a5-240d-4f9a-a9b1-a04be092dcea",
   "metadata": {},
   "outputs": [
    {
     "data": {
      "text/plain": [
       "[1, 2, 3, 4, 5, 6, 7, 8, 9, 30]"
      ]
     },
     "execution_count": 57,
     "metadata": {},
     "output_type": "execute_result"
    }
   ],
   "source": [
    "l.append(9)\n",
    "l.sort()\n",
    "l.copy()"
   ]
  },
  {
   "cell_type": "code",
   "execution_count": 58,
   "id": "cebc9486-02d4-4bfd-845e-f3315326da47",
   "metadata": {},
   "outputs": [
    {
     "data": {
      "text/plain": [
       "[1, 2, 3, 4, 5, 6, 7, 8, 9, 30]"
      ]
     },
     "execution_count": 58,
     "metadata": {},
     "output_type": "execute_result"
    }
   ],
   "source": [
    "l"
   ]
  },
  {
   "cell_type": "code",
   "execution_count": 59,
   "id": "fe0ffdab-ddb8-438a-a399-c7e853a7f10a",
   "metadata": {},
   "outputs": [],
   "source": [
    "l = [1,2,3,\"joshton\",\"sequeira\",12.3]"
   ]
  },
  {
   "cell_type": "code",
   "execution_count": 64,
   "id": "dfcd8d72-fe0b-4692-8ff9-35376389c723",
   "metadata": {},
   "outputs": [
    {
     "data": {
      "text/plain": [
       "[1, 2, 3]"
      ]
     },
     "execution_count": 64,
     "metadata": {},
     "output_type": "execute_result"
    }
   ],
   "source": [
    "l1 = []\n",
    "l2 = []\n",
    "\n",
    "for i in l:\n",
    "    if type(i) == int or type(i)==float:\n",
    "        l1.append(i)\n",
    "    else:\n",
    "        l2.append(i)\n",
    "\n",
    "l1        "
   ]
  },
  {
   "cell_type": "code",
   "execution_count": 65,
   "id": "4c9f9af9-9276-4574-a8db-c7232e854503",
   "metadata": {},
   "outputs": [
    {
     "data": {
      "text/plain": [
       "['joshton', 'sequeira']"
      ]
     },
     "execution_count": 65,
     "metadata": {},
     "output_type": "execute_result"
    }
   ],
   "source": [
    "l2"
   ]
  },
  {
   "cell_type": "code",
   "execution_count": null,
   "id": "8127f38f-36b5-4f31-b08e-fc10ca983a9a",
   "metadata": {},
   "outputs": [],
   "source": []
  }
 ],
 "metadata": {
  "kernelspec": {
   "display_name": "Python 3 (ipykernel)",
   "language": "python",
   "name": "python3"
  },
  "language_info": {
   "codemirror_mode": {
    "name": "ipython",
    "version": 3
   },
   "file_extension": ".py",
   "mimetype": "text/x-python",
   "name": "python",
   "nbconvert_exporter": "python",
   "pygments_lexer": "ipython3",
   "version": "3.12.2"
  }
 },
 "nbformat": 4,
 "nbformat_minor": 5
}
