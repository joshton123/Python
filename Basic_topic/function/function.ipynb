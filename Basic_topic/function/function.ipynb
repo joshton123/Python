{
 "cells": [
  {
   "cell_type": "code",
   "execution_count": 1,
   "id": "651489e9-db4c-46f7-b48e-20815a800141",
   "metadata": {},
   "outputs": [],
   "source": [
    "n=3\n",
    "p=2"
   ]
  },
  {
   "cell_type": "code",
   "execution_count": 2,
   "id": "ab6bd2d0-a0f4-4b52-8311-cb91ac65daf6",
   "metadata": {},
   "outputs": [],
   "source": [
    "a = lambda n,p : n**p"
   ]
  },
  {
   "cell_type": "code",
   "execution_count": 3,
   "id": "ce953d34-4f1e-4d6f-9c62-b404af2916fd",
   "metadata": {},
   "outputs": [
    {
     "data": {
      "text/plain": [
       "27"
      ]
     },
     "execution_count": 3,
     "metadata": {},
     "output_type": "execute_result"
    }
   ],
   "source": [
    "a(3,3)"
   ]
  },
  {
   "cell_type": "code",
   "execution_count": 4,
   "id": "1fff2ef2-d793-4e8d-be49-a219acb8b20e",
   "metadata": {},
   "outputs": [],
   "source": [
    "add = lambda x,y : x+y"
   ]
  },
  {
   "cell_type": "code",
   "execution_count": 5,
   "id": "b6a8f60d-2f9b-45c4-8475-b8dad2eb2c8a",
   "metadata": {},
   "outputs": [
    {
     "data": {
      "text/plain": [
       "300"
      ]
     },
     "execution_count": 5,
     "metadata": {},
     "output_type": "execute_result"
    }
   ],
   "source": [
    "add(100,200)"
   ]
  },
  {
   "cell_type": "code",
   "execution_count": 6,
   "id": "61deb84f-2d1b-47ec-9387-c58a78cc0480",
   "metadata": {},
   "outputs": [],
   "source": [
    "find_max = lambda x,y : x if x>y else y"
   ]
  },
  {
   "cell_type": "code",
   "execution_count": 8,
   "id": "8c375c59-d4ad-4c35-b00f-d64dbc898868",
   "metadata": {},
   "outputs": [
    {
     "data": {
      "text/plain": [
       "30"
      ]
     },
     "execution_count": 8,
     "metadata": {},
     "output_type": "execute_result"
    }
   ],
   "source": [
    "find_max(20,30)"
   ]
  },
  {
   "cell_type": "code",
   "execution_count": 9,
   "id": "64780fe1-c2ea-47b8-b8c7-833b31be041f",
   "metadata": {},
   "outputs": [],
   "source": [
    "s = \"pwskills\""
   ]
  },
  {
   "cell_type": "code",
   "execution_count": 10,
   "id": "15ed85c2-2ce4-411e-95c3-fe4eb7b70455",
   "metadata": {},
   "outputs": [],
   "source": [
    "leng = lambda s : len(s)"
   ]
  },
  {
   "cell_type": "code",
   "execution_count": 11,
   "id": "8be0bbd3-bc10-43e8-9eac-82877cbac5cc",
   "metadata": {},
   "outputs": [
    {
     "data": {
      "text/plain": [
       "8"
      ]
     },
     "execution_count": 11,
     "metadata": {},
     "output_type": "execute_result"
    }
   ],
   "source": [
    "leng(s)"
   ]
  },
  {
   "cell_type": "markdown",
   "id": "f4439292-83ac-45b1-9afb-3eaa3229bc72",
   "metadata": {},
   "source": [
    "# map reduce filter"
   ]
  },
  {
   "cell_type": "code",
   "execution_count": 12,
   "id": "e5f39d82-a126-4a35-ba62-3b7ca8592a7e",
   "metadata": {},
   "outputs": [],
   "source": [
    "l = [2,3,4,5,6]"
   ]
  },
  {
   "cell_type": "code",
   "execution_count": 14,
   "id": "82398dd0-1917-4a79-ab1a-760ce3882baa",
   "metadata": {},
   "outputs": [
    {
     "data": {
      "text/plain": [
       "[4, 9, 16, 25, 36]"
      ]
     },
     "execution_count": 14,
     "metadata": {},
     "output_type": "execute_result"
    }
   ],
   "source": [
    "def test(l):\n",
    "    l1=[]\n",
    "    for i in l:\n",
    "        l1.append(i**2)\n",
    "    return l1\n",
    "\n",
    "test(l)"
   ]
  },
  {
   "cell_type": "code",
   "execution_count": 18,
   "id": "547636b9-5fc6-40b4-a5ea-7624f5f53601",
   "metadata": {},
   "outputs": [
    {
     "data": {
      "text/plain": [
       "[4, 9, 16, 25, 36]"
      ]
     },
     "execution_count": 18,
     "metadata": {},
     "output_type": "execute_result"
    }
   ],
   "source": [
    "def sq(x):\n",
    "    return x**2\n",
    "\n",
    "list(map(sq,l))"
   ]
  },
  {
   "cell_type": "code",
   "execution_count": 19,
   "id": "529744da-c970-4653-89a5-9fb269142a60",
   "metadata": {},
   "outputs": [
    {
     "data": {
      "text/plain": [
       "[4, 9, 16, 25, 36]"
      ]
     },
     "execution_count": 19,
     "metadata": {},
     "output_type": "execute_result"
    }
   ],
   "source": [
    "list(map(lambda x:x**2 , l))"
   ]
  },
  {
   "cell_type": "code",
   "execution_count": 20,
   "id": "d32518e2-8d0d-45c0-b957-8a608369ca06",
   "metadata": {},
   "outputs": [
    {
     "data": {
      "text/plain": [
       "[7, 9, 11, 13, 15]"
      ]
     },
     "execution_count": 20,
     "metadata": {},
     "output_type": "execute_result"
    }
   ],
   "source": [
    "l1=[1,2,3,4,5]\n",
    "l2=[6,7,8,9,10]\n",
    "\n",
    "list(map(lambda x,y : x+y , l1,l2))  "
   ]
  },
  {
   "cell_type": "code",
   "execution_count": 21,
   "id": "cc4720ea-5ae5-4986-87a2-d863ae17c38c",
   "metadata": {},
   "outputs": [
    {
     "data": {
      "text/plain": [
       "[7, 9, 11, 13, 15]"
      ]
     },
     "execution_count": 21,
     "metadata": {},
     "output_type": "execute_result"
    }
   ],
   "source": [
    "def add(x,y):\n",
    "    return x+y\n",
    "\n",
    "list(map(add , l1,l2))"
   ]
  },
  {
   "cell_type": "code",
   "execution_count": 22,
   "id": "d0fbd11f-b2e5-4f2e-9c73-4295c8f754f4",
   "metadata": {},
   "outputs": [
    {
     "data": {
      "text/plain": [
       "['P', 'W', 'S', 'K', 'I', 'L', 'L', 'S']"
      ]
     },
     "execution_count": 22,
     "metadata": {},
     "output_type": "execute_result"
    }
   ],
   "source": [
    "s = \"pwskills\"\n",
    "\n",
    "list(map(lambda s : s.upper() , s))"
   ]
  },
  {
   "cell_type": "markdown",
   "id": "ad79457d-f78d-4211-a3d2-d2d0039e003f",
   "metadata": {},
   "source": [
    "# reduce"
   ]
  },
  {
   "cell_type": "code",
   "execution_count": 23,
   "id": "004725dc-1db2-4905-8a72-193c845a4f61",
   "metadata": {},
   "outputs": [],
   "source": [
    "from functools import reduce"
   ]
  },
  {
   "cell_type": "code",
   "execution_count": 26,
   "id": "47eed84e-6e19-407e-84f8-9d00d454a8f4",
   "metadata": {},
   "outputs": [
    {
     "data": {
      "text/plain": [
       "-13"
      ]
     },
     "execution_count": 26,
     "metadata": {},
     "output_type": "execute_result"
    }
   ],
   "source": [
    "l = [1,2,3,4,5]\n",
    "\n",
    "reduce(lambda x,y:x-y , l)"
   ]
  },
  {
   "cell_type": "code",
   "execution_count": null,
   "id": "e5413151-aa55-4394-af2a-92264a3aeeed",
   "metadata": {},
   "outputs": [],
   "source": []
  },
  {
   "cell_type": "code",
   "execution_count": 27,
   "id": "bb42eed4-7c9a-467c-9998-ad969ee163a9",
   "metadata": {},
   "outputs": [],
   "source": [
    "l=[1,2,3,3,4,5]"
   ]
  },
  {
   "cell_type": "code",
   "execution_count": 32,
   "id": "f6b1a1c5-d9d7-433a-ad98-4d8a23a49c80",
   "metadata": {},
   "outputs": [
    {
     "data": {
      "text/plain": [
       "5"
      ]
     },
     "execution_count": 32,
     "metadata": {},
     "output_type": "execute_result"
    }
   ],
   "source": [
    "reduce(lambda x,y : x if(x>y) else y ,l)"
   ]
  },
  {
   "cell_type": "markdown",
   "id": "2f73d396-19f9-41b2-ba4c-b0fd108b7e79",
   "metadata": {},
   "source": [
    "# filter"
   ]
  },
  {
   "cell_type": "code",
   "execution_count": 33,
   "id": "287dbb16-d8fc-45aa-abfb-ff3214eb150e",
   "metadata": {},
   "outputs": [
    {
     "data": {
      "text/plain": [
       "[1, 2, 3, 3, 4, 5]"
      ]
     },
     "execution_count": 33,
     "metadata": {},
     "output_type": "execute_result"
    }
   ],
   "source": [
    "l"
   ]
  },
  {
   "cell_type": "code",
   "execution_count": 36,
   "id": "8f697280-81a8-4575-831a-7405dd7cc54d",
   "metadata": {},
   "outputs": [
    {
     "data": {
      "text/plain": [
       "[2, 4]"
      ]
     },
     "execution_count": 36,
     "metadata": {},
     "output_type": "execute_result"
    }
   ],
   "source": [
    "list(filter(lambda x:  x%2==0 , l ))"
   ]
  },
  {
   "cell_type": "code",
   "execution_count": 37,
   "id": "b013a8cb-d93d-45d2-ba54-bff0c86be1a1",
   "metadata": {},
   "outputs": [
    {
     "data": {
      "text/plain": [
       "[1, 3, 3, 5]"
      ]
     },
     "execution_count": 37,
     "metadata": {},
     "output_type": "execute_result"
    }
   ],
   "source": [
    "list(filter(lambda x:  x%2!=0 , l ))"
   ]
  },
  {
   "cell_type": "code",
   "execution_count": 38,
   "id": "77ccde14-7ae9-4244-878a-a6ab1e2c809a",
   "metadata": {},
   "outputs": [],
   "source": [
    "l1=[-1,-2,1,2,3]"
   ]
  },
  {
   "cell_type": "code",
   "execution_count": 40,
   "id": "61a19ca8-4ef5-41a4-983d-e229e0c4a08f",
   "metadata": {},
   "outputs": [
    {
     "data": {
      "text/plain": [
       "[-1, -2]"
      ]
     },
     "execution_count": 40,
     "metadata": {},
     "output_type": "execute_result"
    }
   ],
   "source": [
    "list(filter(lambda x:  x<0 , l1 ))"
   ]
  },
  {
   "cell_type": "code",
   "execution_count": 41,
   "id": "87b70307-c805-4c7b-b414-d90703f5944f",
   "metadata": {},
   "outputs": [],
   "source": [
    "l2 = [\"sudh\" , \"krish\" , \"joshton\"]"
   ]
  },
  {
   "cell_type": "code",
   "execution_count": 45,
   "id": "93be679c-9516-4b42-b3ce-24425abe50ac",
   "metadata": {},
   "outputs": [
    {
     "ename": "SyntaxError",
     "evalue": "invalid syntax. Perhaps you forgot a comma? (151447387.py, line 1)",
     "output_type": "error",
     "traceback": [
      "\u001b[1;36m  Cell \u001b[1;32mIn[45], line 1\u001b[1;36m\u001b[0m\n\u001b[1;33m    list(reduce(lambda x : x len(x)<6 , l2))\u001b[0m\n\u001b[1;37m                           ^\u001b[0m\n\u001b[1;31mSyntaxError\u001b[0m\u001b[1;31m:\u001b[0m invalid syntax. Perhaps you forgot a comma?\n"
     ]
    }
   ],
   "source": [
    "list(reduce(lambda x : x len(x)<6 , l2))"
   ]
  },
  {
   "cell_type": "code",
   "execution_count": null,
   "id": "979fab3a-2ea3-4256-b3f3-a55ac41d6346",
   "metadata": {},
   "outputs": [],
   "source": []
  }
 ],
 "metadata": {
  "kernelspec": {
   "display_name": "Python 3 (ipykernel)",
   "language": "python",
   "name": "python3"
  },
  "language_info": {
   "codemirror_mode": {
    "name": "ipython",
    "version": 3
   },
   "file_extension": ".py",
   "mimetype": "text/x-python",
   "name": "python",
   "nbconvert_exporter": "python",
   "pygments_lexer": "ipython3",
   "version": "3.12.2"
  }
 },
 "nbformat": 4,
 "nbformat_minor": 5
}
