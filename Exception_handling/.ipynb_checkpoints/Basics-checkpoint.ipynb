{
 "cells": [
  {
   "cell_type": "markdown",
   "id": "51dd330e-6d09-4c10-a0fb-e76570b2ed25",
   "metadata": {},
   "source": [
    " # Exception handling deals with these events to avoid the program or system crashing,"
   ]
  },
  {
   "cell_type": "code",
   "execution_count": 1,
   "id": "749c4a79-342d-4672-b372-99191e3d8e18",
   "metadata": {},
   "outputs": [
    {
     "ename": "NameError",
     "evalue": "name 'a' is not defined",
     "output_type": "error",
     "traceback": [
      "\u001b[1;31m---------------------------------------------------------------------------\u001b[0m",
      "\u001b[1;31mNameError\u001b[0m                                 Traceback (most recent call last)",
      "Cell \u001b[1;32mIn[1], line 1\u001b[0m\n\u001b[1;32m----> 1\u001b[0m \u001b[43ma\u001b[49m\u001b[38;5;241m/\u001b[39m\u001b[38;5;241m0\u001b[39m\n",
      "\u001b[1;31mNameError\u001b[0m: name 'a' is not defined"
     ]
    }
   ],
   "source": [
    "a/0"
   ]
  },
  {
   "cell_type": "code",
   "execution_count": 3,
   "id": "4c71bdff-8591-4c1e-b6ff-02db1d55b696",
   "metadata": {},
   "outputs": [
    {
     "name": "stdout",
     "output_type": "stream",
     "text": [
      "This is my except block  [Errno 2] No such file or directory: 'test.txt'\n"
     ]
    }
   ],
   "source": [
    "try :\n",
    "    f = open(\"test.txt\" , 'r')\n",
    "    print(5)\n",
    "except Exception as e :\n",
    "    print(\"This is my except block \",e)"
   ]
  },
  {
   "cell_type": "code",
   "execution_count": 5,
   "id": "e4e9d26e-e72c-4029-964e-4c028159d5de",
   "metadata": {},
   "outputs": [
    {
     "name": "stdout",
     "output_type": "stream",
     "text": [
      "5\n"
     ]
    }
   ],
   "source": [
    "try :\n",
    "    f = open(\"test.txt\" , 'w')\n",
    "    f.write(\"hello\")\n",
    "    print(5)\n",
    "    f.close()\n",
    "except Exception as e :\n",
    "    print(\"This is my except block \",e)"
   ]
  },
  {
   "cell_type": "code",
   "execution_count": null,
   "id": "682e3929-8604-4816-b1bd-06ef80df4d98",
   "metadata": {},
   "outputs": [],
   "source": [
    "#this can be same\n",
    "try :\n",
    "    f = open(\"test.txt\" , 'w')\n",
    "    f.write(\"hello\")\n",
    "    print(5)\n",
    "except Exception as e :\n",
    "    print(\"This is my except block \",e)\n",
    "else:\n",
    "    f.close()"
   ]
  }
 ],
 "metadata": {
  "kernelspec": {
   "display_name": "Python 3 (ipykernel)",
   "language": "python",
   "name": "python3"
  },
  "language_info": {
   "codemirror_mode": {
    "name": "ipython",
    "version": 3
   },
   "file_extension": ".py",
   "mimetype": "text/x-python",
   "name": "python",
   "nbconvert_exporter": "python",
   "pygments_lexer": "ipython3",
   "version": "3.12.2"
  }
 },
 "nbformat": 4,
 "nbformat_minor": 5
}
