{
 "cells": [
  {
   "cell_type": "code",
   "execution_count": 5,
   "id": "e5115ff4-6e1b-42e7-a401-1ef8c7ffe425",
   "metadata": {},
   "outputs": [
    {
     "name": "stdin",
     "output_type": "stream",
     "text": [
      "Enter your age: 5\n"
     ]
    }
   ],
   "source": [
    "age = int(input(\"Enter your age:\"))"
   ]
  },
  {
   "cell_type": "code",
   "execution_count": 6,
   "id": "e25f0c8c-ce85-436c-b7d7-f5295dff1cc3",
   "metadata": {},
   "outputs": [],
   "source": [
    "class validate_age(Exception):\n",
    "\n",
    "    def __init__(self , msg):\n",
    "        self.msg = msg"
   ]
  },
  {
   "cell_type": "code",
   "execution_count": 7,
   "id": "6ac30361-e439-4f28-bf31-0aa9ff3bf770",
   "metadata": {},
   "outputs": [],
   "source": [
    "def validateAge(age):\n",
    "    if age<0 :\n",
    "        raise validate_age(\"Entered negative age \")\n",
    "    elif age>200:\n",
    "        raise validate_age(\"Entered age is very very high\")\n",
    "    else:\n",
    "        print(\"Age is Valid\")"
   ]
  },
  {
   "cell_type": "code",
   "execution_count": 10,
   "id": "4604b783-6a98-4947-99e7-e3d5815a9822",
   "metadata": {},
   "outputs": [
    {
     "name": "stdin",
     "output_type": "stream",
     "text": [
      "Enter your age: 100\n"
     ]
    },
    {
     "name": "stdout",
     "output_type": "stream",
     "text": [
      "Age is Valid\n"
     ]
    }
   ],
   "source": [
    "try : \n",
    "    age = int(input(\"Enter your age:\"))\n",
    "    validateAge(age)\n",
    "except validate_age as e:\n",
    "    print(e)"
   ]
  },
  {
   "cell_type": "code",
   "execution_count": null,
   "id": "64db3c7a-ee98-4294-8906-21c8864bf8a4",
   "metadata": {},
   "outputs": [],
   "source": []
  }
 ],
 "metadata": {
  "kernelspec": {
   "display_name": "Python 3 (ipykernel)",
   "language": "python",
   "name": "python3"
  },
  "language_info": {
   "codemirror_mode": {
    "name": "ipython",
    "version": 3
   },
   "file_extension": ".py",
   "mimetype": "text/x-python",
   "name": "python",
   "nbconvert_exporter": "python",
   "pygments_lexer": "ipython3",
   "version": "3.12.2"
  }
 },
 "nbformat": 4,
 "nbformat_minor": 5
}
