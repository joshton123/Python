{
 "cells": [
  {
   "cell_type": "code",
   "execution_count": 3,
   "id": "957249cf-29da-4c46-bb26-0207810dc169",
   "metadata": {},
   "outputs": [
    {
     "name": "stdout",
     "output_type": "stream",
     "text": [
      "division by zero\n"
     ]
    }
   ],
   "source": [
    "# Use always specific instruction\n",
    "try:\n",
    "    10/0\n",
    "except ZeroDivisionError as e:\n",
    "    print(e)\n",
    "except Exception as e:\n",
    "    print(e)"
   ]
  },
  {
   "cell_type": "code",
   "execution_count": 5,
   "id": "a524fffc-9266-4079-b99c-8c39eb01c0bb",
   "metadata": {},
   "outputs": [
    {
     "name": "stdout",
     "output_type": "stream",
     "text": [
      "I am trying to handle zero_Division_error: division by zero\n"
     ]
    }
   ],
   "source": [
    "#print Always a proper message\n",
    "try:\n",
    "    10/0\n",
    "except ZeroDivisionError as e:\n",
    "    print(\"I am trying to handle zero_Division_error:\" ,e)"
   ]
  },
  {
   "cell_type": "code",
   "execution_count": 6,
   "id": "1e42380e-fd0e-45a7-a145-8ff3259b46bb",
   "metadata": {},
   "outputs": [],
   "source": [
    "# alway use log\n",
    "import logging\n",
    "logging.basicConfig(filename = \"error.log\" , level = logging.ERROR)\n",
    "try:\n",
    "    10/0\n",
    "except ZeroDivisionError as e:\n",
    "    logging.error(\"I am trying to handle zero_Division_error {}\".format(e))"
   ]
  },
  {
   "cell_type": "code",
   "execution_count": 7,
   "id": "fd5a19c1-cc86-4e00-ba4c-35db7cc12c9e",
   "metadata": {},
   "outputs": [],
   "source": [
    "# Document all the error\n",
    "# clean up all the resources \n",
    "\n",
    "# like closing the file  f.close() cn be putted inside finally is good pratice\n",
    "# same will apply for the looging shutdown"
   ]
  },
  {
   "cell_type": "code",
   "execution_count": null,
   "id": "6adda07b-874e-4512-b402-1c25aa559c0f",
   "metadata": {},
   "outputs": [],
   "source": []
  }
 ],
 "metadata": {
  "kernelspec": {
   "display_name": "Python 3 (ipykernel)",
   "language": "python",
   "name": "python3"
  },
  "language_info": {
   "codemirror_mode": {
    "name": "ipython",
    "version": 3
   },
   "file_extension": ".py",
   "mimetype": "text/x-python",
   "name": "python",
   "nbconvert_exporter": "python",
   "pygments_lexer": "ipython3",
   "version": "3.12.2"
  }
 },
 "nbformat": 4,
 "nbformat_minor": 5
}
