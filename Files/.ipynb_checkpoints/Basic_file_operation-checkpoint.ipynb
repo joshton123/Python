{
 "cells": [
  {
   "cell_type": "code",
   "execution_count": 15,
   "id": "cbd1c71b-80d7-4a54-b814-0413804795ce",
   "metadata": {},
   "outputs": [],
   "source": [
    "f = open(\"test.txt\" , \"w\")"
   ]
  },
  {
   "cell_type": "code",
   "execution_count": 2,
   "id": "5016eb61-0a1e-4913-85b8-fe21ab4f5a3e",
   "metadata": {},
   "outputs": [
    {
     "data": {
      "text/plain": [
       "'D:\\\\pw_skills\\\\Files'"
      ]
     },
     "execution_count": 2,
     "metadata": {},
     "output_type": "execute_result"
    }
   ],
   "source": [
    "pwd"
   ]
  },
  {
   "cell_type": "code",
   "execution_count": 16,
   "id": "85df5469-310c-4621-b7b6-d62d489f1697",
   "metadata": {},
   "outputs": [
    {
     "data": {
      "text/plain": [
       "30"
      ]
     },
     "execution_count": 16,
     "metadata": {},
     "output_type": "execute_result"
    }
   ],
   "source": [
    "f.write(\"THis is my first file to write\")\n"
   ]
  },
  {
   "cell_type": "code",
   "execution_count": null,
   "id": "28235205-7675-4f30-a21c-42ae7a75131f",
   "metadata": {},
   "outputs": [],
   "source": []
  },
  {
   "cell_type": "code",
   "execution_count": 17,
   "id": "8c9d2478-d4ef-484f-b0f5-ff812aae35f9",
   "metadata": {},
   "outputs": [],
   "source": [
    "f.write(\"This is my file\")\n",
    "f.close()"
   ]
  },
  {
   "cell_type": "code",
   "execution_count": null,
   "id": "f05d7b9a-21f8-4991-b0cb-6f7a0e22deb6",
   "metadata": {},
   "outputs": [],
   "source": []
  },
  {
   "cell_type": "code",
   "execution_count": 18,
   "id": "7827f76f-e7df-4039-ba7f-1600a139674c",
   "metadata": {},
   "outputs": [],
   "source": [
    "f = open(\"test.txt\" , \"r\")"
   ]
  },
  {
   "cell_type": "code",
   "execution_count": 20,
   "id": "f3000e78-661b-4e65-9987-4e5829122a7d",
   "metadata": {},
   "outputs": [
    {
     "data": {
      "text/plain": [
       "'ile'"
      ]
     },
     "execution_count": 20,
     "metadata": {},
     "output_type": "execute_result"
    }
   ],
   "source": [
    "f.read()"
   ]
  },
  {
   "cell_type": "code",
   "execution_count": null,
   "id": "f8dac876-60e2-46c3-80ca-701825fadb9c",
   "metadata": {},
   "outputs": [],
   "source": []
  }
 ],
 "metadata": {
  "kernelspec": {
   "display_name": "Python 3 (ipykernel)",
   "language": "python",
   "name": "python3"
  },
  "language_info": {
   "codemirror_mode": {
    "name": "ipython",
    "version": 3
   },
   "file_extension": ".py",
   "mimetype": "text/x-python",
   "name": "python",
   "nbconvert_exporter": "python",
   "pygments_lexer": "ipython3",
   "version": "3.12.2"
  }
 },
 "nbformat": 4,
 "nbformat_minor": 5
}
