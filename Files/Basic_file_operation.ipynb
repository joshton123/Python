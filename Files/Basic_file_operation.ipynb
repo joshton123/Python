{
 "cells": [
  {
   "cell_type": "code",
   "execution_count": 4,
   "id": "cbd1c71b-80d7-4a54-b814-0413804795ce",
   "metadata": {},
   "outputs": [],
   "source": [
    "f = open(\"test.txt\" , \"w\")"
   ]
  },
  {
   "cell_type": "code",
   "execution_count": 5,
   "id": "5016eb61-0a1e-4913-85b8-fe21ab4f5a3e",
   "metadata": {},
   "outputs": [
    {
     "data": {
      "text/plain": [
       "'D:\\\\pw_skills\\\\Files'"
      ]
     },
     "execution_count": 5,
     "metadata": {},
     "output_type": "execute_result"
    }
   ],
   "source": [
    "pwd"
   ]
  },
  {
   "cell_type": "code",
   "execution_count": 6,
   "id": "85df5469-310c-4621-b7b6-d62d489f1697",
   "metadata": {},
   "outputs": [
    {
     "data": {
      "text/plain": [
       "30"
      ]
     },
     "execution_count": 6,
     "metadata": {},
     "output_type": "execute_result"
    }
   ],
   "source": [
    "f.write(\"THis is my first file to write\")\n"
   ]
  },
  {
   "cell_type": "code",
   "execution_count": null,
   "id": "28235205-7675-4f30-a21c-42ae7a75131f",
   "metadata": {},
   "outputs": [],
   "source": []
  },
  {
   "cell_type": "code",
   "execution_count": 7,
   "id": "8c9d2478-d4ef-484f-b0f5-ff812aae35f9",
   "metadata": {},
   "outputs": [],
   "source": [
    "f.write(\"This is my file\")\n",
    "f.close()"
   ]
  },
  {
   "cell_type": "code",
   "execution_count": null,
   "id": "f05d7b9a-21f8-4991-b0cb-6f7a0e22deb6",
   "metadata": {},
   "outputs": [],
   "source": []
  },
  {
   "cell_type": "code",
   "execution_count": 8,
   "id": "7827f76f-e7df-4039-ba7f-1600a139674c",
   "metadata": {},
   "outputs": [],
   "source": [
    "data = open(\"test1.txt\" , \"w\")"
   ]
  },
  {
   "cell_type": "code",
   "execution_count": 9,
   "id": "7b199763-f5e5-4af3-b3fc-ffade764c356",
   "metadata": {},
   "outputs": [
    {
     "data": {
      "text/plain": [
       "573"
      ]
     },
     "execution_count": 9,
     "metadata": {},
     "output_type": "execute_result"
    }
   ],
   "source": [
    "data.write(\"Lorem Ipsum is simply dummy text of the printing and typesetting industry. Lorem Ipsum has been the industry's standard dummy text ever since the 1500s, when an unknown printer took a galley of type and scrambled it to make a type specimen book. It has survived not only five centuries, but also the leap into electronic typesetting, remaining essentially unchanged. It was popularised in the 1960s with the release of Letraset sheets containing Lorem Ipsum passages, and more recently with desktop publishing software like Aldus PageMaker including versions of Lorem Ipsum\")\n"
   ]
  },
  {
   "cell_type": "code",
   "execution_count": 10,
   "id": "f3000e78-661b-4e65-9987-4e5829122a7d",
   "metadata": {},
   "outputs": [
    {
     "ename": "UnsupportedOperation",
     "evalue": "not readable",
     "output_type": "error",
     "traceback": [
      "\u001b[1;31m---------------------------------------------------------------------------\u001b[0m",
      "\u001b[1;31mUnsupportedOperation\u001b[0m                      Traceback (most recent call last)",
      "Cell \u001b[1;32mIn[10], line 1\u001b[0m\n\u001b[1;32m----> 1\u001b[0m \u001b[43mdata\u001b[49m\u001b[38;5;241;43m.\u001b[39;49m\u001b[43mread\u001b[49m\u001b[43m(\u001b[49m\u001b[43m)\u001b[49m\n",
      "\u001b[1;31mUnsupportedOperation\u001b[0m: not readable"
     ]
    }
   ],
   "source": [
    "data.read()"
   ]
  },
  {
   "cell_type": "code",
   "execution_count": 11,
   "id": "f8dac876-60e2-46c3-80ca-701825fadb9c",
   "metadata": {},
   "outputs": [],
   "source": [
    "data1 = open(\"test.txt\" , \"r\")"
   ]
  },
  {
   "cell_type": "code",
   "execution_count": 12,
   "id": "64f20d99-e10b-40f1-8334-149d29e83cdb",
   "metadata": {},
   "outputs": [
    {
     "name": "stdout",
     "output_type": "stream",
     "text": [
      "THis is my first file to writeThis is my file\n"
     ]
    }
   ],
   "source": [
    "for i in  data1:\n",
    "    print(i)"
   ]
  },
  {
   "cell_type": "code",
   "execution_count": 3,
   "id": "41a63978-1edf-4bc9-9684-1aaf38f58fd4",
   "metadata": {},
   "outputs": [],
   "source": [
    "import os"
   ]
  },
  {
   "cell_type": "code",
   "execution_count": 4,
   "id": "e583a879-1bef-40cc-8c2d-00d236bca380",
   "metadata": {},
   "outputs": [
    {
     "data": {
      "text/plain": [
       "45"
      ]
     },
     "execution_count": 4,
     "metadata": {},
     "output_type": "execute_result"
    }
   ],
   "source": [
    "os.path.getsize(\"test.txt\")"
   ]
  },
  {
   "cell_type": "code",
   "execution_count": 5,
   "id": "3cfe50b6-bbef-4051-9825-e4a874736b5c",
   "metadata": {},
   "outputs": [],
   "source": [
    "os.remove(\"test.txt\")"
   ]
  },
  {
   "cell_type": "code",
   "execution_count": 6,
   "id": "9b372990-c7f6-43a5-af54-ffd6b30a46f4",
   "metadata": {},
   "outputs": [],
   "source": [
    "data = open(\"test2.txt\" , \"w\")"
   ]
  },
  {
   "cell_type": "code",
   "execution_count": 7,
   "id": "f312afa5-931d-40cd-8282-43f04412b0dd",
   "metadata": {},
   "outputs": [
    {
     "data": {
      "text/plain": [
       "573"
      ]
     },
     "execution_count": 7,
     "metadata": {},
     "output_type": "execute_result"
    }
   ],
   "source": [
    "data.write(\"Lorem Ipsum is simply dummy text of the printing and typesetting industry. Lorem Ipsum has been the industry's standard dummy text ever since the 1500s, when an unknown printer took a galley of type and scrambled it to make a type specimen book. It has survived not only five centuries, but also the leap into electronic typesetting, remaining essentially unchanged. It was popularised in the 1960s with the release of Letraset sheets containing Lorem Ipsum passages, and more recently with desktop publishing software like Aldus PageMaker including versions of Lorem Ipsum\")"
   ]
  },
  {
   "cell_type": "code",
   "execution_count": 10,
   "id": "0b5b7618-ec19-4e4d-a3bd-0c223ffb7040",
   "metadata": {},
   "outputs": [],
   "source": [
    "data.close()"
   ]
  },
  {
   "cell_type": "code",
   "execution_count": 11,
   "id": "5e1ae418-645f-4b23-a786-7f322afbe3fe",
   "metadata": {},
   "outputs": [],
   "source": [
    "os.rename(\"test2.txt\" , \"new.txt\")"
   ]
  },
  {
   "cell_type": "code",
   "execution_count": 12,
   "id": "c8f7442c-44ad-4990-9611-049288cb23fb",
   "metadata": {},
   "outputs": [
    {
     "data": {
      "text/plain": [
       "'new1.txt'"
      ]
     },
     "execution_count": 12,
     "metadata": {},
     "output_type": "execute_result"
    }
   ],
   "source": [
    "#to copy\n",
    "import shutil\n",
    "shutil.copy(\"new.txt\" , \"new1.txt\")"
   ]
  },
  {
   "cell_type": "code",
   "execution_count": 14,
   "id": "a6e05d5f-b915-4dcd-b2f4-248c55c4b6f2",
   "metadata": {},
   "outputs": [
    {
     "name": "stdout",
     "output_type": "stream",
     "text": [
      "Lorem Ipsum is simply dummy text of the printing and typesetting industry. Lorem Ipsum has been the industry's standard dummy text ever since the 1500s, when an unknown printer took a galley of type and scrambled it to make a type specimen book. It has survived not only five centuries, but also the leap into electronic typesetting, remaining essentially unchanged. It was popularised in the 1960s with the release of Letraset sheets containing Lorem Ipsum passages, and more recently with desktop publishing software like Aldus PageMaker including versions of Lorem Ipsum\n"
     ]
    }
   ],
   "source": [
    "with open(\"new.txt\" , \"r\") as f:\n",
    "    print(f.read())"
   ]
  },
  {
   "cell_type": "code",
   "execution_count": null,
   "id": "65bd6464-daa3-4d09-a105-0e266f6d10c2",
   "metadata": {},
   "outputs": [],
   "source": []
  }
 ],
 "metadata": {
  "kernelspec": {
   "display_name": "Python 3 (ipykernel)",
   "language": "python",
   "name": "python3"
  },
  "language_info": {
   "codemirror_mode": {
    "name": "ipython",
    "version": 3
   },
   "file_extension": ".py",
   "mimetype": "text/x-python",
   "name": "python",
   "nbconvert_exporter": "python",
   "pygments_lexer": "ipython3",
   "version": "3.12.2"
  }
 },
 "nbformat": 4,
 "nbformat_minor": 5
}
