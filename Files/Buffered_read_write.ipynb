{
 "cells": [
  {
   "cell_type": "code",
   "execution_count": 1,
   "id": "fa516e88-c2c9-4f4e-ab04-91b8527e51d5",
   "metadata": {},
   "outputs": [],
   "source": [
    "import io"
   ]
  },
  {
   "cell_type": "code",
   "execution_count": 5,
   "id": "abcaa510-2a6d-42a1-9612-bce164019566",
   "metadata": {},
   "outputs": [],
   "source": [
    "with open(\"test1.txt\" ,\"wb\") as f:\n",
    "    file = io.BufferedWriter(f)\n",
    "\n",
    "    file.write(b\"This is my first file \\n\")\n",
    "    file.write(b\"Lorem Ipsum is simply dummy text of the printing and typesetting industry. Lorem Ipsum has been the industry's standard dummy text ever since the 1500s, when an unknown printer took a galley of type and scrambled it to make a type specimen book. It has survived not only five centuries, but also the leap into electronic typesetting, remaining essentially unchanged. It was popularised in the 1960s with the release of Letraset sheets containing Lorem Ipsum passages, and more recently with desktop publishing software like Aldus PageMaker including versions of Lorem Ipsum\\n\")\n",
    "    file.write(b\"This is my first file\")\n",
    "    file.flush()"
   ]
  },
  {
   "cell_type": "code",
   "execution_count": 10,
   "id": "463c64ec-1677-4908-a65c-3224422cf35d",
   "metadata": {},
   "outputs": [
    {
     "name": "stdout",
     "output_type": "stream",
     "text": [
      "b'This is my first file \\nLorem Ipsum is simply dummy text of the printing and typesetting industry. Lo'\n"
     ]
    }
   ],
   "source": [
    "with open(\"test1.txt\" , \"rb\") as f:\n",
    "    file = io.BufferedReader(f)\n",
    "    data = file.read(100)\n",
    "    print(data)"
   ]
  },
  {
   "cell_type": "code",
   "execution_count": null,
   "id": "f86e7ed0-7613-41eb-a824-db8eec48c91d",
   "metadata": {},
   "outputs": [],
   "source": []
  }
 ],
 "metadata": {
  "kernelspec": {
   "display_name": "Python 3 (ipykernel)",
   "language": "python",
   "name": "python3"
  },
  "language_info": {
   "codemirror_mode": {
    "name": "ipython",
    "version": 3
   },
   "file_extension": ".py",
   "mimetype": "text/x-python",
   "name": "python",
   "nbconvert_exporter": "python",
   "pygments_lexer": "ipython3",
   "version": "3.12.2"
  }
 },
 "nbformat": 4,
 "nbformat_minor": 5
}
