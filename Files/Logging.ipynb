{
 "cells": [
  {
   "cell_type": "markdown",
   "id": "8e4dec11-d554-4fba-8500-be000bb8de67",
   "metadata": {},
   "source": [
    "# By reviewing logs, you can identify the root cause of problems, such as application errors, hardware failures, or network connectivity issues."
   ]
  },
  {
   "cell_type": "code",
   "execution_count": 1,
   "id": "a7d8cdcc-c64a-448c-93e0-59fe3cf4062a",
   "metadata": {},
   "outputs": [
    {
     "name": "stdout",
     "output_type": "stream",
     "text": [
      "This is my print\n"
     ]
    }
   ],
   "source": [
    "print(\"This is my print\")"
   ]
  },
  {
   "cell_type": "code",
   "execution_count": 2,
   "id": "692964b1-9bab-4f0c-97b8-690290e6e997",
   "metadata": {},
   "outputs": [],
   "source": [
    "import logging"
   ]
  },
  {
   "cell_type": "code",
   "execution_count": 3,
   "id": "27142af0-3957-4a85-a964-94af628f6336",
   "metadata": {},
   "outputs": [],
   "source": [
    "logging.basicConfig(filename = \"test.log\" , level = logging.INFO)"
   ]
  },
  {
   "cell_type": "code",
   "execution_count": 4,
   "id": "79069bea-b357-4a66-a553-777a44b59a54",
   "metadata": {},
   "outputs": [],
   "source": [
    "logging.info(\"Log this line of execution\")"
   ]
  },
  {
   "cell_type": "code",
   "execution_count": 13,
   "id": "d987a9ac-6396-4e5b-a08e-a510f3b51a13",
   "metadata": {},
   "outputs": [],
   "source": [
    "logging.info(\"This is my print-joshton\")\n",
    "logging.shutdown()"
   ]
  },
  {
   "cell_type": "raw",
   "id": "19d63191-3f6a-4383-aab5-89477d967e5f",
   "metadata": {},
   "source": [
    "1. NOTSET\n",
    "2. DEBUG\n",
    "3. INFO\n",
    "4. WARNING\n",
    "5. ERROR\n",
    "6. CRITICAL"
   ]
  },
  {
   "cell_type": "code",
   "execution_count": 14,
   "id": "b3fb4f79-1b9a-4a4d-be9d-a60ad04f8221",
   "metadata": {},
   "outputs": [],
   "source": [
    "logging.basicConfig(filename = \"test1.log\" , level = logging.DEBUG)"
   ]
  },
  {
   "cell_type": "code",
   "execution_count": 15,
   "id": "1d0bc3ab-8712-440c-b0ce-2598509b03d8",
   "metadata": {},
   "outputs": [],
   "source": [
    "logging.debug(\"This is my debug\")"
   ]
  },
  {
   "cell_type": "code",
   "execution_count": 16,
   "id": "455d98fe-b411-477d-a03e-7fbe731f9213",
   "metadata": {},
   "outputs": [],
   "source": [
    "logging.error(\"This is my error\")"
   ]
  },
  {
   "cell_type": "code",
   "execution_count": 17,
   "id": "699a191a-46d8-4818-b9fb-98180d541549",
   "metadata": {},
   "outputs": [],
   "source": [
    "logging.shutdown()"
   ]
  },
  {
   "cell_type": "code",
   "execution_count": 4,
   "id": "a947a1dd-1e14-4367-b368-26a6620eef41",
   "metadata": {},
   "outputs": [],
   "source": [
    "logging.basicConfig(filename = \"test2.log\" , level=logging.DEBUG , format='%(asctime)s %(message)s')"
   ]
  },
  {
   "cell_type": "code",
   "execution_count": 5,
   "id": "a2b887a7-b548-41e6-85ff-aedc8fb3fa4f",
   "metadata": {},
   "outputs": [],
   "source": [
    "logging.info(\"This is my info logging\")\n",
    "logging.error(\"This is my error logging\")\n",
    "logging.critical(\"This is my critical logging\")\n",
    "logging.warning(\"This is my warning logging\")"
   ]
  },
  {
   "cell_type": "code",
   "execution_count": 11,
   "id": "5ff14a78-61f4-47fb-b8fb-80646a1f9e5a",
   "metadata": {},
   "outputs": [],
   "source": [
    "logging.shutdown()"
   ]
  },
  {
   "cell_type": "code",
   "execution_count": 1,
   "id": "e91a17fb-99bf-4ebc-acc1-6591199db179",
   "metadata": {},
   "outputs": [],
   "source": [
    "import logging\n",
    "logging.basicConfig(filename = \"test3.log\" , level=logging.DEBUG , format='%(asctime)s %(name)s %(levelname)s %(message)s')"
   ]
  },
  {
   "cell_type": "code",
   "execution_count": 2,
   "id": "bc6d3815-91d8-4ddd-8cdd-e7f5c7bbd452",
   "metadata": {},
   "outputs": [],
   "source": [
    "logging.info(\"Hello this is info\")"
   ]
  },
  {
   "cell_type": "code",
   "execution_count": 3,
   "id": "0bfcbc29-2dde-4648-879d-0b4db099e2db",
   "metadata": {},
   "outputs": [],
   "source": [
    "l = [1,2,3 , [6,7,8] , \"joshton\" , \"sequeira\"]"
   ]
  },
  {
   "cell_type": "code",
   "execution_count": 10,
   "id": "2048066a-d02e-4bb4-930c-a4d8eea7a613",
   "metadata": {},
   "outputs": [],
   "source": [
    "l1_int = []\n",
    "l2_str = []\n",
    "\n",
    "for i in l:\n",
    "    logging.info(\"We are iterating through our list {}\".format(l))\n",
    "    if type(i)==list:\n",
    "        logging.info(\"We are inside the lsit type \"+str(i))\n",
    "        for j in i:\n",
    "            logging.info(\"We are inside the lsit type inside a for loop-2 \"+str(i))\n",
    "            if type(j) == int:\n",
    "                logging.info(\"checking the if for the int{}\".format(l))\n",
    "                l1_int.append(j)\n",
    "    elif type(i) == int:\n",
    "        logging.info(\"We are inside the elif type and checking it{}\".format(l))\n",
    "        l1_int.append(i)\n",
    "    else:\n",
    "        l2_str.append(i)\n",
    "\n",
    "logging.info(\"DONE !!!\")"
   ]
  },
  {
   "cell_type": "code",
   "execution_count": 9,
   "id": "b6b163d0-40d4-45cb-b2e8-6eddd7cf8f3d",
   "metadata": {},
   "outputs": [
    {
     "data": {
      "text/plain": [
       "[1, 2, 3, 6, 7, 8]"
      ]
     },
     "execution_count": 9,
     "metadata": {},
     "output_type": "execute_result"
    }
   ],
   "source": [
    "l1_int"
   ]
  },
  {
   "cell_type": "code",
   "execution_count": 7,
   "id": "027753c6-f1f9-42e4-838e-e9be702606c5",
   "metadata": {},
   "outputs": [
    {
     "data": {
      "text/plain": [
       "['joshton', 'sequeira']"
      ]
     },
     "execution_count": 7,
     "metadata": {},
     "output_type": "execute_result"
    }
   ],
   "source": [
    "l2_str"
   ]
  },
  {
   "cell_type": "code",
   "execution_count": null,
   "id": "15348db9-5eb6-4c8a-82a6-3675b9a1cd8c",
   "metadata": {},
   "outputs": [],
   "source": []
  }
 ],
 "metadata": {
  "kernelspec": {
   "display_name": "Python 3 (ipykernel)",
   "language": "python",
   "name": "python3"
  },
  "language_info": {
   "codemirror_mode": {
    "name": "ipython",
    "version": 3
   },
   "file_extension": ".py",
   "mimetype": "text/x-python",
   "name": "python",
   "nbconvert_exporter": "python",
   "pygments_lexer": "ipython3",
   "version": "3.12.2"
  }
 },
 "nbformat": 4,
 "nbformat_minor": 5
}
