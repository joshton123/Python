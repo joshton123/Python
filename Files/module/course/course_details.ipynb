{
 "cells": [
  {
   "cell_type": "code",
   "execution_count": 6,
   "id": "97eb3be3-3487-4ee5-8ccf-b63f8752138d",
   "metadata": {},
   "outputs": [
    {
     "ename": "ModuleNotFoundError",
     "evalue": "No module named 'payment'",
     "output_type": "error",
     "traceback": [
      "\u001b[1;31m---------------------------------------------------------------------------\u001b[0m",
      "\u001b[1;31mModuleNotFoundError\u001b[0m                       Traceback (most recent call last)",
      "Cell \u001b[1;32mIn[6], line 11\u001b[0m\n\u001b[0;32m      8\u001b[0m sys\u001b[38;5;241m.\u001b[39mpath\u001b[38;5;241m.\u001b[39minsert(\u001b[38;5;241m0\u001b[39m, abspath(join(current_dir, \u001b[38;5;124m'\u001b[39m\u001b[38;5;124m..\u001b[39m\u001b[38;5;124m'\u001b[39m)))\n\u001b[0;32m     10\u001b[0m \u001b[38;5;66;03m# Importing payment_details from the payment module\u001b[39;00m\n\u001b[1;32m---> 11\u001b[0m \u001b[38;5;28;01mfrom\u001b[39;00m \u001b[38;5;21;01mpayment\u001b[39;00m \u001b[38;5;28;01mimport\u001b[39;00m payment_details\n\u001b[0;32m     13\u001b[0m \u001b[38;5;28;01mdef\u001b[39;00m \u001b[38;5;21mcourse\u001b[39m():\n\u001b[0;32m     14\u001b[0m     \u001b[38;5;28mprint\u001b[39m(\u001b[38;5;124m\"\u001b[39m\u001b[38;5;124mThis is my course details\u001b[39m\u001b[38;5;124m\"\u001b[39m)\n",
      "\u001b[1;31mModuleNotFoundError\u001b[0m: No module named 'payment'"
     ]
    }
   ],
   "source": [
    "import os, sys\n",
    "from os.path import dirname, join, abspath\n",
    "\n",
    "# Fallback when __file__ is not available (e.g., in interactive mode)\n",
    "current_dir = os.path.dirname(os.path.abspath(''))\n",
    "\n",
    "# Insert the parent directory of the current directory into sys.path\n",
    "sys.path.insert(0, abspath(join(current_dir, '..')))\n",
    "\n",
    "# Importing payment_details from the payment module\n",
    "from payment import payment_details\n",
    "\n",
    "def course():\n",
    "    print(\"This is my course details\")\n",
    "\n",
    "# Call the payment function from payment_details\n",
    "payment_details.payment()\n"
   ]
  },
  {
   "cell_type": "code",
   "execution_count": null,
   "id": "ab89411f-f6af-4e85-b149-543310ed1822",
   "metadata": {},
   "outputs": [],
   "source": []
  },
  {
   "cell_type": "code",
   "execution_count": null,
   "id": "b4bff4b9-17da-480d-8193-d3ca82b4700d",
   "metadata": {},
   "outputs": [],
   "source": []
  }
 ],
 "metadata": {
  "kernelspec": {
   "display_name": "Python 3 (ipykernel)",
   "language": "python",
   "name": "python3"
  },
  "language_info": {
   "codemirror_mode": {
    "name": "ipython",
    "version": 3
   },
   "file_extension": ".py",
   "mimetype": "text/x-python",
   "name": "python",
   "nbconvert_exporter": "python",
   "pygments_lexer": "ipython3",
   "version": "3.12.2"
  }
 },
 "nbformat": 4,
 "nbformat_minor": 5
}
