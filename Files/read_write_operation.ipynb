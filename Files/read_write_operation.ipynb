{
 "cells": [
  {
   "cell_type": "code",
   "execution_count": 1,
   "id": "140293c6-a31e-41d3-9f0b-76a67911d611",
   "metadata": {},
   "outputs": [],
   "source": [
    "data = {\n",
    "    \"name\" : \"sudh\",\n",
    "    \"mail_id\" : \"sudh@gmail.com\",\n",
    "    \"phone_no\" : 7895236999,\n",
    "    \"subject\" : [\"Web_dev\" , \"Java\" , \"python\"]\n",
    "}"
   ]
  },
  {
   "cell_type": "code",
   "execution_count": 2,
   "id": "1b03c393-080f-40f9-a38a-d3c136c4971a",
   "metadata": {},
   "outputs": [],
   "source": [
    "import json"
   ]
  },
  {
   "cell_type": "code",
   "execution_count": 4,
   "id": "0d56e261-6b49-48bb-87fc-866860991edc",
   "metadata": {},
   "outputs": [],
   "source": [
    "with open(\"data.json\" , \"w\") as f:\n",
    "    json.dump(data , f)"
   ]
  },
  {
   "cell_type": "code",
   "execution_count": 5,
   "id": "d592b5fa-5c05-473a-b376-8f5484be49e6",
   "metadata": {},
   "outputs": [],
   "source": [
    "with open(\"data.json\" , \"r\") as f:\n",
    "    data1 = json.load(f)"
   ]
  },
  {
   "cell_type": "code",
   "execution_count": 6,
   "id": "892c52ce-f10f-4faf-9961-220eccd3b199",
   "metadata": {},
   "outputs": [
    {
     "data": {
      "text/plain": [
       "{'name': 'sudh',\n",
       " 'mail_id': 'sudh@gmail.com',\n",
       " 'phone_no': 7895236999,\n",
       " 'subject': ['Web_dev', 'Java', 'python']}"
      ]
     },
     "execution_count": 6,
     "metadata": {},
     "output_type": "execute_result"
    }
   ],
   "source": [
    "data1"
   ]
  },
  {
   "cell_type": "code",
   "execution_count": 7,
   "id": "7c4dff8e-7966-4354-8a50-4e73da3d7dd6",
   "metadata": {},
   "outputs": [
    {
     "data": {
      "text/plain": [
       "'sudh'"
      ]
     },
     "execution_count": 7,
     "metadata": {},
     "output_type": "execute_result"
    }
   ],
   "source": [
    "data1[\"name\"]"
   ]
  },
  {
   "cell_type": "code",
   "execution_count": 8,
   "id": "f34403c4-3ea5-44db-a846-04ebf56e3c08",
   "metadata": {},
   "outputs": [
    {
     "data": {
      "text/plain": [
       "'Java'"
      ]
     },
     "execution_count": 8,
     "metadata": {},
     "output_type": "execute_result"
    }
   ],
   "source": [
    "data1[\"subject\"][1]"
   ]
  },
  {
   "cell_type": "code",
   "execution_count": 16,
   "id": "7b8c044f-0b20-40e7-bbfc-e17cf2302882",
   "metadata": {},
   "outputs": [],
   "source": [
    "import csv\n",
    "\n",
    "data = [ [\"name\" , \"email_id\" , \"phone_no\"],\n",
    "         [\"john\" , \"john@mail\" , 498555555],\n",
    "         [\"arun\" , \"arun@mail\" , 899999999],\n",
    "         [\"maye\" , \"maye@mail\" , 999994455]\n",
    "]"
   ]
  },
  {
   "cell_type": "code",
   "execution_count": 22,
   "id": "761e32d9-5db9-481e-be74-b78be7d09d3a",
   "metadata": {},
   "outputs": [],
   "source": [
    "with open(\"data.csv\" ,\"w\") as f:\n",
    "    writer = csv.writer(f)\n",
    "\n",
    "    for i in data:\n",
    "        writer.writerow(i)"
   ]
  },
  {
   "cell_type": "code",
   "execution_count": 24,
   "id": "f8de524a-dc05-42ff-b52a-c790822bfa4d",
   "metadata": {},
   "outputs": [
    {
     "name": "stdout",
     "output_type": "stream",
     "text": [
      "['name', 'email_id', 'phone_no']\n",
      "[]\n",
      "['john', 'john@mail', '498555555']\n",
      "[]\n",
      "['arun', 'arun@mail', '899999999']\n",
      "[]\n",
      "['maye', 'maye@mail', '999994455']\n",
      "[]\n"
     ]
    }
   ],
   "source": [
    "with open(\"data.csv\" , 'r') as f:\n",
    "    read_data = csv.reader(f)\n",
    "\n",
    "    for i in read_data:\n",
    "        print(i)"
   ]
  },
  {
   "cell_type": "code",
   "execution_count": 26,
   "id": "5e6b2938-6ae2-4c93-8f09-f05d668751e8",
   "metadata": {},
   "outputs": [],
   "source": [
    "with open(\"test.bin\" ,\"wb\") as f:\n",
    "    f.write(b\"x01\\x02\")"
   ]
  },
  {
   "cell_type": "code",
   "execution_count": 28,
   "id": "7b8afc30-f27d-4508-aecc-b8187f798592",
   "metadata": {},
   "outputs": [
    {
     "name": "stdout",
     "output_type": "stream",
     "text": [
      "b'x01\\x02'\n"
     ]
    }
   ],
   "source": [
    "with open(\"test.bin\" ,\"rb\") as f:\n",
    "    print(f.read())"
   ]
  },
  {
   "cell_type": "code",
   "execution_count": null,
   "id": "6aad1d47-293a-48fc-b155-a9cb882884bc",
   "metadata": {},
   "outputs": [],
   "source": []
  }
 ],
 "metadata": {
  "kernelspec": {
   "display_name": "Python 3 (ipykernel)",
   "language": "python",
   "name": "python3"
  },
  "language_info": {
   "codemirror_mode": {
    "name": "ipython",
    "version": 3
   },
   "file_extension": ".py",
   "mimetype": "text/x-python",
   "name": "python",
   "nbconvert_exporter": "python",
   "pygments_lexer": "ipython3",
   "version": "3.12.2"
  }
 },
 "nbformat": 4,
 "nbformat_minor": 5
}
