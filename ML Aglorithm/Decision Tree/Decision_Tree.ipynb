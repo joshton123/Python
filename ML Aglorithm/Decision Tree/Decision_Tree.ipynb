{
 "cells": [
  {
   "cell_type": "markdown",
   "id": "ad9c90dd-d29b-4c49-9ec3-229046c7350b",
   "metadata": {},
   "source": [
    "# Decision Tree\n",
    "1. Decision tree classifier\n",
    "    - ID3 node will be more than 2\n",
    "    - CART node will be 2\n",
    "2. Decision tree regressor\n",
    "\n",
    "\n",
    "### Purity check: Pure split or Impure split\n",
    "    * it has pre split or impure split\n",
    "        - Entropy : whenever datset is small\n",
    "        - Gini impurity : when it is huge"
   ]
  },
  {
   "cell_type": "markdown",
   "id": "a39b0777-72b8-40e2-ae8f-a1f9398af22b",
   "metadata": {},
   "source": [
    "#### post-pruning and pre-pruning\n",
    "pre-pruning or early stopping involves stopping the tree before it has completed classifying the training set and post-pruning refers to pruning the tree after it has finished\n",
    "\n",
    "* it is used to reduce overfitting"
   ]
  }
 ],
 "metadata": {
  "kernelspec": {
   "display_name": "Python 3 (ipykernel)",
   "language": "python",
   "name": "python3"
  },
  "language_info": {
   "codemirror_mode": {
    "name": "ipython",
    "version": 3
   },
   "file_extension": ".py",
   "mimetype": "text/x-python",
   "name": "python",
   "nbconvert_exporter": "python",
   "pygments_lexer": "ipython3",
   "version": "3.12.2"
  }
 },
 "nbformat": 4,
 "nbformat_minor": 5
}
