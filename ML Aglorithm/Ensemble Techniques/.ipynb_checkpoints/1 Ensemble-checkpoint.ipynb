{
 "cells": [
  {
   "cell_type": "markdown",
   "id": "98ca0e8d-41fd-4057-911b-4c040a214fec",
   "metadata": {},
   "source": [
    "## Ensemble Techniques\n",
    "- It is combining multiple model -> train -> prediction\n",
    "\n",
    "##### Two types\n",
    "1. Bagging\n",
    "   - Random forest classifier and regressor\n",
    "   - we use bootstrap aggregation\n",
    "\n",
    "### Random forest classifier and regressor\n",
    "- we use row_sampling + feature_sampling\n",
    "- For classifier it is majority voting classifier\n",
    "- For regression it is average output of the model\n",
    "\n",
    "2. Boosting\n",
    "   - Adaboost , Graient boost , Xgboost\n",
    "\n",
    "### why should we use random forest instead of DT?\n",
    "- training accuary high == low bias\n",
    "- test datais low == high variance\n",
    "- We use multiple DT in this and thier combination is used \n",
    "\n",
    "### Out-of-bag Score\n",
    "- when we miss data while doing the model when we train and test that time we use oob score which is set true\n",
    "- then the misssed data will be validation data"
   ]
  },
  {
   "cell_type": "code",
   "execution_count": null,
   "id": "57b55a0a-8ff3-402b-a275-8e6cb8f237a7",
   "metadata": {},
   "outputs": [],
   "source": []
  }
 ],
 "metadata": {
  "kernelspec": {
   "display_name": "Python 3 (ipykernel)",
   "language": "python",
   "name": "python3"
  },
  "language_info": {
   "codemirror_mode": {
    "name": "ipython",
    "version": 3
   },
   "file_extension": ".py",
   "mimetype": "text/x-python",
   "name": "python",
   "nbconvert_exporter": "python",
   "pygments_lexer": "ipython3",
   "version": "3.12.2"
  }
 },
 "nbformat": 4,
 "nbformat_minor": 5
}
