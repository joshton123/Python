{
 "cells": [
  {
   "cell_type": "markdown",
   "id": "c49268f2-55fd-4f79-ac43-aa7286793c4b",
   "metadata": {},
   "source": [
    "### Boosting Aglorithm\n",
    "1. AdaBoost\n",
    "2. Gradient Boost\n",
    "3. Xgboost\n",
    "\n",
    "#### Boosting (Desion tree Sequentilly connected)\n",
    "- First DT is weak-learner ( it has learn nothing from the dataset)\n",
    "    * Bagging (Majority voting) [Average of all outputs]\n",
    "    * Boosting  (Assignment of weights to the weak-learner)\n",
    "- Last DT is Strong-learner"
   ]
  },
  {
   "cell_type": "markdown",
   "id": "437d2398-ee46-40c9-b541-7ede2cd0b369",
   "metadata": {},
   "source": [
    "### Adaboost Classifier\n",
    "#### steps\n",
    "1. We create a DT stump and we select the best stump\n",
    "2. Then the sample weight is assigned\n",
    "3. Sum of total error and performanace of stump\n",
    "4. Performance of the stump\n",
    "5. Update the weight for correctly and incorrectlty classified points\n",
    "6. Normalized weights computation and assigning Bias\n",
    "7. Select the datapoint for the next stump (iteraction process selecting random values betweeb 0 and 1)\n",
    "8. Final prediction"
   ]
  },
  {
   "cell_type": "markdown",
   "id": "690acf73-d2cc-432d-976a-31bc5262d79f",
   "metadata": {},
   "source": [
    "### Gradient-Boosting Algorithm\n",
    "1. Classification\n",
    "2. Regression\n",
    "    - Creates a Base Model\n",
    "    - Compute Residuals, Error\n",
    "    - Construct a DT Consider input xi and output Ri"
   ]
  },
  {
   "cell_type": "markdown",
   "id": "f0504151-a0c3-4463-b922-a3733ad7715d",
   "metadata": {},
   "source": [
    "### XgBoost Ml Algorithm Classification\n",
    "#### Steps\n",
    "1. construct the base model\n",
    "2. Construct the decision tree with root node\n",
    "3. Calculate Similarity Weights\n",
    "4. Calculate gain"
   ]
  },
  {
   "cell_type": "markdown",
   "id": "e3285a01-3665-4d96-8b94-5a372cdaf208",
   "metadata": {},
   "source": [
    "### XgBoost Ml Algorithm Regression\n",
    "#### Steps\n",
    "1. construct the base model\n",
    "2. Residual computation\n",
    "3. Construct the decision tree using {Xi,Ri}\n"
   ]
  }
 ],
 "metadata": {
  "kernelspec": {
   "display_name": "Python 3 (ipykernel)",
   "language": "python",
   "name": "python3"
  },
  "language_info": {
   "codemirror_mode": {
    "name": "ipython",
    "version": 3
   },
   "file_extension": ".py",
   "mimetype": "text/x-python",
   "name": "python",
   "nbconvert_exporter": "python",
   "pygments_lexer": "ipython3",
   "version": "3.12.2"
  }
 },
 "nbformat": 4,
 "nbformat_minor": 5
}
