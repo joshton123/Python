{
 "cells": [
  {
   "cell_type": "markdown",
   "id": "25afc1ea-e0fb-453e-a868-7429dfbb5d0c",
   "metadata": {},
   "source": [
    "# PCA"
   ]
  },
  {
   "cell_type": "markdown",
   "id": "583a0751-5adc-455c-92d5-9d8963fe8329",
   "metadata": {},
   "source": [
    "#### Curse of Dimensionality:\n",
    "- a term used to describe the challenges that arise when analyzing and organizing data that has a large number of dimensions.\n",
    "- two ways ti remove the curse of dimensionality\n",
    "  * Feature selection\n",
    "  * Dimensionality reduction (Feature extraction) ==> PCA"
   ]
  },
  {
   "cell_type": "markdown",
   "id": "b48c73b4-8093-4ff1-940b-a41a54db953e",
   "metadata": {},
   "source": [
    "### PCA Dimension Reduction\n",
    "- Aim -> 2d to 1d\n",
    "- it is done by feature selection or feature extraction"
   ]
  },
  {
   "cell_type": "code",
   "execution_count": null,
   "id": "2412f5c6-ae49-46cf-908f-1b5081b20564",
   "metadata": {},
   "outputs": [],
   "source": []
  }
 ],
 "metadata": {
  "kernelspec": {
   "display_name": "Python 3 (ipykernel)",
   "language": "python",
   "name": "python3"
  },
  "language_info": {
   "codemirror_mode": {
    "name": "ipython",
    "version": 3
   },
   "file_extension": ".py",
   "mimetype": "text/x-python",
   "name": "python",
   "nbconvert_exporter": "python",
   "pygments_lexer": "ipython3",
   "version": "3.12.2"
  }
 },
 "nbformat": 4,
 "nbformat_minor": 5
}
