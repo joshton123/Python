{
 "cells": [
  {
   "cell_type": "markdown",
   "id": "f7b38a35-4ec6-43d5-8413-3a92e1b204b7",
   "metadata": {},
   "source": [
    "### ARIMA (Auto regression integrated moving average)"
   ]
  },
  {
   "cell_type": "markdown",
   "id": "050c5083-1211-44f2-a4df-d411e450d612",
   "metadata": {},
   "source": [
    "ARIMA stands for Autoregressive Integrated Moving Average, a statistical model used to analyze time series data and forecast future values: \n",
    "- Autoregressive: Uses a linear combination of past values to forecast future values \n",
    "- Integrated: Accounts for the rate of change in the data \n",
    "- Moving average: Uses the average of data within a specific timeframe to identify short-term trends \n",
    "\n",
    "ARIMA is a popular model for time series forecasting. It's used in statistics and econometrics to measure events that occur over time. \n",
    "                        \n",
    "ARIMA models are made up of three parameters:\n",
    "- p: Determines the number of lagging data points to use in the model\n",
    "- q: Specifies the number of lagging error terms to use in the prediction model\n",
    "- d: Describes the order of differencing "
   ]
  },
  {
   "cell_type": "markdown",
   "id": "08f99621-bcd5-4286-87e4-6790deb99587",
   "metadata": {},
   "source": [
    "#### SARIMA stands for Seasonal AutoRegressive Integrated Moving Average, and it's a statistical model used to forecast and analyze time series data that exhibits seasonal patterns"
   ]
  },
  {
   "cell_type": "markdown",
   "id": "dba4562e-d72b-42ef-ac05-694a520144de",
   "metadata": {},
   "source": [
    "SARIMAX (Seasonal Autoregressive Integrated Moving Average with Exogenous Regressors) is a statistical model used to forecast and analyze time series data. It's a generalization of the ARIMA model, but adds parameters for seasonal variations and external data, called exogenous variables. \n",
    "\n",
    "SARIMAX is used in many industries, including finance, economics, healthcare, and mobility, to predict future values based on historical data. It's known for its excellent forecasting performance.\n",
    "\n",
    "Here are some components of the SARIMAX model: \n",
    "* Autoregression (AR): Uses past values of the time series to predict current values \n",
    "* Moving average (MA): Models past errors in predictions \n",
    "* Integration (I): Makes the time series stationary \n",
    "* Exogenous variables: External data that can be used in the forecast, such as gold price, oil price, outdoor temperature, or exchange rate"
   ]
  },
  {
   "cell_type": "code",
   "execution_count": null,
   "id": "774eb6dd-c9ea-41ed-9a03-9efe9a4e2463",
   "metadata": {},
   "outputs": [],
   "source": []
  }
 ],
 "metadata": {
  "kernelspec": {
   "display_name": "Python 3 (ipykernel)",
   "language": "python",
   "name": "python3"
  },
  "language_info": {
   "codemirror_mode": {
    "name": "ipython",
    "version": 3
   },
   "file_extension": ".py",
   "mimetype": "text/x-python",
   "name": "python",
   "nbconvert_exporter": "python",
   "pygments_lexer": "ipython3",
   "version": "3.12.2"
  }
 },
 "nbformat": 4,
 "nbformat_minor": 5
}
