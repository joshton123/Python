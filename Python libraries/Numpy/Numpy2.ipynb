{
 "cells": [
  {
   "cell_type": "markdown",
   "id": "42443024-274b-4f8d-8d53-659c2810440b",
   "metadata": {},
   "source": [
    "# Array Manipulation"
   ]
  },
  {
   "cell_type": "code",
   "execution_count": 1,
   "id": "4c8354ac-3a64-4911-bd1b-6a4df77604c8",
   "metadata": {},
   "outputs": [],
   "source": [
    "import numpy as np"
   ]
  },
  {
   "cell_type": "code",
   "execution_count": 5,
   "id": "132f1945-6e5f-416f-a9eb-7f249fde26d7",
   "metadata": {},
   "outputs": [],
   "source": [
    "arr = np.random.randint(1,10,(3,4))"
   ]
  },
  {
   "cell_type": "code",
   "execution_count": 6,
   "id": "f0c94b2d-b3b2-4018-9016-fd69711eb6f4",
   "metadata": {},
   "outputs": [
    {
     "data": {
      "text/plain": [
       "array([[7, 6, 6, 7],\n",
       "       [3, 3, 5, 5],\n",
       "       [9, 4, 5, 1]])"
      ]
     },
     "execution_count": 6,
     "metadata": {},
     "output_type": "execute_result"
    }
   ],
   "source": [
    "arr"
   ]
  },
  {
   "cell_type": "code",
   "execution_count": 7,
   "id": "99f7f884-3c29-4be8-8b2b-8b05df42bca5",
   "metadata": {},
   "outputs": [
    {
     "data": {
      "text/plain": [
       "array([[7, 6],\n",
       "       [6, 7],\n",
       "       [3, 3],\n",
       "       [5, 5],\n",
       "       [9, 4],\n",
       "       [5, 1]])"
      ]
     },
     "execution_count": 7,
     "metadata": {},
     "output_type": "execute_result"
    }
   ],
   "source": [
    "arr.reshape(6,2)"
   ]
  },
  {
   "cell_type": "code",
   "execution_count": 8,
   "id": "a77cd43e-a527-4921-a49e-915942624491",
   "metadata": {},
   "outputs": [
    {
     "data": {
      "text/plain": [
       "array([[7, 6, 6, 7, 3, 3],\n",
       "       [5, 5, 9, 4, 5, 1]])"
      ]
     },
     "execution_count": 8,
     "metadata": {},
     "output_type": "execute_result"
    }
   ],
   "source": [
    "arr.reshape(2,6)"
   ]
  },
  {
   "cell_type": "code",
   "execution_count": 10,
   "id": "c5815d52-e59c-4243-93de-e0b38daeb944",
   "metadata": {},
   "outputs": [
    {
     "data": {
      "text/plain": [
       "array([[7, 6, 6, 7],\n",
       "       [3, 3, 5, 5],\n",
       "       [9, 4, 5, 1]])"
      ]
     },
     "execution_count": 10,
     "metadata": {},
     "output_type": "execute_result"
    }
   ],
   "source": [
    "arr"
   ]
  },
  {
   "cell_type": "code",
   "execution_count": 12,
   "id": "529c8328-a481-4dbd-bc04-51b7ce0ec0e2",
   "metadata": {},
   "outputs": [
    {
     "data": {
      "text/plain": [
       "array([[7, 3, 9],\n",
       "       [6, 3, 4],\n",
       "       [6, 5, 5],\n",
       "       [7, 5, 1]])"
      ]
     },
     "execution_count": 12,
     "metadata": {},
     "output_type": "execute_result"
    }
   ],
   "source": [
    "# doing transpose\n",
    "arr.T"
   ]
  },
  {
   "cell_type": "code",
   "execution_count": 14,
   "id": "a90c9920-3373-48f5-8d02-5cab319a1e66",
   "metadata": {},
   "outputs": [
    {
     "data": {
      "text/plain": [
       "array([7, 6, 6, 7, 3, 3, 5, 5, 9, 4, 5, 1])"
      ]
     },
     "execution_count": 14,
     "metadata": {},
     "output_type": "execute_result"
    }
   ],
   "source": [
    "arr.flatten()  # It does in single lone"
   ]
  },
  {
   "cell_type": "code",
   "execution_count": 15,
   "id": "e2b7622f-17a8-435b-820d-93df8509d2b4",
   "metadata": {},
   "outputs": [],
   "source": [
    "arr1 = np.array([1,2,3,4,5])"
   ]
  },
  {
   "cell_type": "code",
   "execution_count": 16,
   "id": "ecaa0f77-0da0-493b-b9a1-322d707cfb26",
   "metadata": {},
   "outputs": [
    {
     "data": {
      "text/plain": [
       "1"
      ]
     },
     "execution_count": 16,
     "metadata": {},
     "output_type": "execute_result"
    }
   ],
   "source": [
    "arr1.ndim"
   ]
  },
  {
   "cell_type": "code",
   "execution_count": 17,
   "id": "f4bde5d0-b834-469a-8137-d87583819861",
   "metadata": {},
   "outputs": [
    {
     "data": {
      "text/plain": [
       "array([[1],\n",
       "       [2],\n",
       "       [3],\n",
       "       [4],\n",
       "       [5]])"
      ]
     },
     "execution_count": 17,
     "metadata": {},
     "output_type": "execute_result"
    }
   ],
   "source": [
    "np.expand_dims(arr1 , axis=1)"
   ]
  },
  {
   "cell_type": "code",
   "execution_count": 19,
   "id": "6afa5c3f-a66c-4343-9bd6-c76d958acbd4",
   "metadata": {},
   "outputs": [
    {
     "data": {
      "text/plain": [
       "array([[7, 6, 6, 7],\n",
       "       [3, 3, 5, 5],\n",
       "       [9, 4, 5, 1]])"
      ]
     },
     "execution_count": 19,
     "metadata": {},
     "output_type": "execute_result"
    }
   ],
   "source": [
    "arr"
   ]
  },
  {
   "cell_type": "code",
   "execution_count": 20,
   "id": "3321bfe9-4cef-40a1-8c7a-ad753ba32d89",
   "metadata": {},
   "outputs": [
    {
     "data": {
      "text/plain": [
       "array([[7, 6, 6, 7],\n",
       "       [3, 3, 5, 5],\n",
       "       [9, 4, 5, 1]])"
      ]
     },
     "execution_count": 20,
     "metadata": {},
     "output_type": "execute_result"
    }
   ],
   "source": [
    "np.squeeze(arr) "
   ]
  },
  {
   "cell_type": "code",
   "execution_count": 23,
   "id": "7df2e356-3418-4a7d-9dbc-c3f1f002f67e",
   "metadata": {},
   "outputs": [
    {
     "data": {
      "text/plain": [
       "array([[1],\n",
       "       [2],\n",
       "       [3]])"
      ]
     },
     "execution_count": 23,
     "metadata": {},
     "output_type": "execute_result"
    }
   ],
   "source": [
    "data = np.array([[1],[2],[3]])\n",
    "data"
   ]
  },
  {
   "cell_type": "code",
   "execution_count": 27,
   "id": "d573bbab-65f8-4bed-98ff-642a5ad83a17",
   "metadata": {},
   "outputs": [],
   "source": [
    "arr2 = np.squeeze(data)"
   ]
  },
  {
   "cell_type": "code",
   "execution_count": 29,
   "id": "fc63a6e2-5385-4a79-8e4d-542c79a65976",
   "metadata": {},
   "outputs": [
    {
     "data": {
      "text/plain": [
       "array([7, 6, 6, 7, 3, 3, 5, 5, 9, 4, 5, 1])"
      ]
     },
     "execution_count": 29,
     "metadata": {},
     "output_type": "execute_result"
    }
   ],
   "source": [
    "np.repeat(arr , 1)"
   ]
  },
  {
   "cell_type": "code",
   "execution_count": 30,
   "id": "e41b541d-c01a-4fd1-8c17-dc5d16d1c47c",
   "metadata": {},
   "outputs": [],
   "source": [
    "# Numpy - Binary Operation"
   ]
  },
  {
   "cell_type": "code",
   "execution_count": 32,
   "id": "c14b5283-884e-4cf7-900d-a406ed7a3182",
   "metadata": {},
   "outputs": [],
   "source": [
    "arr1 = np.random.randint(1,10, (3,4))\n",
    "arr2 = np.random.randint(1,10, (3,4))"
   ]
  },
  {
   "cell_type": "code",
   "execution_count": 37,
   "id": "c79ace0d-c6de-4bb2-9f8e-b7687f677cf4",
   "metadata": {},
   "outputs": [
    {
     "data": {
      "text/plain": [
       "array([[1, 6, 1, 9],\n",
       "       [7, 5, 8, 8],\n",
       "       [1, 1, 1, 5]])"
      ]
     },
     "execution_count": 37,
     "metadata": {},
     "output_type": "execute_result"
    }
   ],
   "source": [
    "arr1"
   ]
  },
  {
   "cell_type": "code",
   "execution_count": 38,
   "id": "d294e5f6-0508-4186-a619-d0b6b1059c9e",
   "metadata": {},
   "outputs": [
    {
     "data": {
      "text/plain": [
       "array([[6, 7, 9, 2],\n",
       "       [4, 5, 6, 2],\n",
       "       [4, 9, 3, 3]])"
      ]
     },
     "execution_count": 38,
     "metadata": {},
     "output_type": "execute_result"
    }
   ],
   "source": [
    "arr2"
   ]
  },
  {
   "cell_type": "code",
   "execution_count": 39,
   "id": "417d4102-417f-4c99-b65e-29acb55ec8e5",
   "metadata": {},
   "outputs": [
    {
     "data": {
      "text/plain": [
       "array([[ -2,  -7,  -2, -10],\n",
       "       [ -8,  -6,  -9,  -9],\n",
       "       [ -2,  -2,  -2,  -6]])"
      ]
     },
     "execution_count": 39,
     "metadata": {},
     "output_type": "execute_result"
    }
   ],
   "source": [
    "~arr1"
   ]
  },
  {
   "cell_type": "code",
   "execution_count": 40,
   "id": "b9525330-68b4-4610-8702-7360c7c7e935",
   "metadata": {},
   "outputs": [
    {
     "data": {
      "text/plain": [
       "array([[ 7,  7,  9, 11],\n",
       "       [ 7,  5, 14, 10],\n",
       "       [ 5,  9,  3,  7]])"
      ]
     },
     "execution_count": 40,
     "metadata": {},
     "output_type": "execute_result"
    }
   ],
   "source": [
    "arr1 | arr2"
   ]
  },
  {
   "cell_type": "code",
   "execution_count": 41,
   "id": "a28f27ff-c409-4c28-8cc3-69baa5c42f3e",
   "metadata": {},
   "outputs": [
    {
     "data": {
      "text/plain": [
       "array([[False, False, False,  True],\n",
       "       [ True, False,  True,  True],\n",
       "       [False, False, False,  True]])"
      ]
     },
     "execution_count": 41,
     "metadata": {},
     "output_type": "execute_result"
    }
   ],
   "source": [
    "arr1 > arr2"
   ]
  },
  {
   "cell_type": "code",
   "execution_count": 42,
   "id": "2c37c59e-671f-4961-a2f4-fdd00780aa75",
   "metadata": {},
   "outputs": [],
   "source": [
    "# Numpy - String Function"
   ]
  },
  {
   "cell_type": "code",
   "execution_count": 51,
   "id": "ccf4b94b-cc2f-46af-973f-0dff60b81874",
   "metadata": {},
   "outputs": [],
   "source": [
    "arr = np.array(['sudh' , 'akumar'])"
   ]
  },
  {
   "cell_type": "code",
   "execution_count": 52,
   "id": "72643b1d-983f-46d1-8a51-721abb699aa2",
   "metadata": {},
   "outputs": [
    {
     "data": {
      "text/plain": [
       "array(['SUDH', 'AKUMAR'], dtype='<U6')"
      ]
     },
     "execution_count": 52,
     "metadata": {},
     "output_type": "execute_result"
    }
   ],
   "source": [
    "np.char.upper(arr)"
   ]
  },
  {
   "cell_type": "code",
   "execution_count": 53,
   "id": "6b628c48-7443-4e09-b9fc-2077c72aa5c3",
   "metadata": {},
   "outputs": [
    {
     "data": {
      "text/plain": [
       "array(['Sudh', 'Akumar'], dtype='<U6')"
      ]
     },
     "execution_count": 53,
     "metadata": {},
     "output_type": "execute_result"
    }
   ],
   "source": [
    "np.char.title(arr)"
   ]
  },
  {
   "cell_type": "code",
   "execution_count": 54,
   "id": "d295c0e6-7ed2-4769-a0fe-e86b420cfe67",
   "metadata": {},
   "outputs": [
    {
     "data": {
      "text/plain": [
       "array(['Sudh', 'Akumar'], dtype='<U6')"
      ]
     },
     "execution_count": 54,
     "metadata": {},
     "output_type": "execute_result"
    }
   ],
   "source": [
    "np.char.capitalize(arr)"
   ]
  },
  {
   "cell_type": "code",
   "execution_count": 55,
   "id": "e75b4000-dd2e-4eb3-a0b9-756c0aa772f6",
   "metadata": {},
   "outputs": [],
   "source": [
    "# Numpy - Mathematical Function"
   ]
  },
  {
   "cell_type": "code",
   "execution_count": 56,
   "id": "9eed5f86-39b3-458b-ac6f-767ffdab7939",
   "metadata": {},
   "outputs": [
    {
     "data": {
      "text/plain": [
       "array([[1, 6, 1, 9],\n",
       "       [7, 5, 8, 8],\n",
       "       [1, 1, 1, 5]])"
      ]
     },
     "execution_count": 56,
     "metadata": {},
     "output_type": "execute_result"
    }
   ],
   "source": [
    "arr1 "
   ]
  },
  {
   "cell_type": "code",
   "execution_count": 57,
   "id": "9f8e4265-f056-4748-9587-6a66ecb3e7e4",
   "metadata": {},
   "outputs": [
    {
     "data": {
      "text/plain": [
       "array([[ 0.84147098, -0.2794155 ,  0.84147098,  0.41211849],\n",
       "       [ 0.6569866 , -0.95892427,  0.98935825,  0.98935825],\n",
       "       [ 0.84147098,  0.84147098,  0.84147098, -0.95892427]])"
      ]
     },
     "execution_count": 57,
     "metadata": {},
     "output_type": "execute_result"
    }
   ],
   "source": [
    "np.sin(arr1)"
   ]
  },
  {
   "cell_type": "code",
   "execution_count": 58,
   "id": "c86ecc19-027a-468a-8a8b-43f44fbf5f6f",
   "metadata": {},
   "outputs": [
    {
     "data": {
      "text/plain": [
       "array([[ 1, 36,  1, 81],\n",
       "       [49, 25, 64, 64],\n",
       "       [ 1,  1,  1, 25]], dtype=int32)"
      ]
     },
     "execution_count": 58,
     "metadata": {},
     "output_type": "execute_result"
    }
   ],
   "source": [
    "np.power(arr1,2)"
   ]
  },
  {
   "cell_type": "code",
   "execution_count": 59,
   "id": "09207397-06c6-488e-a70f-2216d3e0d242",
   "metadata": {},
   "outputs": [
    {
     "data": {
      "text/plain": [
       "4.416666666666667"
      ]
     },
     "execution_count": 59,
     "metadata": {},
     "output_type": "execute_result"
    }
   ],
   "source": [
    "np.mean(arr1)"
   ]
  },
  {
   "cell_type": "code",
   "execution_count": 60,
   "id": "0bcb8099-ef03-4522-a0c7-89253ad90e9b",
   "metadata": {},
   "outputs": [],
   "source": [
    "# Sort Search Count"
   ]
  },
  {
   "cell_type": "code",
   "execution_count": 1,
   "id": "61f1be9c-972b-4884-9ec6-d704877709ea",
   "metadata": {},
   "outputs": [],
   "source": [
    "import numpy as np"
   ]
  },
  {
   "cell_type": "code",
   "execution_count": 2,
   "id": "661859ab-e9fd-4c5c-8540-c3a1d90b4a03",
   "metadata": {},
   "outputs": [],
   "source": [
    "arr = np.array([4,3,4,5,6,72,3,3,455,5,6,6])"
   ]
  },
  {
   "cell_type": "code",
   "execution_count": 3,
   "id": "2425ddb8-9227-496a-8fea-24d9ae796325",
   "metadata": {},
   "outputs": [
    {
     "data": {
      "text/plain": [
       "array([  4,   3,   4,   5,   6,  72,   3,   3, 455,   5,   6,   6])"
      ]
     },
     "execution_count": 3,
     "metadata": {},
     "output_type": "execute_result"
    }
   ],
   "source": [
    "arr"
   ]
  },
  {
   "cell_type": "code",
   "execution_count": 4,
   "id": "90f3cf90-586e-44c0-95c4-d180e71148b2",
   "metadata": {},
   "outputs": [
    {
     "data": {
      "text/plain": [
       "array([  3,   3,   3,   4,   4,   5,   5,   6,   6,   6,  72, 455])"
      ]
     },
     "execution_count": 4,
     "metadata": {},
     "output_type": "execute_result"
    }
   ],
   "source": [
    "np.sort(arr)"
   ]
  },
  {
   "cell_type": "code",
   "execution_count": 6,
   "id": "1e3b57f5-7ec0-4b26-8907-502b9e9a5ae3",
   "metadata": {},
   "outputs": [
    {
     "data": {
      "text/plain": [
       "8"
      ]
     },
     "execution_count": 6,
     "metadata": {},
     "output_type": "execute_result"
    }
   ],
   "source": [
    "np.searchsorted(arr , 5)"
   ]
  },
  {
   "cell_type": "code",
   "execution_count": 7,
   "id": "fd6f450a-a966-46d4-9b0e-edbfa4c90983",
   "metadata": {},
   "outputs": [],
   "source": [
    "arr1 = np.array([0,345,454,0,0,0,0,0])"
   ]
  },
  {
   "cell_type": "code",
   "execution_count": 8,
   "id": "c37ea5ad-64e2-47ae-b185-170e1f7334bf",
   "metadata": {},
   "outputs": [
    {
     "data": {
      "text/plain": [
       "2"
      ]
     },
     "execution_count": 8,
     "metadata": {},
     "output_type": "execute_result"
    }
   ],
   "source": [
    "np.count_nonzero(arr1)"
   ]
  },
  {
   "cell_type": "code",
   "execution_count": 10,
   "id": "9cce9e0c-26e5-401c-ab4e-f130c8d0798e",
   "metadata": {},
   "outputs": [
    {
     "data": {
      "text/plain": [
       "array([  4,   3,   4,   5,   6,  72,   3,   3, 455,   5,   6,   6])"
      ]
     },
     "execution_count": 10,
     "metadata": {},
     "output_type": "execute_result"
    }
   ],
   "source": [
    "arr"
   ]
  },
  {
   "cell_type": "code",
   "execution_count": 11,
   "id": "c811ad04-da99-4b3f-adfb-edb3ecc58df4",
   "metadata": {},
   "outputs": [
    {
     "data": {
      "text/plain": [
       "(array([5, 8], dtype=int64),)"
      ]
     },
     "execution_count": 11,
     "metadata": {},
     "output_type": "execute_result"
    }
   ],
   "source": [
    "np.where(arr>6)"
   ]
  },
  {
   "cell_type": "code",
   "execution_count": 15,
   "id": "6c9a5d67-fd6e-4c56-bab8-af1c5397908b",
   "metadata": {},
   "outputs": [
    {
     "data": {
      "text/plain": [
       "array([ 72, 455])"
      ]
     },
     "execution_count": 15,
     "metadata": {},
     "output_type": "execute_result"
    }
   ],
   "source": [
    "arr2 = np.extract(arr>6 , arr)\n",
    "arr2"
   ]
  },
  {
   "cell_type": "code",
   "execution_count": 16,
   "id": "38c7fbdf-fdf4-4437-bdf9-f4ac56377593",
   "metadata": {},
   "outputs": [],
   "source": [
    "# numpy - byte swapping"
   ]
  },
  {
   "cell_type": "code",
   "execution_count": 17,
   "id": "6a81ea33-26f1-4ec1-aa72-0d1661962a8e",
   "metadata": {},
   "outputs": [
    {
     "data": {
      "text/plain": [
       "array([  67108864,   50331648,   67108864,   83886080,  100663296,\n",
       "       1207959552,   50331648,   50331648, -956235776,   83886080,\n",
       "        100663296,  100663296])"
      ]
     },
     "execution_count": 17,
     "metadata": {},
     "output_type": "execute_result"
    }
   ],
   "source": [
    "arr.byteswap()"
   ]
  },
  {
   "cell_type": "code",
   "execution_count": 18,
   "id": "6a4b87ed-be75-4529-a84e-f9f1994ee8d2",
   "metadata": {},
   "outputs": [],
   "source": [
    "# if view is used then it is changed"
   ]
  },
  {
   "cell_type": "code",
   "execution_count": 19,
   "id": "79999807-1aa9-400e-a815-acdf76092c03",
   "metadata": {},
   "outputs": [
    {
     "data": {
      "text/plain": [
       "array([  4,   3,   4,   5,   6,  72,   3,   3, 455,   5,   6,   6])"
      ]
     },
     "execution_count": 19,
     "metadata": {},
     "output_type": "execute_result"
    }
   ],
   "source": [
    "arr"
   ]
  },
  {
   "cell_type": "code",
   "execution_count": 21,
   "id": "aab40b51-ab42-4b3c-b972-e1854f0f87a7",
   "metadata": {},
   "outputs": [],
   "source": [
    "b = arr.view()"
   ]
  },
  {
   "cell_type": "code",
   "execution_count": 22,
   "id": "cece70e6-bb16-4020-8b26-428360d15ee5",
   "metadata": {},
   "outputs": [
    {
     "data": {
      "text/plain": [
       "array([500,   3,   4,   5,   6,  72,   3,   3, 455,   5,   6,   6])"
      ]
     },
     "execution_count": 22,
     "metadata": {},
     "output_type": "execute_result"
    }
   ],
   "source": [
    "b[0] = 500\n",
    "b"
   ]
  },
  {
   "cell_type": "code",
   "execution_count": 23,
   "id": "1943ba00-83b9-4b96-99fb-0e3439b3a614",
   "metadata": {},
   "outputs": [
    {
     "data": {
      "text/plain": [
       "array([500,   3,   4,   5,   6,  72,   3,   3, 455,   5,   6,   6])"
      ]
     },
     "execution_count": 23,
     "metadata": {},
     "output_type": "execute_result"
    }
   ],
   "source": [
    "arr"
   ]
  },
  {
   "cell_type": "code",
   "execution_count": 24,
   "id": "0a994f37-2770-4d84-ace9-6fb81e408c83",
   "metadata": {},
   "outputs": [],
   "source": [
    "# if copy is used it is deep copy \n",
    "# view is swallow copy"
   ]
  },
  {
   "cell_type": "code",
   "execution_count": 25,
   "id": "c9b14e86-a041-4bfb-801d-67ba10f96f04",
   "metadata": {},
   "outputs": [],
   "source": [
    "# Numpy - Matrix library"
   ]
  },
  {
   "cell_type": "code",
   "execution_count": 27,
   "id": "7d41b30c-2658-4b32-9741-fd344fd2ffd1",
   "metadata": {},
   "outputs": [],
   "source": [
    "import numpy.matlib as nm"
   ]
  },
  {
   "cell_type": "code",
   "execution_count": 28,
   "id": "ab1d6860-75a7-4693-9d41-1b94dbc9e920",
   "metadata": {},
   "outputs": [
    {
     "data": {
      "text/plain": [
       "matrix([[0., 0., 0., 0., 0.]])"
      ]
     },
     "execution_count": 28,
     "metadata": {},
     "output_type": "execute_result"
    }
   ],
   "source": [
    "nm.zeros(5)"
   ]
  },
  {
   "cell_type": "code",
   "execution_count": 29,
   "id": "c27f2387-9647-4be1-bf3c-6cf2efadb651",
   "metadata": {},
   "outputs": [
    {
     "data": {
      "text/plain": [
       "matrix([[1., 1., 1., 1.],\n",
       "        [1., 1., 1., 1.],\n",
       "        [1., 1., 1., 1.]])"
      ]
     },
     "execution_count": 29,
     "metadata": {},
     "output_type": "execute_result"
    }
   ],
   "source": [
    "nm.ones((3,4))"
   ]
  },
  {
   "cell_type": "code",
   "execution_count": 30,
   "id": "61c7cdfd-ccf7-42c9-9f7d-b4b41cc4b95c",
   "metadata": {},
   "outputs": [
    {
     "data": {
      "text/plain": [
       "matrix([[1., 0., 0., 0., 0.],\n",
       "        [0., 1., 0., 0., 0.],\n",
       "        [0., 0., 1., 0., 0.],\n",
       "        [0., 0., 0., 1., 0.],\n",
       "        [0., 0., 0., 0., 1.]])"
      ]
     },
     "execution_count": 30,
     "metadata": {},
     "output_type": "execute_result"
    }
   ],
   "source": [
    "nm.eye(5)"
   ]
  },
  {
   "cell_type": "code",
   "execution_count": null,
   "id": "c4f9f439-61b9-4c01-b9fc-3f56b49705f4",
   "metadata": {},
   "outputs": [],
   "source": []
  }
 ],
 "metadata": {
  "kernelspec": {
   "display_name": "Python 3 (ipykernel)",
   "language": "python",
   "name": "python3"
  },
  "language_info": {
   "codemirror_mode": {
    "name": "ipython",
    "version": 3
   },
   "file_extension": ".py",
   "mimetype": "text/x-python",
   "name": "python",
   "nbconvert_exporter": "python",
   "pygments_lexer": "ipython3",
   "version": "3.12.2"
  }
 },
 "nbformat": 4,
 "nbformat_minor": 5
}
