{
 "cells": [
  {
   "cell_type": "markdown",
   "id": "a6cb87bc-4e33-4412-8a03-3979ce6086df",
   "metadata": {},
   "source": [
    "# it is numerical python\n",
    "# NumPy is a Python library used for working with arrays. It also has functions for working in domain of linear algebra, fourier transform, and matrices"
   ]
  },
  {
   "cell_type": "code",
   "execution_count": 1,
   "id": "f1903815-90c0-4414-a6e0-5b92e5d59e14",
   "metadata": {},
   "outputs": [],
   "source": [
    "import numpy as np"
   ]
  },
  {
   "cell_type": "code",
   "execution_count": 2,
   "id": "aa52c200-f75d-47c4-bf3c-0b1778b478f7",
   "metadata": {},
   "outputs": [
    {
     "data": {
      "text/plain": [
       "numpy.ndarray"
      ]
     },
     "execution_count": 2,
     "metadata": {},
     "output_type": "execute_result"
    }
   ],
   "source": [
    "l = [1,2,3,4]\n",
    "ar = np.array(l)\n",
    "type(ar)"
   ]
  },
  {
   "cell_type": "code",
   "execution_count": 3,
   "id": "3fcbb245-e981-4585-9431-445b529a5211",
   "metadata": {},
   "outputs": [
    {
     "data": {
      "text/plain": [
       "array([[1, 2],\n",
       "       [3, 4]])"
      ]
     },
     "execution_count": 3,
     "metadata": {},
     "output_type": "execute_result"
    }
   ],
   "source": [
    "np.array([[1,2] ,[3,4]])"
   ]
  },
  {
   "cell_type": "code",
   "execution_count": 4,
   "id": "8abcef2e-7727-4d5c-9959-4e6d9e037949",
   "metadata": {},
   "outputs": [
    {
     "data": {
      "text/plain": [
       "array([2, 3, 4])"
      ]
     },
     "execution_count": 4,
     "metadata": {},
     "output_type": "execute_result"
    }
   ],
   "source": [
    "a = [2,3,4]\n",
    "np.asanyarray(a)"
   ]
  },
  {
   "cell_type": "code",
   "execution_count": 7,
   "id": "5e6f6623-281b-4e64-a385-f1445f04b2b7",
   "metadata": {},
   "outputs": [
    {
     "data": {
      "text/plain": [
       "matrix([[1, 2, 3, 4]])"
      ]
     },
     "execution_count": 7,
     "metadata": {},
     "output_type": "execute_result"
    }
   ],
   "source": [
    "b = np.matrix(l)\n",
    "b"
   ]
  },
  {
   "cell_type": "code",
   "execution_count": 9,
   "id": "b6a37b30-2987-46d7-ac5f-d745b1734ee6",
   "metadata": {},
   "outputs": [
    {
     "data": {
      "text/plain": [
       "matrix([[1, 2, 3, 4]])"
      ]
     },
     "execution_count": 9,
     "metadata": {},
     "output_type": "execute_result"
    }
   ],
   "source": [
    "# it cannot convert to array beacuse it is subset of array\n",
    "np.asanyarray(b)"
   ]
  },
  {
   "cell_type": "code",
   "execution_count": 11,
   "id": "a749e1be-cced-4be3-a249-40d908e7c12b",
   "metadata": {},
   "outputs": [],
   "source": [
    "a = np.array([1,2,3,4])"
   ]
  },
  {
   "cell_type": "code",
   "execution_count": 12,
   "id": "0e7ea9c0-6247-4c3a-90bb-8a3d0d2b92f0",
   "metadata": {},
   "outputs": [
    {
     "data": {
      "text/plain": [
       "array([1, 2, 3, 4])"
      ]
     },
     "execution_count": 12,
     "metadata": {},
     "output_type": "execute_result"
    }
   ],
   "source": [
    "a"
   ]
  },
  {
   "cell_type": "code",
   "execution_count": 13,
   "id": "a92333a1-b1ae-4724-bd6c-7a9fdb7f70cf",
   "metadata": {},
   "outputs": [
    {
     "data": {
      "text/plain": [
       "array([1, 2, 3, 4])"
      ]
     },
     "execution_count": 13,
     "metadata": {},
     "output_type": "execute_result"
    }
   ],
   "source": [
    "c = a\n",
    "c"
   ]
  },
  {
   "cell_type": "code",
   "execution_count": 14,
   "id": "a0d71860-8e44-4370-ac8d-b1dee0576310",
   "metadata": {},
   "outputs": [
    {
     "data": {
      "text/plain": [
       "array([[ True, False, False],\n",
       "       [False,  True, False],\n",
       "       [False, False,  True]])"
      ]
     },
     "execution_count": 14,
     "metadata": {},
     "output_type": "execute_result"
    }
   ],
   "source": [
    "np.fromfunction(lambda i,j : i==j , (3,3))"
   ]
  },
  {
   "cell_type": "code",
   "execution_count": 15,
   "id": "c2ac9a0f-842f-4b9e-b7f0-ae2bc9e082ed",
   "metadata": {},
   "outputs": [],
   "source": [
    "iterable = (i*i for i in range(5))"
   ]
  },
  {
   "cell_type": "code",
   "execution_count": 16,
   "id": "bf0c1a26-a1af-46b3-9799-db94454043d7",
   "metadata": {},
   "outputs": [
    {
     "data": {
      "text/plain": [
       "array([ 0.,  1.,  4.,  9., 16.])"
      ]
     },
     "execution_count": 16,
     "metadata": {},
     "output_type": "execute_result"
    }
   ],
   "source": [
    "np.fromiter(iterable , float)"
   ]
  },
  {
   "cell_type": "code",
   "execution_count": 17,
   "id": "610f6293-e8aa-4f6e-aebd-22a430c18d48",
   "metadata": {},
   "outputs": [
    {
     "data": {
      "text/plain": [
       "array([234., 234.])"
      ]
     },
     "execution_count": 17,
     "metadata": {},
     "output_type": "execute_result"
    }
   ],
   "source": [
    "np.fromstring('234 234',sep=' ')"
   ]
  },
  {
   "cell_type": "code",
   "execution_count": 18,
   "id": "66c74862-aecc-48a3-be67-3425a9588b83",
   "metadata": {},
   "outputs": [
    {
     "data": {
      "text/plain": [
       "array([234., 234.])"
      ]
     },
     "execution_count": 18,
     "metadata": {},
     "output_type": "execute_result"
    }
   ],
   "source": [
    "np.fromstring('234,234',sep=',')"
   ]
  },
  {
   "cell_type": "code",
   "execution_count": 19,
   "id": "3a74c093-245c-47ef-bfc3-29e085e31d00",
   "metadata": {},
   "outputs": [],
   "source": [
    "#numpy - dataType"
   ]
  },
  {
   "cell_type": "code",
   "execution_count": 25,
   "id": "2884d854-eff7-463c-ab41-ec27d14666b6",
   "metadata": {},
   "outputs": [
    {
     "data": {
      "text/plain": [
       "1"
      ]
     },
     "execution_count": 25,
     "metadata": {},
     "output_type": "execute_result"
    }
   ],
   "source": [
    "l = [2,3,4,5,6]\n",
    "ar = np.array(l)\n",
    "ar.ndim"
   ]
  },
  {
   "cell_type": "code",
   "execution_count": 27,
   "id": "ccf195cd-8c11-40fb-8311-424272e8ad4a",
   "metadata": {},
   "outputs": [
    {
     "data": {
      "text/plain": [
       "2"
      ]
     },
     "execution_count": 27,
     "metadata": {},
     "output_type": "execute_result"
    }
   ],
   "source": [
    "l1 = [[2,3,4,5,6],[2,3,4,5,6]]\n",
    "ar1 = np.array(l1)\n",
    "ar1.ndim"
   ]
  },
  {
   "cell_type": "code",
   "execution_count": 28,
   "id": "5bedc2b5-4f55-473e-afaf-170adffc9372",
   "metadata": {},
   "outputs": [
    {
     "data": {
      "text/plain": [
       "10"
      ]
     },
     "execution_count": 28,
     "metadata": {},
     "output_type": "execute_result"
    }
   ],
   "source": [
    "ar1.size"
   ]
  },
  {
   "cell_type": "code",
   "execution_count": 29,
   "id": "e1f7c368-433c-4a11-88bc-731eb226299c",
   "metadata": {},
   "outputs": [
    {
     "data": {
      "text/plain": [
       "(2, 5)"
      ]
     },
     "execution_count": 29,
     "metadata": {},
     "output_type": "execute_result"
    }
   ],
   "source": [
    "ar1.shape"
   ]
  },
  {
   "cell_type": "code",
   "execution_count": 30,
   "id": "6a581649-5370-448f-a433-f9fff2707db1",
   "metadata": {},
   "outputs": [
    {
     "data": {
      "text/plain": [
       "[0, 1, 2, 3, 4]"
      ]
     },
     "execution_count": 30,
     "metadata": {},
     "output_type": "execute_result"
    }
   ],
   "source": [
    "list(range(5))"
   ]
  },
  {
   "cell_type": "code",
   "execution_count": 34,
   "id": "08788670-623c-46ef-b475-25a7f7837983",
   "metadata": {},
   "outputs": [
    {
     "data": {
      "text/plain": [
       "array([ 1.3,  2.3,  3.3,  4.3,  5.3,  6.3,  7.3,  8.3,  9.3, 10.3, 11.3,\n",
       "       12.3, 13.3, 14.3, 15.3, 16.3, 17.3, 18.3, 19.3, 20.3, 21.3])"
      ]
     },
     "execution_count": 34,
     "metadata": {},
     "output_type": "execute_result"
    }
   ],
   "source": [
    "np.arange(1.3 , 22.3)"
   ]
  },
  {
   "cell_type": "code",
   "execution_count": 35,
   "id": "8c42a07e-5ce5-4d76-a920-91db0c1f71c9",
   "metadata": {},
   "outputs": [
    {
     "data": {
      "text/plain": [
       "array([1.        , 1.44444444, 1.88888889, 2.33333333, 2.77777778,\n",
       "       3.22222222, 3.66666667, 4.11111111, 4.55555556, 5.        ])"
      ]
     },
     "execution_count": 35,
     "metadata": {},
     "output_type": "execute_result"
    }
   ],
   "source": [
    "#produce 10 data \n",
    "np.linspace(1,5,10)"
   ]
  },
  {
   "cell_type": "code",
   "execution_count": 36,
   "id": "ee257605-fa7b-4862-bebe-181db5f21668",
   "metadata": {},
   "outputs": [],
   "source": [
    "# these all are data generator function"
   ]
  },
  {
   "cell_type": "code",
   "execution_count": 37,
   "id": "d28052b4-4217-4ebb-a5bf-a3a88c7a5188",
   "metadata": {},
   "outputs": [
    {
     "data": {
      "text/plain": [
       "array([0., 0., 0., 0., 0.])"
      ]
     },
     "execution_count": 37,
     "metadata": {},
     "output_type": "execute_result"
    }
   ],
   "source": [
    "np.zeros(5)"
   ]
  },
  {
   "cell_type": "code",
   "execution_count": 38,
   "id": "15b2c809-3bbc-45eb-a028-b53c5843f6dd",
   "metadata": {},
   "outputs": [
    {
     "data": {
      "text/plain": [
       "array([[0., 0., 0., 0.],\n",
       "       [0., 0., 0., 0.],\n",
       "       [0., 0., 0., 0.]])"
      ]
     },
     "execution_count": 38,
     "metadata": {},
     "output_type": "execute_result"
    }
   ],
   "source": [
    "np.zeros((3,4))"
   ]
  },
  {
   "cell_type": "code",
   "execution_count": 41,
   "id": "005bf67d-b542-4e5b-a775-f0ee425770c9",
   "metadata": {},
   "outputs": [
    {
     "data": {
      "text/plain": [
       "array([[[0., 0., 0., 0.],\n",
       "        [0., 0., 0., 0.],\n",
       "        [0., 0., 0., 0.],\n",
       "        [0., 0., 0., 0.]],\n",
       "\n",
       "       [[0., 0., 0., 0.],\n",
       "        [0., 0., 0., 0.],\n",
       "        [0., 0., 0., 0.],\n",
       "        [0., 0., 0., 0.]]])"
      ]
     },
     "execution_count": 41,
     "metadata": {},
     "output_type": "execute_result"
    }
   ],
   "source": [
    "np.zeros((2,4,4))"
   ]
  },
  {
   "cell_type": "code",
   "execution_count": 42,
   "id": "5b67b1af-be2b-4008-a9b8-b5eb91d97919",
   "metadata": {},
   "outputs": [],
   "source": [
    "# so there are many function np.eye , np.logspace , np.linespace "
   ]
  },
  {
   "cell_type": "code",
   "execution_count": 47,
   "id": "2365c501-597b-44a9-a998-91d37666187b",
   "metadata": {},
   "outputs": [
    {
     "data": {
      "text/plain": [
       "array([[-0.86366418, -0.07131505,  1.99217283, -1.6786487 ],\n",
       "       [-0.21132219,  0.59483134, -0.38117228, -1.50934484],\n",
       "       [-0.96752012,  0.72409655, -0.14342682, -1.2056657 ]])"
      ]
     },
     "execution_count": 47,
     "metadata": {},
     "output_type": "execute_result"
    }
   ],
   "source": [
    "arr = np.random.randn(3,4)\n",
    "arr"
   ]
  },
  {
   "cell_type": "code",
   "execution_count": 45,
   "id": "7a0213bf-114e-4cd6-be85-c9f8c5c43322",
   "metadata": {},
   "outputs": [
    {
     "data": {
      "text/html": [
       "<div>\n",
       "<style scoped>\n",
       "    .dataframe tbody tr th:only-of-type {\n",
       "        vertical-align: middle;\n",
       "    }\n",
       "\n",
       "    .dataframe tbody tr th {\n",
       "        vertical-align: top;\n",
       "    }\n",
       "\n",
       "    .dataframe thead th {\n",
       "        text-align: right;\n",
       "    }\n",
       "</style>\n",
       "<table border=\"1\" class=\"dataframe\">\n",
       "  <thead>\n",
       "    <tr style=\"text-align: right;\">\n",
       "      <th></th>\n",
       "      <th>0</th>\n",
       "      <th>1</th>\n",
       "      <th>2</th>\n",
       "      <th>3</th>\n",
       "    </tr>\n",
       "  </thead>\n",
       "  <tbody>\n",
       "    <tr>\n",
       "      <th>0</th>\n",
       "      <td>1.453510</td>\n",
       "      <td>0.904070</td>\n",
       "      <td>1.876184</td>\n",
       "      <td>1.286592</td>\n",
       "    </tr>\n",
       "    <tr>\n",
       "      <th>1</th>\n",
       "      <td>-0.991484</td>\n",
       "      <td>0.259381</td>\n",
       "      <td>1.754411</td>\n",
       "      <td>-0.540666</td>\n",
       "    </tr>\n",
       "    <tr>\n",
       "      <th>2</th>\n",
       "      <td>-0.098467</td>\n",
       "      <td>0.182900</td>\n",
       "      <td>0.243159</td>\n",
       "      <td>0.802761</td>\n",
       "    </tr>\n",
       "  </tbody>\n",
       "</table>\n",
       "</div>"
      ],
      "text/plain": [
       "          0         1         2         3\n",
       "0  1.453510  0.904070  1.876184  1.286592\n",
       "1 -0.991484  0.259381  1.754411 -0.540666\n",
       "2 -0.098467  0.182900  0.243159  0.802761"
      ]
     },
     "execution_count": 45,
     "metadata": {},
     "output_type": "execute_result"
    }
   ],
   "source": [
    "import pandas as pd\n",
    "pd.DataFrame(arr)"
   ]
  },
  {
   "cell_type": "code",
   "execution_count": 56,
   "id": "8e761dd6-1386-420c-8b12-2b716f75ca34",
   "metadata": {},
   "outputs": [],
   "source": [
    "arr1 = np.random.randint(1,100,(1000,1000))\n",
    "df1 = pd.DataFrame(arr1)"
   ]
  },
  {
   "cell_type": "code",
   "execution_count": 57,
   "id": "7f201ebb-1731-4eb2-a86f-c2edf8d8965d",
   "metadata": {},
   "outputs": [
    {
     "data": {
      "text/html": [
       "<div>\n",
       "<style scoped>\n",
       "    .dataframe tbody tr th:only-of-type {\n",
       "        vertical-align: middle;\n",
       "    }\n",
       "\n",
       "    .dataframe tbody tr th {\n",
       "        vertical-align: top;\n",
       "    }\n",
       "\n",
       "    .dataframe thead th {\n",
       "        text-align: right;\n",
       "    }\n",
       "</style>\n",
       "<table border=\"1\" class=\"dataframe\">\n",
       "  <thead>\n",
       "    <tr style=\"text-align: right;\">\n",
       "      <th></th>\n",
       "      <th>0</th>\n",
       "      <th>1</th>\n",
       "      <th>2</th>\n",
       "      <th>3</th>\n",
       "      <th>4</th>\n",
       "      <th>5</th>\n",
       "      <th>6</th>\n",
       "      <th>7</th>\n",
       "      <th>8</th>\n",
       "      <th>9</th>\n",
       "      <th>10</th>\n",
       "      <th>11</th>\n",
       "      <th>12</th>\n",
       "      <th>13</th>\n",
       "      <th>14</th>\n",
       "      <th>15</th>\n",
       "      <th>16</th>\n",
       "      <th>17</th>\n",
       "      <th>18</th>\n",
       "      <th>19</th>\n",
       "      <th>20</th>\n",
       "      <th>21</th>\n",
       "      <th>22</th>\n",
       "      <th>23</th>\n",
       "      <th>24</th>\n",
       "      <th>25</th>\n",
       "      <th>26</th>\n",
       "      <th>27</th>\n",
       "      <th>28</th>\n",
       "      <th>29</th>\n",
       "      <th>30</th>\n",
       "      <th>31</th>\n",
       "      <th>32</th>\n",
       "      <th>33</th>\n",
       "      <th>34</th>\n",
       "      <th>35</th>\n",
       "      <th>36</th>\n",
       "      <th>37</th>\n",
       "      <th>38</th>\n",
       "      <th>39</th>\n",
       "      <th>40</th>\n",
       "      <th>41</th>\n",
       "      <th>42</th>\n",
       "      <th>43</th>\n",
       "      <th>44</th>\n",
       "      <th>45</th>\n",
       "      <th>46</th>\n",
       "      <th>47</th>\n",
       "      <th>48</th>\n",
       "      <th>49</th>\n",
       "      <th>50</th>\n",
       "      <th>51</th>\n",
       "      <th>52</th>\n",
       "      <th>53</th>\n",
       "      <th>54</th>\n",
       "      <th>55</th>\n",
       "      <th>56</th>\n",
       "      <th>57</th>\n",
       "      <th>58</th>\n",
       "      <th>59</th>\n",
       "      <th>...</th>\n",
       "      <th>940</th>\n",
       "      <th>941</th>\n",
       "      <th>942</th>\n",
       "      <th>943</th>\n",
       "      <th>944</th>\n",
       "      <th>945</th>\n",
       "      <th>946</th>\n",
       "      <th>947</th>\n",
       "      <th>948</th>\n",
       "      <th>949</th>\n",
       "      <th>950</th>\n",
       "      <th>951</th>\n",
       "      <th>952</th>\n",
       "      <th>953</th>\n",
       "      <th>954</th>\n",
       "      <th>955</th>\n",
       "      <th>956</th>\n",
       "      <th>957</th>\n",
       "      <th>958</th>\n",
       "      <th>959</th>\n",
       "      <th>960</th>\n",
       "      <th>961</th>\n",
       "      <th>962</th>\n",
       "      <th>963</th>\n",
       "      <th>964</th>\n",
       "      <th>965</th>\n",
       "      <th>966</th>\n",
       "      <th>967</th>\n",
       "      <th>968</th>\n",
       "      <th>969</th>\n",
       "      <th>970</th>\n",
       "      <th>971</th>\n",
       "      <th>972</th>\n",
       "      <th>973</th>\n",
       "      <th>974</th>\n",
       "      <th>975</th>\n",
       "      <th>976</th>\n",
       "      <th>977</th>\n",
       "      <th>978</th>\n",
       "      <th>979</th>\n",
       "      <th>980</th>\n",
       "      <th>981</th>\n",
       "      <th>982</th>\n",
       "      <th>983</th>\n",
       "      <th>984</th>\n",
       "      <th>985</th>\n",
       "      <th>986</th>\n",
       "      <th>987</th>\n",
       "      <th>988</th>\n",
       "      <th>989</th>\n",
       "      <th>990</th>\n",
       "      <th>991</th>\n",
       "      <th>992</th>\n",
       "      <th>993</th>\n",
       "      <th>994</th>\n",
       "      <th>995</th>\n",
       "      <th>996</th>\n",
       "      <th>997</th>\n",
       "      <th>998</th>\n",
       "      <th>999</th>\n",
       "    </tr>\n",
       "  </thead>\n",
       "  <tbody>\n",
       "    <tr>\n",
       "      <th>0</th>\n",
       "      <td>15</td>\n",
       "      <td>86</td>\n",
       "      <td>15</td>\n",
       "      <td>9</td>\n",
       "      <td>14</td>\n",
       "      <td>26</td>\n",
       "      <td>48</td>\n",
       "      <td>76</td>\n",
       "      <td>64</td>\n",
       "      <td>79</td>\n",
       "      <td>86</td>\n",
       "      <td>9</td>\n",
       "      <td>73</td>\n",
       "      <td>91</td>\n",
       "      <td>18</td>\n",
       "      <td>72</td>\n",
       "      <td>41</td>\n",
       "      <td>92</td>\n",
       "      <td>39</td>\n",
       "      <td>65</td>\n",
       "      <td>17</td>\n",
       "      <td>82</td>\n",
       "      <td>19</td>\n",
       "      <td>39</td>\n",
       "      <td>23</td>\n",
       "      <td>14</td>\n",
       "      <td>19</td>\n",
       "      <td>21</td>\n",
       "      <td>85</td>\n",
       "      <td>57</td>\n",
       "      <td>65</td>\n",
       "      <td>51</td>\n",
       "      <td>37</td>\n",
       "      <td>48</td>\n",
       "      <td>62</td>\n",
       "      <td>9</td>\n",
       "      <td>27</td>\n",
       "      <td>90</td>\n",
       "      <td>22</td>\n",
       "      <td>32</td>\n",
       "      <td>94</td>\n",
       "      <td>36</td>\n",
       "      <td>64</td>\n",
       "      <td>67</td>\n",
       "      <td>1</td>\n",
       "      <td>27</td>\n",
       "      <td>37</td>\n",
       "      <td>37</td>\n",
       "      <td>6</td>\n",
       "      <td>42</td>\n",
       "      <td>41</td>\n",
       "      <td>30</td>\n",
       "      <td>27</td>\n",
       "      <td>12</td>\n",
       "      <td>70</td>\n",
       "      <td>41</td>\n",
       "      <td>63</td>\n",
       "      <td>58</td>\n",
       "      <td>39</td>\n",
       "      <td>87</td>\n",
       "      <td>...</td>\n",
       "      <td>27</td>\n",
       "      <td>98</td>\n",
       "      <td>99</td>\n",
       "      <td>62</td>\n",
       "      <td>68</td>\n",
       "      <td>67</td>\n",
       "      <td>42</td>\n",
       "      <td>21</td>\n",
       "      <td>73</td>\n",
       "      <td>25</td>\n",
       "      <td>30</td>\n",
       "      <td>96</td>\n",
       "      <td>12</td>\n",
       "      <td>62</td>\n",
       "      <td>98</td>\n",
       "      <td>68</td>\n",
       "      <td>45</td>\n",
       "      <td>94</td>\n",
       "      <td>69</td>\n",
       "      <td>11</td>\n",
       "      <td>9</td>\n",
       "      <td>42</td>\n",
       "      <td>16</td>\n",
       "      <td>48</td>\n",
       "      <td>52</td>\n",
       "      <td>73</td>\n",
       "      <td>29</td>\n",
       "      <td>88</td>\n",
       "      <td>87</td>\n",
       "      <td>97</td>\n",
       "      <td>14</td>\n",
       "      <td>12</td>\n",
       "      <td>83</td>\n",
       "      <td>62</td>\n",
       "      <td>34</td>\n",
       "      <td>54</td>\n",
       "      <td>53</td>\n",
       "      <td>26</td>\n",
       "      <td>61</td>\n",
       "      <td>47</td>\n",
       "      <td>64</td>\n",
       "      <td>67</td>\n",
       "      <td>81</td>\n",
       "      <td>12</td>\n",
       "      <td>16</td>\n",
       "      <td>6</td>\n",
       "      <td>81</td>\n",
       "      <td>97</td>\n",
       "      <td>37</td>\n",
       "      <td>71</td>\n",
       "      <td>76</td>\n",
       "      <td>48</td>\n",
       "      <td>51</td>\n",
       "      <td>81</td>\n",
       "      <td>43</td>\n",
       "      <td>63</td>\n",
       "      <td>82</td>\n",
       "      <td>54</td>\n",
       "      <td>28</td>\n",
       "      <td>97</td>\n",
       "    </tr>\n",
       "    <tr>\n",
       "      <th>1</th>\n",
       "      <td>61</td>\n",
       "      <td>29</td>\n",
       "      <td>67</td>\n",
       "      <td>67</td>\n",
       "      <td>99</td>\n",
       "      <td>61</td>\n",
       "      <td>38</td>\n",
       "      <td>54</td>\n",
       "      <td>46</td>\n",
       "      <td>39</td>\n",
       "      <td>32</td>\n",
       "      <td>66</td>\n",
       "      <td>1</td>\n",
       "      <td>85</td>\n",
       "      <td>54</td>\n",
       "      <td>58</td>\n",
       "      <td>45</td>\n",
       "      <td>15</td>\n",
       "      <td>31</td>\n",
       "      <td>85</td>\n",
       "      <td>81</td>\n",
       "      <td>42</td>\n",
       "      <td>10</td>\n",
       "      <td>17</td>\n",
       "      <td>87</td>\n",
       "      <td>52</td>\n",
       "      <td>33</td>\n",
       "      <td>45</td>\n",
       "      <td>92</td>\n",
       "      <td>99</td>\n",
       "      <td>5</td>\n",
       "      <td>55</td>\n",
       "      <td>4</td>\n",
       "      <td>48</td>\n",
       "      <td>91</td>\n",
       "      <td>4</td>\n",
       "      <td>28</td>\n",
       "      <td>60</td>\n",
       "      <td>16</td>\n",
       "      <td>51</td>\n",
       "      <td>93</td>\n",
       "      <td>8</td>\n",
       "      <td>97</td>\n",
       "      <td>35</td>\n",
       "      <td>15</td>\n",
       "      <td>79</td>\n",
       "      <td>94</td>\n",
       "      <td>49</td>\n",
       "      <td>36</td>\n",
       "      <td>70</td>\n",
       "      <td>88</td>\n",
       "      <td>40</td>\n",
       "      <td>92</td>\n",
       "      <td>51</td>\n",
       "      <td>36</td>\n",
       "      <td>14</td>\n",
       "      <td>77</td>\n",
       "      <td>22</td>\n",
       "      <td>22</td>\n",
       "      <td>66</td>\n",
       "      <td>...</td>\n",
       "      <td>8</td>\n",
       "      <td>29</td>\n",
       "      <td>29</td>\n",
       "      <td>23</td>\n",
       "      <td>53</td>\n",
       "      <td>22</td>\n",
       "      <td>22</td>\n",
       "      <td>40</td>\n",
       "      <td>89</td>\n",
       "      <td>15</td>\n",
       "      <td>57</td>\n",
       "      <td>10</td>\n",
       "      <td>88</td>\n",
       "      <td>22</td>\n",
       "      <td>24</td>\n",
       "      <td>55</td>\n",
       "      <td>16</td>\n",
       "      <td>86</td>\n",
       "      <td>80</td>\n",
       "      <td>49</td>\n",
       "      <td>27</td>\n",
       "      <td>73</td>\n",
       "      <td>74</td>\n",
       "      <td>25</td>\n",
       "      <td>48</td>\n",
       "      <td>85</td>\n",
       "      <td>42</td>\n",
       "      <td>18</td>\n",
       "      <td>6</td>\n",
       "      <td>16</td>\n",
       "      <td>36</td>\n",
       "      <td>4</td>\n",
       "      <td>29</td>\n",
       "      <td>29</td>\n",
       "      <td>45</td>\n",
       "      <td>36</td>\n",
       "      <td>18</td>\n",
       "      <td>41</td>\n",
       "      <td>9</td>\n",
       "      <td>8</td>\n",
       "      <td>88</td>\n",
       "      <td>52</td>\n",
       "      <td>87</td>\n",
       "      <td>91</td>\n",
       "      <td>71</td>\n",
       "      <td>7</td>\n",
       "      <td>55</td>\n",
       "      <td>23</td>\n",
       "      <td>75</td>\n",
       "      <td>29</td>\n",
       "      <td>3</td>\n",
       "      <td>76</td>\n",
       "      <td>87</td>\n",
       "      <td>73</td>\n",
       "      <td>36</td>\n",
       "      <td>43</td>\n",
       "      <td>34</td>\n",
       "      <td>47</td>\n",
       "      <td>89</td>\n",
       "      <td>51</td>\n",
       "    </tr>\n",
       "    <tr>\n",
       "      <th>2</th>\n",
       "      <td>4</td>\n",
       "      <td>82</td>\n",
       "      <td>80</td>\n",
       "      <td>90</td>\n",
       "      <td>35</td>\n",
       "      <td>59</td>\n",
       "      <td>84</td>\n",
       "      <td>6</td>\n",
       "      <td>53</td>\n",
       "      <td>77</td>\n",
       "      <td>6</td>\n",
       "      <td>68</td>\n",
       "      <td>33</td>\n",
       "      <td>16</td>\n",
       "      <td>68</td>\n",
       "      <td>62</td>\n",
       "      <td>15</td>\n",
       "      <td>68</td>\n",
       "      <td>10</td>\n",
       "      <td>93</td>\n",
       "      <td>14</td>\n",
       "      <td>6</td>\n",
       "      <td>64</td>\n",
       "      <td>35</td>\n",
       "      <td>45</td>\n",
       "      <td>95</td>\n",
       "      <td>96</td>\n",
       "      <td>10</td>\n",
       "      <td>77</td>\n",
       "      <td>54</td>\n",
       "      <td>7</td>\n",
       "      <td>89</td>\n",
       "      <td>91</td>\n",
       "      <td>73</td>\n",
       "      <td>58</td>\n",
       "      <td>10</td>\n",
       "      <td>12</td>\n",
       "      <td>1</td>\n",
       "      <td>99</td>\n",
       "      <td>22</td>\n",
       "      <td>77</td>\n",
       "      <td>14</td>\n",
       "      <td>63</td>\n",
       "      <td>61</td>\n",
       "      <td>10</td>\n",
       "      <td>40</td>\n",
       "      <td>77</td>\n",
       "      <td>25</td>\n",
       "      <td>78</td>\n",
       "      <td>11</td>\n",
       "      <td>21</td>\n",
       "      <td>41</td>\n",
       "      <td>93</td>\n",
       "      <td>99</td>\n",
       "      <td>78</td>\n",
       "      <td>81</td>\n",
       "      <td>70</td>\n",
       "      <td>59</td>\n",
       "      <td>60</td>\n",
       "      <td>84</td>\n",
       "      <td>...</td>\n",
       "      <td>92</td>\n",
       "      <td>72</td>\n",
       "      <td>1</td>\n",
       "      <td>20</td>\n",
       "      <td>1</td>\n",
       "      <td>53</td>\n",
       "      <td>32</td>\n",
       "      <td>77</td>\n",
       "      <td>47</td>\n",
       "      <td>13</td>\n",
       "      <td>81</td>\n",
       "      <td>4</td>\n",
       "      <td>32</td>\n",
       "      <td>5</td>\n",
       "      <td>36</td>\n",
       "      <td>81</td>\n",
       "      <td>40</td>\n",
       "      <td>25</td>\n",
       "      <td>72</td>\n",
       "      <td>64</td>\n",
       "      <td>11</td>\n",
       "      <td>48</td>\n",
       "      <td>32</td>\n",
       "      <td>72</td>\n",
       "      <td>57</td>\n",
       "      <td>14</td>\n",
       "      <td>27</td>\n",
       "      <td>63</td>\n",
       "      <td>58</td>\n",
       "      <td>98</td>\n",
       "      <td>10</td>\n",
       "      <td>34</td>\n",
       "      <td>69</td>\n",
       "      <td>16</td>\n",
       "      <td>39</td>\n",
       "      <td>68</td>\n",
       "      <td>94</td>\n",
       "      <td>77</td>\n",
       "      <td>50</td>\n",
       "      <td>59</td>\n",
       "      <td>75</td>\n",
       "      <td>59</td>\n",
       "      <td>36</td>\n",
       "      <td>14</td>\n",
       "      <td>18</td>\n",
       "      <td>86</td>\n",
       "      <td>60</td>\n",
       "      <td>91</td>\n",
       "      <td>97</td>\n",
       "      <td>97</td>\n",
       "      <td>70</td>\n",
       "      <td>77</td>\n",
       "      <td>6</td>\n",
       "      <td>87</td>\n",
       "      <td>7</td>\n",
       "      <td>66</td>\n",
       "      <td>6</td>\n",
       "      <td>33</td>\n",
       "      <td>84</td>\n",
       "      <td>37</td>\n",
       "    </tr>\n",
       "    <tr>\n",
       "      <th>3</th>\n",
       "      <td>97</td>\n",
       "      <td>78</td>\n",
       "      <td>62</td>\n",
       "      <td>51</td>\n",
       "      <td>12</td>\n",
       "      <td>2</td>\n",
       "      <td>42</td>\n",
       "      <td>49</td>\n",
       "      <td>13</td>\n",
       "      <td>25</td>\n",
       "      <td>49</td>\n",
       "      <td>10</td>\n",
       "      <td>39</td>\n",
       "      <td>47</td>\n",
       "      <td>98</td>\n",
       "      <td>99</td>\n",
       "      <td>99</td>\n",
       "      <td>68</td>\n",
       "      <td>18</td>\n",
       "      <td>17</td>\n",
       "      <td>6</td>\n",
       "      <td>38</td>\n",
       "      <td>4</td>\n",
       "      <td>20</td>\n",
       "      <td>87</td>\n",
       "      <td>88</td>\n",
       "      <td>77</td>\n",
       "      <td>49</td>\n",
       "      <td>58</td>\n",
       "      <td>98</td>\n",
       "      <td>8</td>\n",
       "      <td>16</td>\n",
       "      <td>79</td>\n",
       "      <td>55</td>\n",
       "      <td>74</td>\n",
       "      <td>61</td>\n",
       "      <td>66</td>\n",
       "      <td>88</td>\n",
       "      <td>49</td>\n",
       "      <td>95</td>\n",
       "      <td>91</td>\n",
       "      <td>37</td>\n",
       "      <td>7</td>\n",
       "      <td>95</td>\n",
       "      <td>49</td>\n",
       "      <td>52</td>\n",
       "      <td>83</td>\n",
       "      <td>48</td>\n",
       "      <td>86</td>\n",
       "      <td>46</td>\n",
       "      <td>83</td>\n",
       "      <td>52</td>\n",
       "      <td>22</td>\n",
       "      <td>47</td>\n",
       "      <td>54</td>\n",
       "      <td>95</td>\n",
       "      <td>49</td>\n",
       "      <td>7</td>\n",
       "      <td>72</td>\n",
       "      <td>6</td>\n",
       "      <td>...</td>\n",
       "      <td>37</td>\n",
       "      <td>8</td>\n",
       "      <td>82</td>\n",
       "      <td>13</td>\n",
       "      <td>89</td>\n",
       "      <td>5</td>\n",
       "      <td>67</td>\n",
       "      <td>36</td>\n",
       "      <td>13</td>\n",
       "      <td>46</td>\n",
       "      <td>24</td>\n",
       "      <td>85</td>\n",
       "      <td>88</td>\n",
       "      <td>84</td>\n",
       "      <td>40</td>\n",
       "      <td>21</td>\n",
       "      <td>63</td>\n",
       "      <td>18</td>\n",
       "      <td>7</td>\n",
       "      <td>87</td>\n",
       "      <td>37</td>\n",
       "      <td>73</td>\n",
       "      <td>75</td>\n",
       "      <td>61</td>\n",
       "      <td>70</td>\n",
       "      <td>62</td>\n",
       "      <td>91</td>\n",
       "      <td>98</td>\n",
       "      <td>10</td>\n",
       "      <td>22</td>\n",
       "      <td>87</td>\n",
       "      <td>49</td>\n",
       "      <td>84</td>\n",
       "      <td>63</td>\n",
       "      <td>2</td>\n",
       "      <td>46</td>\n",
       "      <td>33</td>\n",
       "      <td>66</td>\n",
       "      <td>1</td>\n",
       "      <td>55</td>\n",
       "      <td>84</td>\n",
       "      <td>14</td>\n",
       "      <td>12</td>\n",
       "      <td>28</td>\n",
       "      <td>42</td>\n",
       "      <td>7</td>\n",
       "      <td>81</td>\n",
       "      <td>94</td>\n",
       "      <td>22</td>\n",
       "      <td>77</td>\n",
       "      <td>5</td>\n",
       "      <td>73</td>\n",
       "      <td>84</td>\n",
       "      <td>39</td>\n",
       "      <td>20</td>\n",
       "      <td>43</td>\n",
       "      <td>96</td>\n",
       "      <td>34</td>\n",
       "      <td>5</td>\n",
       "      <td>30</td>\n",
       "    </tr>\n",
       "    <tr>\n",
       "      <th>4</th>\n",
       "      <td>47</td>\n",
       "      <td>28</td>\n",
       "      <td>13</td>\n",
       "      <td>52</td>\n",
       "      <td>75</td>\n",
       "      <td>19</td>\n",
       "      <td>90</td>\n",
       "      <td>84</td>\n",
       "      <td>26</td>\n",
       "      <td>59</td>\n",
       "      <td>16</td>\n",
       "      <td>66</td>\n",
       "      <td>74</td>\n",
       "      <td>41</td>\n",
       "      <td>54</td>\n",
       "      <td>34</td>\n",
       "      <td>4</td>\n",
       "      <td>1</td>\n",
       "      <td>61</td>\n",
       "      <td>95</td>\n",
       "      <td>55</td>\n",
       "      <td>17</td>\n",
       "      <td>73</td>\n",
       "      <td>7</td>\n",
       "      <td>16</td>\n",
       "      <td>94</td>\n",
       "      <td>73</td>\n",
       "      <td>34</td>\n",
       "      <td>4</td>\n",
       "      <td>4</td>\n",
       "      <td>22</td>\n",
       "      <td>93</td>\n",
       "      <td>57</td>\n",
       "      <td>10</td>\n",
       "      <td>9</td>\n",
       "      <td>22</td>\n",
       "      <td>44</td>\n",
       "      <td>28</td>\n",
       "      <td>62</td>\n",
       "      <td>11</td>\n",
       "      <td>55</td>\n",
       "      <td>26</td>\n",
       "      <td>64</td>\n",
       "      <td>57</td>\n",
       "      <td>34</td>\n",
       "      <td>43</td>\n",
       "      <td>12</td>\n",
       "      <td>65</td>\n",
       "      <td>45</td>\n",
       "      <td>83</td>\n",
       "      <td>89</td>\n",
       "      <td>34</td>\n",
       "      <td>28</td>\n",
       "      <td>73</td>\n",
       "      <td>99</td>\n",
       "      <td>53</td>\n",
       "      <td>6</td>\n",
       "      <td>66</td>\n",
       "      <td>27</td>\n",
       "      <td>60</td>\n",
       "      <td>...</td>\n",
       "      <td>16</td>\n",
       "      <td>58</td>\n",
       "      <td>93</td>\n",
       "      <td>93</td>\n",
       "      <td>68</td>\n",
       "      <td>61</td>\n",
       "      <td>98</td>\n",
       "      <td>38</td>\n",
       "      <td>50</td>\n",
       "      <td>27</td>\n",
       "      <td>72</td>\n",
       "      <td>53</td>\n",
       "      <td>43</td>\n",
       "      <td>76</td>\n",
       "      <td>46</td>\n",
       "      <td>49</td>\n",
       "      <td>99</td>\n",
       "      <td>14</td>\n",
       "      <td>76</td>\n",
       "      <td>53</td>\n",
       "      <td>10</td>\n",
       "      <td>7</td>\n",
       "      <td>87</td>\n",
       "      <td>61</td>\n",
       "      <td>1</td>\n",
       "      <td>79</td>\n",
       "      <td>55</td>\n",
       "      <td>92</td>\n",
       "      <td>15</td>\n",
       "      <td>94</td>\n",
       "      <td>95</td>\n",
       "      <td>62</td>\n",
       "      <td>70</td>\n",
       "      <td>94</td>\n",
       "      <td>68</td>\n",
       "      <td>77</td>\n",
       "      <td>23</td>\n",
       "      <td>5</td>\n",
       "      <td>20</td>\n",
       "      <td>52</td>\n",
       "      <td>91</td>\n",
       "      <td>73</td>\n",
       "      <td>4</td>\n",
       "      <td>85</td>\n",
       "      <td>75</td>\n",
       "      <td>32</td>\n",
       "      <td>80</td>\n",
       "      <td>87</td>\n",
       "      <td>4</td>\n",
       "      <td>98</td>\n",
       "      <td>25</td>\n",
       "      <td>62</td>\n",
       "      <td>57</td>\n",
       "      <td>23</td>\n",
       "      <td>36</td>\n",
       "      <td>53</td>\n",
       "      <td>25</td>\n",
       "      <td>94</td>\n",
       "      <td>75</td>\n",
       "      <td>11</td>\n",
       "    </tr>\n",
       "    <tr>\n",
       "      <th>...</th>\n",
       "      <td>...</td>\n",
       "      <td>...</td>\n",
       "      <td>...</td>\n",
       "      <td>...</td>\n",
       "      <td>...</td>\n",
       "      <td>...</td>\n",
       "      <td>...</td>\n",
       "      <td>...</td>\n",
       "      <td>...</td>\n",
       "      <td>...</td>\n",
       "      <td>...</td>\n",
       "      <td>...</td>\n",
       "      <td>...</td>\n",
       "      <td>...</td>\n",
       "      <td>...</td>\n",
       "      <td>...</td>\n",
       "      <td>...</td>\n",
       "      <td>...</td>\n",
       "      <td>...</td>\n",
       "      <td>...</td>\n",
       "      <td>...</td>\n",
       "      <td>...</td>\n",
       "      <td>...</td>\n",
       "      <td>...</td>\n",
       "      <td>...</td>\n",
       "      <td>...</td>\n",
       "      <td>...</td>\n",
       "      <td>...</td>\n",
       "      <td>...</td>\n",
       "      <td>...</td>\n",
       "      <td>...</td>\n",
       "      <td>...</td>\n",
       "      <td>...</td>\n",
       "      <td>...</td>\n",
       "      <td>...</td>\n",
       "      <td>...</td>\n",
       "      <td>...</td>\n",
       "      <td>...</td>\n",
       "      <td>...</td>\n",
       "      <td>...</td>\n",
       "      <td>...</td>\n",
       "      <td>...</td>\n",
       "      <td>...</td>\n",
       "      <td>...</td>\n",
       "      <td>...</td>\n",
       "      <td>...</td>\n",
       "      <td>...</td>\n",
       "      <td>...</td>\n",
       "      <td>...</td>\n",
       "      <td>...</td>\n",
       "      <td>...</td>\n",
       "      <td>...</td>\n",
       "      <td>...</td>\n",
       "      <td>...</td>\n",
       "      <td>...</td>\n",
       "      <td>...</td>\n",
       "      <td>...</td>\n",
       "      <td>...</td>\n",
       "      <td>...</td>\n",
       "      <td>...</td>\n",
       "      <td>...</td>\n",
       "      <td>...</td>\n",
       "      <td>...</td>\n",
       "      <td>...</td>\n",
       "      <td>...</td>\n",
       "      <td>...</td>\n",
       "      <td>...</td>\n",
       "      <td>...</td>\n",
       "      <td>...</td>\n",
       "      <td>...</td>\n",
       "      <td>...</td>\n",
       "      <td>...</td>\n",
       "      <td>...</td>\n",
       "      <td>...</td>\n",
       "      <td>...</td>\n",
       "      <td>...</td>\n",
       "      <td>...</td>\n",
       "      <td>...</td>\n",
       "      <td>...</td>\n",
       "      <td>...</td>\n",
       "      <td>...</td>\n",
       "      <td>...</td>\n",
       "      <td>...</td>\n",
       "      <td>...</td>\n",
       "      <td>...</td>\n",
       "      <td>...</td>\n",
       "      <td>...</td>\n",
       "      <td>...</td>\n",
       "      <td>...</td>\n",
       "      <td>...</td>\n",
       "      <td>...</td>\n",
       "      <td>...</td>\n",
       "      <td>...</td>\n",
       "      <td>...</td>\n",
       "      <td>...</td>\n",
       "      <td>...</td>\n",
       "      <td>...</td>\n",
       "      <td>...</td>\n",
       "      <td>...</td>\n",
       "      <td>...</td>\n",
       "      <td>...</td>\n",
       "      <td>...</td>\n",
       "      <td>...</td>\n",
       "      <td>...</td>\n",
       "      <td>...</td>\n",
       "      <td>...</td>\n",
       "      <td>...</td>\n",
       "      <td>...</td>\n",
       "      <td>...</td>\n",
       "      <td>...</td>\n",
       "      <td>...</td>\n",
       "      <td>...</td>\n",
       "      <td>...</td>\n",
       "      <td>...</td>\n",
       "      <td>...</td>\n",
       "      <td>...</td>\n",
       "      <td>...</td>\n",
       "      <td>...</td>\n",
       "      <td>...</td>\n",
       "      <td>...</td>\n",
       "      <td>...</td>\n",
       "    </tr>\n",
       "    <tr>\n",
       "      <th>995</th>\n",
       "      <td>78</td>\n",
       "      <td>2</td>\n",
       "      <td>29</td>\n",
       "      <td>43</td>\n",
       "      <td>22</td>\n",
       "      <td>82</td>\n",
       "      <td>11</td>\n",
       "      <td>49</td>\n",
       "      <td>25</td>\n",
       "      <td>82</td>\n",
       "      <td>71</td>\n",
       "      <td>48</td>\n",
       "      <td>52</td>\n",
       "      <td>46</td>\n",
       "      <td>62</td>\n",
       "      <td>17</td>\n",
       "      <td>8</td>\n",
       "      <td>58</td>\n",
       "      <td>21</td>\n",
       "      <td>17</td>\n",
       "      <td>14</td>\n",
       "      <td>99</td>\n",
       "      <td>56</td>\n",
       "      <td>15</td>\n",
       "      <td>74</td>\n",
       "      <td>24</td>\n",
       "      <td>41</td>\n",
       "      <td>76</td>\n",
       "      <td>85</td>\n",
       "      <td>59</td>\n",
       "      <td>45</td>\n",
       "      <td>87</td>\n",
       "      <td>32</td>\n",
       "      <td>56</td>\n",
       "      <td>77</td>\n",
       "      <td>62</td>\n",
       "      <td>83</td>\n",
       "      <td>76</td>\n",
       "      <td>57</td>\n",
       "      <td>99</td>\n",
       "      <td>75</td>\n",
       "      <td>55</td>\n",
       "      <td>89</td>\n",
       "      <td>54</td>\n",
       "      <td>69</td>\n",
       "      <td>52</td>\n",
       "      <td>85</td>\n",
       "      <td>97</td>\n",
       "      <td>60</td>\n",
       "      <td>24</td>\n",
       "      <td>38</td>\n",
       "      <td>15</td>\n",
       "      <td>55</td>\n",
       "      <td>45</td>\n",
       "      <td>42</td>\n",
       "      <td>79</td>\n",
       "      <td>85</td>\n",
       "      <td>35</td>\n",
       "      <td>6</td>\n",
       "      <td>9</td>\n",
       "      <td>...</td>\n",
       "      <td>64</td>\n",
       "      <td>66</td>\n",
       "      <td>23</td>\n",
       "      <td>77</td>\n",
       "      <td>41</td>\n",
       "      <td>61</td>\n",
       "      <td>79</td>\n",
       "      <td>55</td>\n",
       "      <td>11</td>\n",
       "      <td>64</td>\n",
       "      <td>84</td>\n",
       "      <td>89</td>\n",
       "      <td>79</td>\n",
       "      <td>28</td>\n",
       "      <td>84</td>\n",
       "      <td>21</td>\n",
       "      <td>87</td>\n",
       "      <td>86</td>\n",
       "      <td>19</td>\n",
       "      <td>26</td>\n",
       "      <td>47</td>\n",
       "      <td>87</td>\n",
       "      <td>12</td>\n",
       "      <td>69</td>\n",
       "      <td>48</td>\n",
       "      <td>99</td>\n",
       "      <td>60</td>\n",
       "      <td>53</td>\n",
       "      <td>68</td>\n",
       "      <td>55</td>\n",
       "      <td>23</td>\n",
       "      <td>18</td>\n",
       "      <td>73</td>\n",
       "      <td>93</td>\n",
       "      <td>62</td>\n",
       "      <td>53</td>\n",
       "      <td>3</td>\n",
       "      <td>51</td>\n",
       "      <td>68</td>\n",
       "      <td>93</td>\n",
       "      <td>92</td>\n",
       "      <td>65</td>\n",
       "      <td>48</td>\n",
       "      <td>6</td>\n",
       "      <td>3</td>\n",
       "      <td>40</td>\n",
       "      <td>5</td>\n",
       "      <td>56</td>\n",
       "      <td>37</td>\n",
       "      <td>54</td>\n",
       "      <td>9</td>\n",
       "      <td>69</td>\n",
       "      <td>70</td>\n",
       "      <td>78</td>\n",
       "      <td>90</td>\n",
       "      <td>44</td>\n",
       "      <td>37</td>\n",
       "      <td>35</td>\n",
       "      <td>23</td>\n",
       "      <td>51</td>\n",
       "    </tr>\n",
       "    <tr>\n",
       "      <th>996</th>\n",
       "      <td>28</td>\n",
       "      <td>40</td>\n",
       "      <td>43</td>\n",
       "      <td>5</td>\n",
       "      <td>7</td>\n",
       "      <td>62</td>\n",
       "      <td>1</td>\n",
       "      <td>65</td>\n",
       "      <td>7</td>\n",
       "      <td>60</td>\n",
       "      <td>74</td>\n",
       "      <td>42</td>\n",
       "      <td>6</td>\n",
       "      <td>3</td>\n",
       "      <td>49</td>\n",
       "      <td>75</td>\n",
       "      <td>77</td>\n",
       "      <td>86</td>\n",
       "      <td>5</td>\n",
       "      <td>40</td>\n",
       "      <td>78</td>\n",
       "      <td>43</td>\n",
       "      <td>4</td>\n",
       "      <td>97</td>\n",
       "      <td>9</td>\n",
       "      <td>19</td>\n",
       "      <td>47</td>\n",
       "      <td>12</td>\n",
       "      <td>35</td>\n",
       "      <td>86</td>\n",
       "      <td>83</td>\n",
       "      <td>98</td>\n",
       "      <td>93</td>\n",
       "      <td>13</td>\n",
       "      <td>30</td>\n",
       "      <td>20</td>\n",
       "      <td>51</td>\n",
       "      <td>25</td>\n",
       "      <td>92</td>\n",
       "      <td>18</td>\n",
       "      <td>6</td>\n",
       "      <td>89</td>\n",
       "      <td>16</td>\n",
       "      <td>62</td>\n",
       "      <td>88</td>\n",
       "      <td>16</td>\n",
       "      <td>91</td>\n",
       "      <td>67</td>\n",
       "      <td>38</td>\n",
       "      <td>6</td>\n",
       "      <td>72</td>\n",
       "      <td>15</td>\n",
       "      <td>27</td>\n",
       "      <td>52</td>\n",
       "      <td>66</td>\n",
       "      <td>10</td>\n",
       "      <td>89</td>\n",
       "      <td>82</td>\n",
       "      <td>73</td>\n",
       "      <td>22</td>\n",
       "      <td>...</td>\n",
       "      <td>31</td>\n",
       "      <td>10</td>\n",
       "      <td>64</td>\n",
       "      <td>62</td>\n",
       "      <td>67</td>\n",
       "      <td>61</td>\n",
       "      <td>50</td>\n",
       "      <td>46</td>\n",
       "      <td>94</td>\n",
       "      <td>46</td>\n",
       "      <td>94</td>\n",
       "      <td>84</td>\n",
       "      <td>64</td>\n",
       "      <td>27</td>\n",
       "      <td>34</td>\n",
       "      <td>49</td>\n",
       "      <td>17</td>\n",
       "      <td>51</td>\n",
       "      <td>61</td>\n",
       "      <td>68</td>\n",
       "      <td>82</td>\n",
       "      <td>90</td>\n",
       "      <td>43</td>\n",
       "      <td>8</td>\n",
       "      <td>64</td>\n",
       "      <td>48</td>\n",
       "      <td>24</td>\n",
       "      <td>26</td>\n",
       "      <td>3</td>\n",
       "      <td>45</td>\n",
       "      <td>60</td>\n",
       "      <td>30</td>\n",
       "      <td>14</td>\n",
       "      <td>9</td>\n",
       "      <td>73</td>\n",
       "      <td>17</td>\n",
       "      <td>80</td>\n",
       "      <td>50</td>\n",
       "      <td>59</td>\n",
       "      <td>39</td>\n",
       "      <td>45</td>\n",
       "      <td>81</td>\n",
       "      <td>73</td>\n",
       "      <td>10</td>\n",
       "      <td>67</td>\n",
       "      <td>14</td>\n",
       "      <td>70</td>\n",
       "      <td>29</td>\n",
       "      <td>90</td>\n",
       "      <td>26</td>\n",
       "      <td>30</td>\n",
       "      <td>38</td>\n",
       "      <td>60</td>\n",
       "      <td>53</td>\n",
       "      <td>18</td>\n",
       "      <td>53</td>\n",
       "      <td>86</td>\n",
       "      <td>19</td>\n",
       "      <td>97</td>\n",
       "      <td>81</td>\n",
       "    </tr>\n",
       "    <tr>\n",
       "      <th>997</th>\n",
       "      <td>36</td>\n",
       "      <td>97</td>\n",
       "      <td>86</td>\n",
       "      <td>61</td>\n",
       "      <td>52</td>\n",
       "      <td>32</td>\n",
       "      <td>3</td>\n",
       "      <td>81</td>\n",
       "      <td>35</td>\n",
       "      <td>91</td>\n",
       "      <td>87</td>\n",
       "      <td>27</td>\n",
       "      <td>34</td>\n",
       "      <td>76</td>\n",
       "      <td>37</td>\n",
       "      <td>16</td>\n",
       "      <td>67</td>\n",
       "      <td>87</td>\n",
       "      <td>58</td>\n",
       "      <td>77</td>\n",
       "      <td>78</td>\n",
       "      <td>67</td>\n",
       "      <td>50</td>\n",
       "      <td>11</td>\n",
       "      <td>76</td>\n",
       "      <td>87</td>\n",
       "      <td>48</td>\n",
       "      <td>18</td>\n",
       "      <td>12</td>\n",
       "      <td>33</td>\n",
       "      <td>8</td>\n",
       "      <td>36</td>\n",
       "      <td>58</td>\n",
       "      <td>9</td>\n",
       "      <td>31</td>\n",
       "      <td>98</td>\n",
       "      <td>98</td>\n",
       "      <td>42</td>\n",
       "      <td>37</td>\n",
       "      <td>40</td>\n",
       "      <td>32</td>\n",
       "      <td>38</td>\n",
       "      <td>36</td>\n",
       "      <td>11</td>\n",
       "      <td>30</td>\n",
       "      <td>62</td>\n",
       "      <td>94</td>\n",
       "      <td>57</td>\n",
       "      <td>41</td>\n",
       "      <td>60</td>\n",
       "      <td>4</td>\n",
       "      <td>95</td>\n",
       "      <td>1</td>\n",
       "      <td>55</td>\n",
       "      <td>65</td>\n",
       "      <td>56</td>\n",
       "      <td>62</td>\n",
       "      <td>69</td>\n",
       "      <td>35</td>\n",
       "      <td>49</td>\n",
       "      <td>...</td>\n",
       "      <td>22</td>\n",
       "      <td>97</td>\n",
       "      <td>28</td>\n",
       "      <td>63</td>\n",
       "      <td>89</td>\n",
       "      <td>20</td>\n",
       "      <td>52</td>\n",
       "      <td>14</td>\n",
       "      <td>34</td>\n",
       "      <td>19</td>\n",
       "      <td>47</td>\n",
       "      <td>24</td>\n",
       "      <td>97</td>\n",
       "      <td>12</td>\n",
       "      <td>50</td>\n",
       "      <td>64</td>\n",
       "      <td>56</td>\n",
       "      <td>55</td>\n",
       "      <td>99</td>\n",
       "      <td>57</td>\n",
       "      <td>2</td>\n",
       "      <td>31</td>\n",
       "      <td>54</td>\n",
       "      <td>69</td>\n",
       "      <td>94</td>\n",
       "      <td>23</td>\n",
       "      <td>55</td>\n",
       "      <td>15</td>\n",
       "      <td>89</td>\n",
       "      <td>46</td>\n",
       "      <td>90</td>\n",
       "      <td>49</td>\n",
       "      <td>49</td>\n",
       "      <td>59</td>\n",
       "      <td>78</td>\n",
       "      <td>47</td>\n",
       "      <td>64</td>\n",
       "      <td>78</td>\n",
       "      <td>60</td>\n",
       "      <td>75</td>\n",
       "      <td>20</td>\n",
       "      <td>81</td>\n",
       "      <td>69</td>\n",
       "      <td>83</td>\n",
       "      <td>91</td>\n",
       "      <td>19</td>\n",
       "      <td>40</td>\n",
       "      <td>71</td>\n",
       "      <td>10</td>\n",
       "      <td>95</td>\n",
       "      <td>96</td>\n",
       "      <td>83</td>\n",
       "      <td>26</td>\n",
       "      <td>66</td>\n",
       "      <td>31</td>\n",
       "      <td>11</td>\n",
       "      <td>38</td>\n",
       "      <td>58</td>\n",
       "      <td>98</td>\n",
       "      <td>82</td>\n",
       "    </tr>\n",
       "    <tr>\n",
       "      <th>998</th>\n",
       "      <td>98</td>\n",
       "      <td>85</td>\n",
       "      <td>49</td>\n",
       "      <td>34</td>\n",
       "      <td>6</td>\n",
       "      <td>41</td>\n",
       "      <td>16</td>\n",
       "      <td>84</td>\n",
       "      <td>67</td>\n",
       "      <td>6</td>\n",
       "      <td>86</td>\n",
       "      <td>52</td>\n",
       "      <td>14</td>\n",
       "      <td>17</td>\n",
       "      <td>30</td>\n",
       "      <td>38</td>\n",
       "      <td>69</td>\n",
       "      <td>37</td>\n",
       "      <td>11</td>\n",
       "      <td>80</td>\n",
       "      <td>47</td>\n",
       "      <td>76</td>\n",
       "      <td>91</td>\n",
       "      <td>18</td>\n",
       "      <td>6</td>\n",
       "      <td>4</td>\n",
       "      <td>7</td>\n",
       "      <td>36</td>\n",
       "      <td>97</td>\n",
       "      <td>94</td>\n",
       "      <td>87</td>\n",
       "      <td>47</td>\n",
       "      <td>95</td>\n",
       "      <td>93</td>\n",
       "      <td>37</td>\n",
       "      <td>52</td>\n",
       "      <td>57</td>\n",
       "      <td>98</td>\n",
       "      <td>67</td>\n",
       "      <td>62</td>\n",
       "      <td>33</td>\n",
       "      <td>13</td>\n",
       "      <td>56</td>\n",
       "      <td>67</td>\n",
       "      <td>10</td>\n",
       "      <td>18</td>\n",
       "      <td>92</td>\n",
       "      <td>70</td>\n",
       "      <td>52</td>\n",
       "      <td>64</td>\n",
       "      <td>61</td>\n",
       "      <td>49</td>\n",
       "      <td>17</td>\n",
       "      <td>33</td>\n",
       "      <td>98</td>\n",
       "      <td>81</td>\n",
       "      <td>61</td>\n",
       "      <td>42</td>\n",
       "      <td>26</td>\n",
       "      <td>21</td>\n",
       "      <td>...</td>\n",
       "      <td>54</td>\n",
       "      <td>60</td>\n",
       "      <td>63</td>\n",
       "      <td>85</td>\n",
       "      <td>72</td>\n",
       "      <td>75</td>\n",
       "      <td>19</td>\n",
       "      <td>12</td>\n",
       "      <td>16</td>\n",
       "      <td>29</td>\n",
       "      <td>7</td>\n",
       "      <td>5</td>\n",
       "      <td>96</td>\n",
       "      <td>11</td>\n",
       "      <td>54</td>\n",
       "      <td>15</td>\n",
       "      <td>76</td>\n",
       "      <td>24</td>\n",
       "      <td>56</td>\n",
       "      <td>52</td>\n",
       "      <td>74</td>\n",
       "      <td>57</td>\n",
       "      <td>65</td>\n",
       "      <td>11</td>\n",
       "      <td>68</td>\n",
       "      <td>77</td>\n",
       "      <td>15</td>\n",
       "      <td>60</td>\n",
       "      <td>11</td>\n",
       "      <td>88</td>\n",
       "      <td>55</td>\n",
       "      <td>14</td>\n",
       "      <td>54</td>\n",
       "      <td>63</td>\n",
       "      <td>93</td>\n",
       "      <td>64</td>\n",
       "      <td>40</td>\n",
       "      <td>79</td>\n",
       "      <td>35</td>\n",
       "      <td>15</td>\n",
       "      <td>27</td>\n",
       "      <td>26</td>\n",
       "      <td>30</td>\n",
       "      <td>96</td>\n",
       "      <td>78</td>\n",
       "      <td>37</td>\n",
       "      <td>81</td>\n",
       "      <td>26</td>\n",
       "      <td>85</td>\n",
       "      <td>54</td>\n",
       "      <td>62</td>\n",
       "      <td>88</td>\n",
       "      <td>90</td>\n",
       "      <td>40</td>\n",
       "      <td>34</td>\n",
       "      <td>50</td>\n",
       "      <td>84</td>\n",
       "      <td>16</td>\n",
       "      <td>47</td>\n",
       "      <td>51</td>\n",
       "    </tr>\n",
       "    <tr>\n",
       "      <th>999</th>\n",
       "      <td>22</td>\n",
       "      <td>77</td>\n",
       "      <td>78</td>\n",
       "      <td>94</td>\n",
       "      <td>43</td>\n",
       "      <td>28</td>\n",
       "      <td>83</td>\n",
       "      <td>6</td>\n",
       "      <td>75</td>\n",
       "      <td>87</td>\n",
       "      <td>58</td>\n",
       "      <td>81</td>\n",
       "      <td>52</td>\n",
       "      <td>90</td>\n",
       "      <td>46</td>\n",
       "      <td>58</td>\n",
       "      <td>72</td>\n",
       "      <td>60</td>\n",
       "      <td>65</td>\n",
       "      <td>51</td>\n",
       "      <td>52</td>\n",
       "      <td>55</td>\n",
       "      <td>76</td>\n",
       "      <td>21</td>\n",
       "      <td>62</td>\n",
       "      <td>72</td>\n",
       "      <td>58</td>\n",
       "      <td>86</td>\n",
       "      <td>30</td>\n",
       "      <td>14</td>\n",
       "      <td>57</td>\n",
       "      <td>1</td>\n",
       "      <td>71</td>\n",
       "      <td>69</td>\n",
       "      <td>21</td>\n",
       "      <td>60</td>\n",
       "      <td>68</td>\n",
       "      <td>7</td>\n",
       "      <td>30</td>\n",
       "      <td>8</td>\n",
       "      <td>58</td>\n",
       "      <td>47</td>\n",
       "      <td>52</td>\n",
       "      <td>65</td>\n",
       "      <td>67</td>\n",
       "      <td>59</td>\n",
       "      <td>26</td>\n",
       "      <td>67</td>\n",
       "      <td>99</td>\n",
       "      <td>4</td>\n",
       "      <td>79</td>\n",
       "      <td>91</td>\n",
       "      <td>79</td>\n",
       "      <td>9</td>\n",
       "      <td>15</td>\n",
       "      <td>66</td>\n",
       "      <td>94</td>\n",
       "      <td>48</td>\n",
       "      <td>94</td>\n",
       "      <td>14</td>\n",
       "      <td>...</td>\n",
       "      <td>47</td>\n",
       "      <td>33</td>\n",
       "      <td>13</td>\n",
       "      <td>45</td>\n",
       "      <td>15</td>\n",
       "      <td>64</td>\n",
       "      <td>42</td>\n",
       "      <td>19</td>\n",
       "      <td>15</td>\n",
       "      <td>70</td>\n",
       "      <td>31</td>\n",
       "      <td>9</td>\n",
       "      <td>9</td>\n",
       "      <td>17</td>\n",
       "      <td>31</td>\n",
       "      <td>20</td>\n",
       "      <td>70</td>\n",
       "      <td>69</td>\n",
       "      <td>86</td>\n",
       "      <td>49</td>\n",
       "      <td>79</td>\n",
       "      <td>47</td>\n",
       "      <td>45</td>\n",
       "      <td>48</td>\n",
       "      <td>1</td>\n",
       "      <td>37</td>\n",
       "      <td>34</td>\n",
       "      <td>58</td>\n",
       "      <td>18</td>\n",
       "      <td>97</td>\n",
       "      <td>66</td>\n",
       "      <td>65</td>\n",
       "      <td>10</td>\n",
       "      <td>88</td>\n",
       "      <td>98</td>\n",
       "      <td>50</td>\n",
       "      <td>92</td>\n",
       "      <td>14</td>\n",
       "      <td>89</td>\n",
       "      <td>79</td>\n",
       "      <td>16</td>\n",
       "      <td>15</td>\n",
       "      <td>52</td>\n",
       "      <td>26</td>\n",
       "      <td>34</td>\n",
       "      <td>43</td>\n",
       "      <td>83</td>\n",
       "      <td>48</td>\n",
       "      <td>37</td>\n",
       "      <td>91</td>\n",
       "      <td>27</td>\n",
       "      <td>30</td>\n",
       "      <td>14</td>\n",
       "      <td>10</td>\n",
       "      <td>9</td>\n",
       "      <td>76</td>\n",
       "      <td>12</td>\n",
       "      <td>25</td>\n",
       "      <td>14</td>\n",
       "      <td>28</td>\n",
       "    </tr>\n",
       "  </tbody>\n",
       "</table>\n",
       "<p>1000 rows × 1000 columns</p>\n",
       "</div>"
      ],
      "text/plain": [
       "     0    1    2    3    4    5    6    7    8    9    10   ...  989  990  991  992  993  994  995  996  997  998  999\n",
       "0     15   86   15    9   14   26   48   76   64   79   86  ...   71   76   48   51   81   43   63   82   54   28   97\n",
       "1     61   29   67   67   99   61   38   54   46   39   32  ...   29    3   76   87   73   36   43   34   47   89   51\n",
       "2      4   82   80   90   35   59   84    6   53   77    6  ...   97   70   77    6   87    7   66    6   33   84   37\n",
       "3     97   78   62   51   12    2   42   49   13   25   49  ...   77    5   73   84   39   20   43   96   34    5   30\n",
       "4     47   28   13   52   75   19   90   84   26   59   16  ...   98   25   62   57   23   36   53   25   94   75   11\n",
       "..   ...  ...  ...  ...  ...  ...  ...  ...  ...  ...  ...  ...  ...  ...  ...  ...  ...  ...  ...  ...  ...  ...  ...\n",
       "995   78    2   29   43   22   82   11   49   25   82   71  ...   54    9   69   70   78   90   44   37   35   23   51\n",
       "996   28   40   43    5    7   62    1   65    7   60   74  ...   26   30   38   60   53   18   53   86   19   97   81\n",
       "997   36   97   86   61   52   32    3   81   35   91   87  ...   95   96   83   26   66   31   11   38   58   98   82\n",
       "998   98   85   49   34    6   41   16   84   67    6   86  ...   54   62   88   90   40   34   50   84   16   47   51\n",
       "999   22   77   78   94   43   28   83    6   75   87   58  ...   91   27   30   14   10    9   76   12   25   14   28\n",
       "\n",
       "[1000 rows x 1000 columns]"
      ]
     },
     "execution_count": 57,
     "metadata": {},
     "output_type": "execute_result"
    }
   ],
   "source": [
    "df1"
   ]
  },
  {
   "cell_type": "code",
   "execution_count": 58,
   "id": "409e5846-d72d-4483-a1ec-35595fc36b08",
   "metadata": {},
   "outputs": [],
   "source": [
    "df1.to_csv('test.csv')"
   ]
  },
  {
   "cell_type": "code",
   "execution_count": 60,
   "id": "4660804f-dbba-42b8-a973-2d6c2f02bea7",
   "metadata": {},
   "outputs": [
    {
     "data": {
      "text/plain": [
       "array([[0.29362868, 0.08754383, 0.54798607, 0.60920757],\n",
       "       [0.70160027, 0.10831288, 0.54566254, 0.91910096],\n",
       "       [0.35286716, 0.66033383, 0.10425222, 0.84025406]])"
      ]
     },
     "execution_count": 60,
     "metadata": {},
     "output_type": "execute_result"
    }
   ],
   "source": [
    "arr = np.random.rand(3,4)\n",
    "arr"
   ]
  },
  {
   "cell_type": "code",
   "execution_count": 61,
   "id": "a4162de8-704f-4ad0-a87b-eebfaaffd0fe",
   "metadata": {},
   "outputs": [
    {
     "data": {
      "text/plain": [
       "array([[0.29362868, 0.08754383],\n",
       "       [0.54798607, 0.60920757],\n",
       "       [0.70160027, 0.10831288],\n",
       "       [0.54566254, 0.91910096],\n",
       "       [0.35286716, 0.66033383],\n",
       "       [0.10425222, 0.84025406]])"
      ]
     },
     "execution_count": 61,
     "metadata": {},
     "output_type": "execute_result"
    }
   ],
   "source": [
    "arr.reshape(6,2)"
   ]
  },
  {
   "cell_type": "code",
   "execution_count": 62,
   "id": "875dd9b1-89c8-45d5-bf76-184a9f77620a",
   "metadata": {},
   "outputs": [],
   "source": [
    "# this will only work is data is in correct size"
   ]
  },
  {
   "cell_type": "code",
   "execution_count": 65,
   "id": "df530d62-c1d6-4325-b9b5-45e427a29fe5",
   "metadata": {},
   "outputs": [
    {
     "data": {
      "text/plain": [
       "array([[46, 80, 62, 93, 37],\n",
       "       [37, 50, 64, 60, 64],\n",
       "       [99, 82, 30, 51, 35],\n",
       "       [ 8, 47, 64, 89, 70],\n",
       "       [94, 61, 90, 21, 50]])"
      ]
     },
     "execution_count": 65,
     "metadata": {},
     "output_type": "execute_result"
    }
   ],
   "source": [
    "arr = np.random.randint(1,100,(5,5))\n",
    "arr"
   ]
  },
  {
   "cell_type": "code",
   "execution_count": 66,
   "id": "c6ae2868-a4c2-400e-806b-86c7152c61c3",
   "metadata": {},
   "outputs": [
    {
     "data": {
      "text/plain": [
       "array([80, 62, 93, 64, 60, 64, 99, 82, 51, 64, 89, 70, 94, 61, 90])"
      ]
     },
     "execution_count": 66,
     "metadata": {},
     "output_type": "execute_result"
    }
   ],
   "source": [
    "arr[arr>50]"
   ]
  },
  {
   "cell_type": "code",
   "execution_count": 67,
   "id": "c303efcb-ee83-47bd-a665-a1866868e0d3",
   "metadata": {},
   "outputs": [
    {
     "data": {
      "text/plain": [
       "array([[82, 30],\n",
       "       [47, 64]])"
      ]
     },
     "execution_count": 67,
     "metadata": {},
     "output_type": "execute_result"
    }
   ],
   "source": [
    "arr[2:4 , [1,2]]"
   ]
  },
  {
   "cell_type": "code",
   "execution_count": 68,
   "id": "bc408307-ac8a-4428-b516-a3a01d14f511",
   "metadata": {},
   "outputs": [],
   "source": [
    "arr[0][0] = 5000"
   ]
  },
  {
   "cell_type": "code",
   "execution_count": 69,
   "id": "d8affa54-8b83-4d5b-8141-99c1883b4b1e",
   "metadata": {},
   "outputs": [
    {
     "data": {
      "text/plain": [
       "array([[5000,   80,   62,   93,   37],\n",
       "       [  37,   50,   64,   60,   64],\n",
       "       [  99,   82,   30,   51,   35],\n",
       "       [   8,   47,   64,   89,   70],\n",
       "       [  94,   61,   90,   21,   50]])"
      ]
     },
     "execution_count": 69,
     "metadata": {},
     "output_type": "execute_result"
    }
   ],
   "source": [
    "arr"
   ]
  },
  {
   "cell_type": "code",
   "execution_count": 75,
   "id": "6e842a9f-39e1-4c9f-b800-985cbfc53b47",
   "metadata": {},
   "outputs": [],
   "source": [
    "arr1 = np.random.randint(1,10,(3,3))\n",
    "arr2 = np.random.randint(1,10,(3,3))"
   ]
  },
  {
   "cell_type": "code",
   "execution_count": 76,
   "id": "a186043c-219e-4d37-b599-5f632d2f0c6d",
   "metadata": {},
   "outputs": [
    {
     "data": {
      "text/plain": [
       "array([[6, 2, 1],\n",
       "       [7, 1, 7],\n",
       "       [6, 2, 1]])"
      ]
     },
     "execution_count": 76,
     "metadata": {},
     "output_type": "execute_result"
    }
   ],
   "source": [
    "arr1"
   ]
  },
  {
   "cell_type": "code",
   "execution_count": 77,
   "id": "ce4ed1d1-3b38-4784-abed-290d389b0e1f",
   "metadata": {},
   "outputs": [
    {
     "data": {
      "text/plain": [
       "array([[5, 3, 9],\n",
       "       [9, 8, 6],\n",
       "       [5, 8, 9]])"
      ]
     },
     "execution_count": 77,
     "metadata": {},
     "output_type": "execute_result"
    }
   ],
   "source": [
    "arr2"
   ]
  },
  {
   "cell_type": "code",
   "execution_count": 78,
   "id": "f73eb1f9-2653-441c-a0b9-5ffab8c525cb",
   "metadata": {},
   "outputs": [
    {
     "data": {
      "text/plain": [
       "array([[11,  5, 10],\n",
       "       [16,  9, 13],\n",
       "       [11, 10, 10]])"
      ]
     },
     "execution_count": 78,
     "metadata": {},
     "output_type": "execute_result"
    }
   ],
   "source": [
    "arr1+arr2"
   ]
  },
  {
   "cell_type": "code",
   "execution_count": 79,
   "id": "0e84b239-9af6-4221-861d-71e3f0be1050",
   "metadata": {},
   "outputs": [
    {
     "data": {
      "text/plain": [
       "array([[30,  6,  9],\n",
       "       [63,  8, 42],\n",
       "       [30, 16,  9]])"
      ]
     },
     "execution_count": 79,
     "metadata": {},
     "output_type": "execute_result"
    }
   ],
   "source": [
    "arr1 * arr2"
   ]
  },
  {
   "cell_type": "code",
   "execution_count": 80,
   "id": "e594109d-70bf-4aee-a72a-62839da028e0",
   "metadata": {},
   "outputs": [
    {
     "data": {
      "text/plain": [
       "array([[ 53,  42,  75],\n",
       "       [ 79,  85, 132],\n",
       "       [ 53,  42,  75]])"
      ]
     },
     "execution_count": 80,
     "metadata": {},
     "output_type": "execute_result"
    }
   ],
   "source": [
    "arr1 @ arr2"
   ]
  },
  {
   "cell_type": "code",
   "execution_count": 81,
   "id": "93c32d3b-4179-47df-ad5d-d69dbbe8229d",
   "metadata": {},
   "outputs": [
    {
     "data": {
      "text/plain": [
       "array([[36,  4,  1],\n",
       "       [49,  1, 49],\n",
       "       [36,  4,  1]])"
      ]
     },
     "execution_count": 81,
     "metadata": {},
     "output_type": "execute_result"
    }
   ],
   "source": [
    "arr1 ** 2"
   ]
  },
  {
   "cell_type": "code",
   "execution_count": 82,
   "id": "aebb680a-492c-4c62-940c-772374299557",
   "metadata": {},
   "outputs": [
    {
     "data": {
      "text/plain": [
       "array([[6, 2, 1],\n",
       "       [7, 1, 7],\n",
       "       [6, 2, 1]])"
      ]
     },
     "execution_count": 82,
     "metadata": {},
     "output_type": "execute_result"
    }
   ],
   "source": [
    "arr1"
   ]
  },
  {
   "cell_type": "code",
   "execution_count": 83,
   "id": "c5b4539d-f7ce-4c43-aa44-f820b3d8b01b",
   "metadata": {},
   "outputs": [],
   "source": [
    "# numpy - broadcasting"
   ]
  },
  {
   "cell_type": "code",
   "execution_count": 96,
   "id": "5706b94c-4e5e-4a0f-bf4a-ba2279e2c165",
   "metadata": {},
   "outputs": [],
   "source": [
    "arr = np.zeros((4,4))"
   ]
  },
  {
   "cell_type": "code",
   "execution_count": 97,
   "id": "b6d55853-ed77-45c0-966a-13e6a303a3b9",
   "metadata": {},
   "outputs": [
    {
     "data": {
      "text/plain": [
       "array([[0., 0., 0., 0.],\n",
       "       [0., 0., 0., 0.],\n",
       "       [0., 0., 0., 0.],\n",
       "       [0., 0., 0., 0.]])"
      ]
     },
     "execution_count": 97,
     "metadata": {},
     "output_type": "execute_result"
    }
   ],
   "source": [
    "arr"
   ]
  },
  {
   "cell_type": "code",
   "execution_count": 86,
   "id": "37e7e3b8-a437-4b59-96df-98decb7df13f",
   "metadata": {},
   "outputs": [],
   "source": [
    "row = np.array([1,2,3,4])"
   ]
  },
  {
   "cell_type": "code",
   "execution_count": 87,
   "id": "0f416505-844c-4735-b5fa-ca6ddd740354",
   "metadata": {},
   "outputs": [
    {
     "data": {
      "text/plain": [
       "array([[1., 2., 3., 4.],\n",
       "       [1., 2., 3., 4.],\n",
       "       [1., 2., 3., 4.],\n",
       "       [1., 2., 3., 4.]])"
      ]
     },
     "execution_count": 87,
     "metadata": {},
     "output_type": "execute_result"
    }
   ],
   "source": [
    "arr+row"
   ]
  },
  {
   "cell_type": "code",
   "execution_count": 88,
   "id": "b2e72192-58d2-41e0-b42b-c313faccd805",
   "metadata": {},
   "outputs": [
    {
     "data": {
      "text/plain": [
       "(4, 4)"
      ]
     },
     "execution_count": 88,
     "metadata": {},
     "output_type": "execute_result"
    }
   ],
   "source": [
    "arr.shape"
   ]
  },
  {
   "cell_type": "code",
   "execution_count": 89,
   "id": "58ebfad9-e0e3-4205-8b5f-43b0b2fd2193",
   "metadata": {},
   "outputs": [
    {
     "data": {
      "text/plain": [
       "array([1, 2, 3, 4])"
      ]
     },
     "execution_count": 89,
     "metadata": {},
     "output_type": "execute_result"
    }
   ],
   "source": [
    "row"
   ]
  },
  {
   "cell_type": "code",
   "execution_count": 91,
   "id": "53708778-5499-4d49-b4eb-573eaf0ca063",
   "metadata": {},
   "outputs": [
    {
     "data": {
      "text/plain": [
       "array([1, 2, 3, 4])"
      ]
     },
     "execution_count": 91,
     "metadata": {},
     "output_type": "execute_result"
    }
   ],
   "source": [
    "row.T\n",
    "# it will not transpose because it is not 2d"
   ]
  },
  {
   "cell_type": "code",
   "execution_count": 93,
   "id": "d5bcc06e-179b-47e5-bd2f-cbebbbabc2ba",
   "metadata": {},
   "outputs": [],
   "source": [
    "col = np.array([[1,2,3,4]])"
   ]
  },
  {
   "cell_type": "code",
   "execution_count": 94,
   "id": "a701b8e4-1db1-4650-8457-0f850aab9994",
   "metadata": {},
   "outputs": [
    {
     "data": {
      "text/plain": [
       "array([[1],\n",
       "       [2],\n",
       "       [3],\n",
       "       [4]])"
      ]
     },
     "execution_count": 94,
     "metadata": {},
     "output_type": "execute_result"
    }
   ],
   "source": [
    "col.T"
   ]
  },
  {
   "cell_type": "code",
   "execution_count": 99,
   "id": "3a410541-aa30-4695-8ad0-3ce6abf090c3",
   "metadata": {},
   "outputs": [
    {
     "data": {
      "text/plain": [
       "array([[1., 1., 1., 1.],\n",
       "       [2., 2., 2., 2.],\n",
       "       [3., 3., 3., 3.],\n",
       "       [4., 4., 4., 4.]])"
      ]
     },
     "execution_count": 99,
     "metadata": {},
     "output_type": "execute_result"
    }
   ],
   "source": [
    "arr + col.T"
   ]
  },
  {
   "cell_type": "code",
   "execution_count": 101,
   "id": "f98c3d4e-08cf-41c9-9479-e2eafb05357e",
   "metadata": {},
   "outputs": [],
   "source": [
    "arr1 = np.random.randint(1,10,(3,3))"
   ]
  },
  {
   "cell_type": "code",
   "execution_count": 103,
   "id": "96fc51b3-9cc8-4611-bf7f-4502dd145553",
   "metadata": {},
   "outputs": [
    {
     "data": {
      "text/plain": [
       "array([[1.41421356, 2.23606798, 1.73205081],\n",
       "       [2.        , 2.44948974, 1.73205081],\n",
       "       [3.        , 2.44948974, 2.        ]])"
      ]
     },
     "execution_count": 103,
     "metadata": {},
     "output_type": "execute_result"
    }
   ],
   "source": [
    "np.sqrt(arr1)"
   ]
  },
  {
   "cell_type": "code",
   "execution_count": 104,
   "id": "2f30d876-da76-491e-860d-87e1b1fc7aa2",
   "metadata": {},
   "outputs": [
    {
     "data": {
      "text/plain": [
       "array([[0.30103   , 0.69897   , 0.47712125],\n",
       "       [0.60205999, 0.77815125, 0.47712125],\n",
       "       [0.95424251, 0.77815125, 0.60205999]])"
      ]
     },
     "execution_count": 104,
     "metadata": {},
     "output_type": "execute_result"
    }
   ],
   "source": [
    "np.log10(arr1)"
   ]
  },
  {
   "cell_type": "code",
   "execution_count": null,
   "id": "6b00b6a3-0171-4b36-8bbb-f4a94761041c",
   "metadata": {},
   "outputs": [],
   "source": []
  }
 ],
 "metadata": {
  "kernelspec": {
   "display_name": "Python 3 (ipykernel)",
   "language": "python",
   "name": "python3"
  },
  "language_info": {
   "codemirror_mode": {
    "name": "ipython",
    "version": 3
   },
   "file_extension": ".py",
   "mimetype": "text/x-python",
   "name": "python",
   "nbconvert_exporter": "python",
   "pygments_lexer": "ipython3",
   "version": "3.12.2"
  }
 },
 "nbformat": 4,
 "nbformat_minor": 5
}
