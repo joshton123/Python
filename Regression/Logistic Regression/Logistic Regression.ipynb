{
 "cells": [
  {
   "cell_type": "markdown",
   "id": "48909e45-160a-4f64-8754-1fb56a230592",
   "metadata": {},
   "source": [
    "## Logistic Regression\n",
    "    - to solve classification problem\n",
    "        - Binary Classification\n",
    "        - multiclass ckassification\n",
    "\n",
    "### why we cannot use linear regression for classification\n",
    "    - best fit line changes because og outliers --> prediction goes wrong\n",
    "    - The outcomes come >1 and <0 \n",
    "    - so we use Logistic regression ( 0 to 1 ) Squasing techinque\n",
    "\n"
   ]
  },
  {
   "cell_type": "markdown",
   "id": "19eb4ef4-7234-46be-adff-1fd33ba1dd4d",
   "metadata": {},
   "source": [
    "log loss is used in logistic regression so that we can get only one global minima\n",
    "it is also convex function \n",
    "\n",
    "minimize the cost function we can do by changing the value of θ . this is done by convergence algorithm"
   ]
  },
  {
   "cell_type": "markdown",
   "id": "a4aa9e87-ef71-4480-837d-450ca0272733",
   "metadata": {},
   "source": [
    "## Regularization Parameter"
   ]
  },
  {
   "cell_type": "markdown",
   "id": "bac89986-81e0-400a-9e6d-640110d0784e",
   "metadata": {},
   "source": [
    "main in for reduces overfitting and feature selection"
   ]
  },
  {
   "cell_type": "markdown",
   "id": "44914ee9-5053-4def-9197-287105c27bfe",
   "metadata": {},
   "source": [
    "- **confusion matrix** is used to measure the performance of a classifier in dept\n",
    "- **accuracy** is a metric that measures how often a model's \n",
    "    * Accuracy = (TP + TN) / (TP + TN + FP + FN)\n",
    "predictions are correct.\n",
    "- IN CASE OF IMBALANCED DATASET WE CANT USE ACCURACY\n",
    "- **precision** is a metric that measures how often a model correctly predicts a positive class  (FP is important)\n",
    "  * Precision = TP / (TP + FP)\n",
    "  * reduce more of FP \n",
    "- **Recall** is a metric that measures how often a machine learning model correctly identifies positive instances (true positives) from all the actual positive samples in the dataset\n",
    "  * Recall = TP / (TP + FN) \n",
    "  * reduce more of FN"
   ]
  },
  {
   "cell_type": "markdown",
   "id": "6f7354c6-d4ad-4f82-ae71-00d6f29b8806",
   "metadata": {},
   "source": [
    "- **β = 1**: Treats false positives and false negatives equally.\n",
    "- **β = 0.5**: More weight on precision (reducing false positives).\n",
    "- **β = 2**: More weight on recall (reducing false negatives).\n"
   ]
  },
  {
   "cell_type": "markdown",
   "id": "d1228285-1db3-4828-86dc-b217434c4956",
   "metadata": {},
   "source": [
    "During model training the training data is divided into 2 types\n",
    "- train data (model train)\n",
    "- validation data (model hyperparameter tuning)\n",
    "\n",
    "so we use cross validation which is mean of all accuracy\n",
    "- Types:\n",
    "   1. Leave_one_out_cross_validation :\n",
    "      * Time complexity is huge for training big dataset\n",
    "      * Training accuracy ↑\n",
    "      * validation accuracy ↓\n",
    "   2. Leave_P_out_of_Cross_validation :\n",
    "      * p = 30,40,50 hyperparameter\n",
    "   3. K_Fold_Cross_Validation:\n",
    "      * validation_size = CV / size_k.\n",
    "      * Then average of all the accuracy\n",
    "   4. Stratifies_K_Fold_Cross_Validation :\n",
    "      * No of 0 and 1 will be kept equal\n",
    "   5. Time_Series_Cross_Validation :\n",
    "      * egs: Amazon_review_Sentiment_Analysis\n",
    " "
   ]
  },
  {
   "cell_type": "code",
   "execution_count": null,
   "id": "0596f678-4819-49bb-815d-ce14ed38c1d5",
   "metadata": {},
   "outputs": [],
   "source": [
    "### HYperparameter tuning \n",
    "it is used to select parameter like l1,l2,eleasticnet,none\n",
    "finding best paramter while training the model\n",
    " - Grid_search_CV \n",
    "    * increase the model performance the accuracy\n",
    "    * time complexity increases for training the model\n",
    " - Randomized_Search_CV\n",
    "    * timecomplexity decreases"
   ]
  }
 ],
 "metadata": {
  "kernelspec": {
   "display_name": "Python 3 (ipykernel)",
   "language": "python",
   "name": "python3"
  },
  "language_info": {
   "codemirror_mode": {
    "name": "ipython",
    "version": 3
   },
   "file_extension": ".py",
   "mimetype": "text/x-python",
   "name": "python",
   "nbconvert_exporter": "python",
   "pygments_lexer": "ipython3",
   "version": "3.12.2"
  }
 },
 "nbformat": 4,
 "nbformat_minor": 5
}
