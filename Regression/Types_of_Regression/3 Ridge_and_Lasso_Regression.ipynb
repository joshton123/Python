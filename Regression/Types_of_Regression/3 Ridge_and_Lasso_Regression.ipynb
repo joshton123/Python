{
 "cells": [
  {
   "cell_type": "raw",
   "id": "8500414d-464a-4ec8-8aae-cafd74b4e9d4",
   "metadata": {},
   "source": [
    "reducing overfitting --> Ridge\n",
    "Feature Selection --> Lasso"
   ]
  },
  {
   "cell_type": "markdown",
   "id": "fed4a8a8-405a-4a89-9724-7f5432fc7d33",
   "metadata": {},
   "source": [
    "# Ridge regression\n",
    "Ridge regression is a statistical regularization technique. It corrects for overfitting on training data in machine learning models. Ridge regression also known as L2 regularization "
   ]
  },
  {
   "cell_type": "markdown",
   "id": "56081eff-4770-46e3-b032-02e9ec2a7840",
   "metadata": {},
   "source": [
    "# Lasso Regression \n",
    "- L1 regularization . it is used in feature selection"
   ]
  },
  {
   "cell_type": "markdown",
   "id": "514d5d51-0d6a-48b8-8a82-88418edd674a",
   "metadata": {},
   "source": [
    "\n",
    "\n",
    "## 1. Key Points\n",
    "- **Feature Selection**: Lasso can shrink some coefficients to exactly zero, effectively performing feature selection.\n",
    "- **Comparison with Ridge**: Unlike Ridge, Lasso can eliminate irrelevant features by setting coefficients to zero.\n",
    "- **Hyperparameter Tuning**: \\( \\lambda \\) controls the amount of shrinkage. You can tune \\( \\lambda \\) via cross-validation.\n",
    "\n",
    "## 2. When to Use Lasso Regression\n",
    "- High-dimensional data where feature selection is important.\n",
    "- Regularization is needed to prevent overfitting.\n"
   ]
  },
  {
   "cell_type": "markdown",
   "id": "a14a43d7-e3a4-4d7f-8eab-b8ad4720505d",
   "metadata": {},
   "source": [
    "the feature which is not more correlated then it will reduce coeffinent to 0 , then the feature will be deleted"
   ]
  },
  {
   "cell_type": "code",
   "execution_count": null,
   "id": "0a26cb81-6716-473c-9817-2cf95e0b1dd0",
   "metadata": {},
   "outputs": [],
   "source": [
    "from sklearn.linear_model import Lasso\n",
    "from sklearn.model_selection import train_test_split\n",
    "from sklearn.metrics import mean_squared_error\n",
    "\n",
    "# Assuming X and y are your features and target\n",
    "X_train, X_test, y_train, y_test = train_test_split(X, y, test_size=0.2, random_state=42)\n",
    "\n",
    "# Instantiate the Lasso regression model\n",
    "lasso_reg = Lasso(alpha=0.1)  # Alpha is the regularization parameter, equivalent to λ\n",
    "\n",
    "# Fit the model to the training data\n",
    "lasso_reg.fit(X_train, y_train)\n",
    "\n",
    "# Predict on the test data\n",
    "y_pred = lasso_reg.predict(X_test)\n",
    "\n",
    "# Evaluate the model\n",
    "mse = mean_squared_error(y_test, y_pred)\n",
    "print(f'Mean Squared Error: {mse}')\n"
   ]
  },
  {
   "cell_type": "markdown",
   "id": "b68407e2-73c3-4678-8be6-e94a7277a4a6",
   "metadata": {},
   "source": [
    "# Elastic_Net_Regressiom"
   ]
  },
  {
   "cell_type": "markdown",
   "id": "7f74a4ac-17b1-4cd6-9f5c-c839477ef780",
   "metadata": {},
   "source": [
    "Here we use both reducing overfitting and Feature\n",
    "\n",
    "Basicaaly it is combination of Ridgr and Lasso"
   ]
  },
  {
   "cell_type": "markdown",
   "id": "44bfa845-e3a8-47c0-aaf1-a45af34e15b1",
   "metadata": {},
   "source": [
    "**Hyperparameter tuning** is the process of finding the best set of hyperparameters for a machine learning model to use during training"
   ]
  },
  {
   "cell_type": "code",
   "execution_count": null,
   "id": "f01659bd-da3c-4fed-bfa6-6468ce4c711a",
   "metadata": {},
   "outputs": [],
   "source": []
  }
 ],
 "metadata": {
  "kernelspec": {
   "display_name": "Python 3 (ipykernel)",
   "language": "python",
   "name": "python3"
  },
  "language_info": {
   "codemirror_mode": {
    "name": "ipython",
    "version": 3
   },
   "file_extension": ".py",
   "mimetype": "text/x-python",
   "name": "python",
   "nbconvert_exporter": "python",
   "pygments_lexer": "ipython3",
   "version": "3.12.2"
  }
 },
 "nbformat": 4,
 "nbformat_minor": 5
}
