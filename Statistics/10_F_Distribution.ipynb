{
 "cells": [
  {
   "cell_type": "markdown",
   "id": "074b6ce7-bdad-423b-9ece-9d72359992d4",
   "metadata": {},
   "source": [
    "# F Distribution"
   ]
  },
  {
   "cell_type": "raw",
   "id": "7b1aeca5-86f3-4f4a-8de5-51a7c9690ce5",
   "metadata": {},
   "source": [
    "The F-distribution was developed by Fisher to study the behavior of two variances from random samples taken from two independent normal populations. In applied problems we may be interested in knowing whether the population variances are equal, based on the response of the random samples."
   ]
  },
  {
   "cell_type": "raw",
   "id": "dc11dc2d-62f1-42ac-92fd-b09dc1f11a83",
   "metadata": {},
   "source": [
    "F-test(variance ratio test) : An F-test is any statistical test used to compare the variances of two samples or the ratio of variances between multiple samples"
   ]
  },
  {
   "cell_type": "raw",
   "id": "94fec0b5-be51-4306-bae7-4792bb9598e5",
   "metadata": {},
   "source": [
    "1. null hypothesis\n",
    "2. Alternate hypothesis\n",
    "3. calculation of variance\n",
    "4. calculation of variance ratio f-test\n",
    "5. Decision rule"
   ]
  },
  {
   "cell_type": "code",
   "execution_count": 1,
   "id": "02a94da2-5409-4c10-b9d2-16d43e4be1e5",
   "metadata": {},
   "outputs": [],
   "source": [
    "#Evidence to say that the two population variances are not equal.\n",
    "\n",
    "worker1= [18, 19, 22, 25, 27, 28, 41, 45, 51, 55]\n",
    "worker2= [14, 15, 15, 17, 18, 22, 25, 25, 27, 34]"
   ]
  },
  {
   "cell_type": "code",
   "execution_count": 4,
   "id": "999c027e-a61b-44a8-b069-0399453e53d1",
   "metadata": {},
   "outputs": [
    {
     "data": {
      "text/plain": [
       "4.387122002085506"
      ]
     },
     "execution_count": 4,
     "metadata": {},
     "output_type": "execute_result"
    }
   ],
   "source": [
    "## Calaculating Ftest\n",
    "import numpy as np\n",
    "f_test = np.var(worker1)/np.var(worker2)\n",
    "f_test"
   ]
  },
  {
   "cell_type": "code",
   "execution_count": 6,
   "id": "015fec6c-a5b8-44a3-9a89-3488da0a392c",
   "metadata": {},
   "outputs": [],
   "source": [
    "## Degree OF fReedom\n",
    "df1 = len(worker1)-1\n",
    "df2 = len(worker2)-1\n",
    "signifance_value = 0.05"
   ]
  },
  {
   "cell_type": "code",
   "execution_count": 7,
   "id": "dc68fccb-a9ce-4fce-af18-97ef40d51364",
   "metadata": {},
   "outputs": [
    {
     "data": {
      "text/plain": [
       "3.17889310445827"
      ]
     },
     "execution_count": 7,
     "metadata": {},
     "output_type": "execute_result"
    }
   ],
   "source": [
    "import scipy.stats as stat\n",
    "critical_value = stat.f.ppf(q=1-signifance_value , dfn=df1 , dfd=df2)\n",
    "critical_value"
   ]
  },
  {
   "cell_type": "code",
   "execution_count": 8,
   "id": "abce6cfa-b73c-4400-af6d-d4f860b9b032",
   "metadata": {},
   "outputs": [
    {
     "name": "stdout",
     "output_type": "stream",
     "text": [
      "Reject the Null Hypothesis\n"
     ]
    }
   ],
   "source": [
    "if f_test > critical_value:\n",
    "    print(\"Reject the Null Hypothesis\")\n",
    "else:\n",
    "    print(\"We fail to Reject the Null Hypothesis\")"
   ]
  },
  {
   "cell_type": "code",
   "execution_count": null,
   "id": "3dbffaa0-74b3-4b7a-bfa8-a3e3f43e0554",
   "metadata": {},
   "outputs": [],
   "source": []
  }
 ],
 "metadata": {
  "kernelspec": {
   "display_name": "Python 3 (ipykernel)",
   "language": "python",
   "name": "python3"
  },
  "language_info": {
   "codemirror_mode": {
    "name": "ipython",
    "version": 3
   },
   "file_extension": ".py",
   "mimetype": "text/x-python",
   "name": "python",
   "nbconvert_exporter": "python",
   "pygments_lexer": "ipython3",
   "version": "3.12.2"
  }
 },
 "nbformat": 4,
 "nbformat_minor": 5
}
