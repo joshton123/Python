{
 "cells": [
  {
   "cell_type": "markdown",
   "id": "9ae13d6e-c65d-4a4f-9c0d-89097e850142",
   "metadata": {},
   "source": [
    "# Anova (Analysis of Variance)"
   ]
  },
  {
   "cell_type": "raw",
   "id": "3ceeaa88-f867-4fb4-9266-eb722806ff38",
   "metadata": {},
   "source": [
    "Anova is a statisticaal method used to compare the mean of 2 or more group\n",
    "1. Factors(vriables)\n",
    "2. Levels\n",
    "\n",
    "egs: factor = medicine\n",
    "     levels = 5mg 10mg 20mg\n",
    "\n",
    "egs: Factor = mode_of_payment\n",
    "     levels = gpay phonepay neft"
   ]
  },
  {
   "cell_type": "raw",
   "id": "d277aad4-da55-46ab-9291-a66c7635e012",
   "metadata": {},
   "source": [
    "Assumption in ANOVA\n",
    "    1. normality of sampling distribution of means:\n",
    "        - the distribution of sample mean is normaly distributed\n",
    "    2. Absense of outliers\n",
    "        - need to be removed from dataset\n",
    "    3. Homogenity of Variance\n",
    "        - Each one of the population has same variance\n",
    "        - population variance in different level of each independent variable are equal\n",
    "    4. Sample must be independent and random"
   ]
  },
  {
   "cell_type": "raw",
   "id": "dba948f6-4d23-47df-ba8d-762a5215cf8f",
   "metadata": {},
   "source": [
    "Types of Anova:\n",
    "1. One Way anova: one factor with atleast 2 level , these level are independent\n",
    "    egs: doctor want to test a medication to decrease medication. they split into 3 condition [10mg,20mg,30mg] . then doctor ask participant to rate the headache[1-10]\n",
    "\n",
    "2. Repeated measure anova: One factor with atleast 2 level, levels are independent.\n",
    "    running -> factor\n",
    "    day1 day2 day3\n",
    "\n",
    "3. Factorial anova: 2 or more factor (each of which with atleast 2 levels\n",
    "    running -> factor\n",
    "    day1 day2 day3 (we use gender then it is 2 level)"
   ]
  },
  {
   "cell_type": "markdown",
   "id": "aa0f9f4f-43dc-44a4-b296-a4b0c05cb91a",
   "metadata": {},
   "source": [
    "# Hypothesis Testing in Anova"
   ]
  },
  {
   "cell_type": "raw",
   "id": "c3ad84a0-b98c-46e1-9b11-725786eba6d8",
   "metadata": {},
   "source": [
    "Null hypothesis: all mean are equal\n",
    "alternative hypothesis: atleast one mean is not equal\n",
    "\n",
    "test statistics = variation_between_samples / varaiation_within_samples"
   ]
  },
  {
   "cell_type": "raw",
   "id": "0735339e-8b36-4431-ad0e-add3bbe701d9",
   "metadata": {},
   "source": [
    "cal degree of freedom:\n",
    "dof_between = a-1\n",
    "dof_within = n-a\n",
    "dof_total = n-1"
   ]
  },
  {
   "cell_type": "raw",
   "id": "d6f24ddd-5109-4c73-b318-c0b379edfb38",
   "metadata": {},
   "source": []
  },
  {
   "cell_type": "code",
   "execution_count": null,
   "id": "ffbacf72-4eac-498f-95b3-2237bb139ea9",
   "metadata": {},
   "outputs": [],
   "source": []
  },
  {
   "cell_type": "code",
   "execution_count": null,
   "id": "63ce5e35-2364-43ff-a790-a922c6a9c6fd",
   "metadata": {},
   "outputs": [],
   "source": []
  },
  {
   "cell_type": "code",
   "execution_count": null,
   "id": "af8192ae-ec0e-4097-8050-5bd329183e52",
   "metadata": {},
   "outputs": [],
   "source": []
  }
 ],
 "metadata": {
  "kernelspec": {
   "display_name": "Python 3 (ipykernel)",
   "language": "python",
   "name": "python3"
  },
  "language_info": {
   "codemirror_mode": {
    "name": "ipython",
    "version": 3
   },
   "file_extension": ".py",
   "mimetype": "text/x-python",
   "name": "python",
   "nbconvert_exporter": "python",
   "pygments_lexer": "ipython3",
   "version": "3.12.2"
  }
 },
 "nbformat": 4,
 "nbformat_minor": 5
}
