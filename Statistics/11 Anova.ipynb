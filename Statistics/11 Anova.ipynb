{
 "cells": [
  {
   "cell_type": "markdown",
   "id": "9ae13d6e-c65d-4a4f-9c0d-89097e850142",
   "metadata": {},
   "source": [
    "# Anova (Analysis of Variance)"
   ]
  },
  {
   "cell_type": "raw",
   "id": "3ceeaa88-f867-4fb4-9266-eb722806ff38",
   "metadata": {},
   "source": [
    "Anova is a statisticaal method used to compare the mean of 2 or more group\n",
    "1. Factors(vriables)\n",
    "2. Levels\n",
    "\n",
    "egs: factor = medicine\n",
    "     levels = 5mg 10mg 20mg\n",
    "\n",
    "egs: Factor = mode_of_payment\n",
    "     levels = gpay phonepay neft"
   ]
  },
  {
   "cell_type": "raw",
   "id": "d277aad4-da55-46ab-9291-a66c7635e012",
   "metadata": {},
   "source": [
    "Assumption in ANOVA\n",
    "    1. normality of sampling distribution of means:\n",
    "        - the distribution of sample mean is normaly distributed\n",
    "    2. Absense of outliers\n",
    "        - need to be removed from dataset\n",
    "    3. Homogenity of Variance\n",
    "        - Each one of the population has same variance\n",
    "        - population variance in different level of each independent variable are equal\n",
    "    4. Sample must be independent and random"
   ]
  },
  {
   "cell_type": "raw",
   "id": "dba948f6-4d23-47df-ba8d-762a5215cf8f",
   "metadata": {},
   "source": [
    "Types of Anova:\n",
    "1. One Way anova: one factor with atleast 2 level , these level are independent\n",
    "    egs: doctor want to test a medication to decrease medication. they split into 3 condition [10mg,20mg,30mg] . then doctor ask participant to rate the headache[1-10]"
   ]
  }
 ],
 "metadata": {
  "kernelspec": {
   "display_name": "Python 3 (ipykernel)",
   "language": "python",
   "name": "python3"
  },
  "language_info": {
   "codemirror_mode": {
    "name": "ipython",
    "version": 3
   },
   "file_extension": ".py",
   "mimetype": "text/x-python",
   "name": "python",
   "nbconvert_exporter": "python",
   "pygments_lexer": "ipython3",
   "version": "3.12.2"
  }
 },
 "nbformat": 4,
 "nbformat_minor": 5
}
