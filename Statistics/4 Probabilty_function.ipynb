{
 "cells": [
  {
   "cell_type": "raw",
   "id": "f6f42a59-62cb-404c-ad1b-2bf94e6ccf6c",
   "metadata": {},
   "source": [
    "Probability density function (pdf)\n",
    "    probability density function (PDF) is used to define the random variable’s probability coming within a distinct range of values, as\n",
    "        opposed to taking on any one value\n",
    "    probabilty density function : distibution of the continuous random variable\n",
    "    egs: height of students\n",
    "\n",
    "probabilty mass function : distibution of the descrete random  variable\n",
    "    egs: rolling a dice or rolling a coin\n",
    "     {1, 2, 3, 4, 5 ,6} for this cdf will be {1/6, 2/6, 3/6, 4/6, 5/6, 6/6 }\n",
    "\n",
    "Cumulative distribution function:(cdf)\n",
    "    it is used to describe the probability distribution of random variables in a table"
   ]
  }
 ],
 "metadata": {
  "kernelspec": {
   "display_name": "Python 3 (ipykernel)",
   "language": "python",
   "name": "python3"
  },
  "language_info": {
   "codemirror_mode": {
    "name": "ipython",
    "version": 3
   },
   "file_extension": ".py",
   "mimetype": "text/x-python",
   "name": "python",
   "nbconvert_exporter": "python",
   "pygments_lexer": "ipython3",
   "version": "3.12.2"
  }
 },
 "nbformat": 4,
 "nbformat_minor": 5
}
