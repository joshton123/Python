{
 "cells": [
  {
   "cell_type": "raw",
   "id": "91ea32c5-12c8-4757-834d-4c25b4e7de8f",
   "metadata": {},
   "source": [
    "Type of probability function:\n",
    "    Normal/Gaussian Distributiom - (pdf)\n",
    "    Bernoulli Distributiom (pmf)\n",
    "    Uniform Distributiom (pmf)\n",
    "    Poisson Distributiom (pmf)\n",
    "    Log normal Distributiom (pdf)\n",
    "    Binomial Distributiom (pmf)"
   ]
  },
  {
   "cell_type": "raw",
   "id": "2da600a1-cec4-4103-8d99-dc6f9e3cc0df",
   "metadata": {},
   "source": [
    "A probability mass function (pmf) is a function over the sample space of a discrete random variable X which gives the probability that X is equal to a certain value. Let X be a discrete random variable on a sample space S . Then the probability mass function f(x) is defined as. f(x)=P[X=x]."
   ]
  },
  {
   "cell_type": "raw",
   "id": "648b2366-2458-480c-9b1a-9f4a4859eea1",
   "metadata": {},
   "source": [
    "Bernoulli Distributiom (pmf) - outcome are binary only\n",
    "        - Descrete Random variable(pmf)\n",
    "        - egs: tossing a coin\n",
    "        - p , q=1-p , k={0,1}"
   ]
  },
  {
   "cell_type": "raw",
   "id": "60933d89-e41f-4a70-958b-bd1ff1545f50",
   "metadata": {},
   "source": [
    "Binomial Distributiom (pmf):\n",
    "   - Experiment is performed for n times\n",
    "   - binomial distribution is the discrete probability distribution that gives only two possible results in an experiment, either Success or Failure. \n",
    "   -  egs: if we toss a coin, there could be only two possible outcomes: heads or tails, and if any test is taken, then there could be only two results: pass or fail. This distribution is also called a binomial probability distribution"
   ]
  },
  {
   "cell_type": "raw",
   "id": "16214872-746f-4c33-9a77-bc9b6d1738a2",
   "metadata": {},
   "source": [
    "Poisson Distribution (pmf):\n",
    "    - Dicrete random variable\n",
    "    - describe the number of event occuring in as ffixed time event\n",
    "    - egs: no of people visiting hospital every hour\n",
    "    - egs: no of people visiting bank every hour"
   ]
  },
  {
   "cell_type": "raw",
   "id": "a6907f81-8e9e-4140-9838-b979bba930dd",
   "metadata": {},
   "source": [
    "Normal Distribution:\n",
    "    - it is type of continuous probability distribution to a real valued random variable \n",
    "    - Emperical rule of normal distribution\n",
    "    - The empirical rule, also known as the 68-95-99.7 rule, is a set of percentages that shows how much of a normal distribution's data is          within a certain number of standard deviations from the mean: \n",
    "     68%: About 68% of values are within one standard deviation of the mean \n",
    "     95%: About 95% of values are within two standard deviations of the mean \n",
    "     99.7%: About 99.7% of values are within three standard deviations of the mean \n",
    "For example, if the pulse rates of 200 college men are bell-shaped with a mean of 72 and a standard deviation of 6, then about 68% of the men have pulse rates between 66 and 78, about 95% have pulse rates between 60 and 84, and about 99.7% have pulse rates between 54 and 90\n",
    "egs: height of student in the class\n",
    "egs: Weight of student in the class"
   ]
  },
  {
   "cell_type": "raw",
   "id": "50a56a97-28c6-4dc7-b48f-3f995a56f80f",
   "metadata": {},
   "source": [
    "Uniform Distribution: (continuos random variable)\n",
    "    - A uniform distribution is a probability distribution where all possible outcomes are equally likely.\n",
    "    - a form of probability distribution where every possible outcome has an equal likelihood of happening. The probability is constant since each variable has equal chances of being the outcome\n",
    "    - the number of candies sold daily in a shop is uniformly distribute with a max of 40 and a min of 10\n",
    "        probabiluty of daily sales between 15 to 30?\n",
    "        for this we use uniform distribution\n",
    "    - there are 2 of it . continuous and descrete uniform distribution."
   ]
  }
 ],
 "metadata": {
  "kernelspec": {
   "display_name": "Python 3 (ipykernel)",
   "language": "python",
   "name": "python3"
  },
  "language_info": {
   "codemirror_mode": {
    "name": "ipython",
    "version": 3
   },
   "file_extension": ".py",
   "mimetype": "text/x-python",
   "name": "python",
   "nbconvert_exporter": "python",
   "pygments_lexer": "ipython3",
   "version": "3.12.2"
  }
 },
 "nbformat": 4,
 "nbformat_minor": 5
}
