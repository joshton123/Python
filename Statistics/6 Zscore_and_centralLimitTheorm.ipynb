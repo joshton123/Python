{
 "cells": [
  {
   "cell_type": "raw",
   "id": "a07a7543-d07b-43d9-95c8-9b24e6091334",
   "metadata": {},
   "source": [
    "Z-score:\n",
    "    - It is a way to compare the results from a test to a “normal” population.\n",
    "\n",
    "    in india the avg IQ is 100. what is the % of the population whould u have an IQ lower than 85?\n",
    "    z-score = (85-100)/15 = -1 \n",
    "     area under the curve = 15.866  "
   ]
  },
  {
   "cell_type": "markdown",
   "id": "da02bb57-419b-406a-83ae-d2e176a431eb",
   "metadata": {},
   "source": [
    "# Central LIMIT Theorm"
   ]
  },
  {
   "cell_type": "raw",
   "id": "91cca9f6-6aa6-4f82-8f4c-cdc1b677fe88",
   "metadata": {},
   "source": [
    "The central limit theorem (CLT) states that the distribution of sample means approximates a normal distribution as the sample size gets larger, regardless of the population's distribution"
   ]
  }
 ],
 "metadata": {
  "kernelspec": {
   "display_name": "Python 3 (ipykernel)",
   "language": "python",
   "name": "python3"
  },
  "language_info": {
   "codemirror_mode": {
    "name": "ipython",
    "version": 3
   },
   "file_extension": ".py",
   "mimetype": "text/x-python",
   "name": "python",
   "nbconvert_exporter": "python",
   "pygments_lexer": "ipython3",
   "version": "3.12.2"
  }
 },
 "nbformat": 4,
 "nbformat_minor": 5
}
