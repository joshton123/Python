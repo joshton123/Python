{
 "cells": [
  {
   "cell_type": "raw",
   "id": "e311ab6e-06ee-443a-9169-5124fef4f292",
   "metadata": {},
   "source": [
    "Estimate:\n",
    "    it is an onserved numerical value used to estimate an unknown population parameter\n",
    "\n",
    "    2 type:\n",
    "    i) point estimate: simgle numerical value used to estimate the unknown population parameter\n",
    "             sample mean is point estimate of population mean\n",
    "   ii) Intervel estimate: range of values that is used to estimate unknown population parameter\n",
    "             it is also clled as confidence intervel"
   ]
  },
  {
   "cell_type": "markdown",
   "id": "9cf43d87-5fac-4bec-a54e-f9111b3734e5",
   "metadata": {},
   "source": [
    "#  Hypothesis testing"
   ]
  },
  {
   "cell_type": "raw",
   "id": "15d591df-6a78-4c7f-91d3-42e50435af0b",
   "metadata": {},
   "source": [
    "Hypothesis testing is a systematic procedure for deciding whether the results of a research study support a particular theory which applies to a population\n",
    "\n",
    "1 null hypothesis (h0): the assumption ur begining with\n",
    "2 Alternate Hypothesis (h1): Opposite of null hypothesis\n",
    "3 Experiment: collect proof  (p vlue) which is statistical analysis\n",
    "\n",
    "egs: think a person is committed a crime:\n",
    "    h0: the person is not guilty\n",
    "    h1: the person is guilty\n",
    "    experiment: collect proof"
   ]
  },
  {
   "cell_type": "markdown",
   "id": "0d8d42ca-9d93-4a32-9c58-cb730257d04d",
   "metadata": {},
   "source": [
    "# P Value"
   ]
  },
  {
   "cell_type": "raw",
   "id": "918da44d-8264-4706-b7d6-ca8b1d844c4b",
   "metadata": {},
   "source": [
    "it says how likely ur to have found a particular set of observation if the null hypothesis is true"
   ]
  },
  {
   "cell_type": "raw",
   "id": "48b3a9b6-f8f6-4e4d-974a-a801822b3d86",
   "metadata": {},
   "source": [
    "egs: coin is tossed\n",
    "1 null hypothesis (h0): the coin is fair\n",
    "2 Alternate Hypothesis (h1): the coin is not fair\n",
    "3 Experiment: for this we use confidence intervel (30-70) <30 it is not fair"
   ]
  },
  {
   "cell_type": "raw",
   "id": "adc1495e-6e0d-468a-bb95-57ce2081d251",
   "metadata": {},
   "source": [
    "z-test\n",
    "t-test\n",
    "chi-square = categorical dat\n",
    "annova - variance"
   ]
  },
  {
   "cell_type": "raw",
   "id": "4dc5409d-41af-4b50-b548-b390bd67073d",
   "metadata": {},
   "source": [
    "if p-value < significance value we reject null hypothesis"
   ]
  },
  {
   "cell_type": "code",
   "execution_count": null,
   "id": "09bec0ef-b40a-43ae-8f99-bce69189495b",
   "metadata": {},
   "outputs": [],
   "source": [
    " "
   ]
  }
 ],
 "metadata": {
  "kernelspec": {
   "display_name": "Python 3 (ipykernel)",
   "language": "python",
   "name": "python3"
  },
  "language_info": {
   "codemirror_mode": {
    "name": "ipython",
    "version": 3
   },
   "file_extension": ".py",
   "mimetype": "text/x-python",
   "name": "python",
   "nbconvert_exporter": "python",
   "pygments_lexer": "ipython3",
   "version": "3.12.2"
  }
 },
 "nbformat": 4,
 "nbformat_minor": 5
}
