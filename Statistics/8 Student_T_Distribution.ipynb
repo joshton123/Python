{
 "cells": [
  {
   "cell_type": "markdown",
   "id": "cdad0fc0-f7b6-4fbc-b0e5-30e4f15973c1",
   "metadata": {},
   "source": [
    "# Student t Distribution"
   ]
  },
  {
   "cell_type": "raw",
   "id": "55dbbed3-1bbf-4913-8896-c9cc484e5d87",
   "metadata": {},
   "source": [
    "statisticl analysis using z-score we need population standard deviation"
   ]
  },
  {
   "cell_type": "raw",
   "id": "8abfeb1b-2300-42d0-a93b-d05e79831fa7",
   "metadata": {},
   "source": [
    "how do we perform analysis when we don't have population standard deviation\n",
    "so we use Student t Distribution"
   ]
  },
  {
   "cell_type": "raw",
   "id": "533922c3-12e6-4c8e-8ef9-cf2058268e5e",
   "metadata": {},
   "source": [
    "One-sided tail test, either greater than or less than a certain value\n",
    "Two-sided tail test, tests whether a sample is greater than or less than a certain range of values"
   ]
  },
  {
   "cell_type": "raw",
   "id": "a6d6a258-fe9e-4e84-a660-6b5078368761",
   "metadata": {},
   "source": [
    "when to use t-test and z-test\n",
    "do u know population std\n",
    "    no then t-test\n",
    "    yes then check sample size above 30 if yes z-test otherwise no use t-test"
   ]
  },
  {
   "cell_type": "markdown",
   "id": "4bba73d1-c3bd-4ae6-8e42-5d6070d6fe7c",
   "metadata": {},
   "source": [
    "# Type1 and Type2 error"
   ]
  },
  {
   "cell_type": "raw",
   "id": "a10a7e8f-5052-4281-a04c-f5e79faf8549",
   "metadata": {},
   "source": [
    "Reality : NULL hypothesis is true or NULL hypothesis is false\n",
    "Decision : NULL hypothesis is true or NULL hypothesis is false\n",
    "\n",
    "Outcome1 : we reject the NH when in reality it is false \n",
    "Outcome2 : we reject the NH when in reality it is true (type 1 - error) \n",
    "Outcome3 : we retain the NH when in reality it is false (type2 -error)\n",
    "Outcome4 : we retain the NH when in reality it is true "
   ]
  },
  {
   "cell_type": "markdown",
   "id": "2e3951b8-919b-4041-ba68-b6925178bb20",
   "metadata": {},
   "source": [
    "# Confidence Interval And Margin of Error"
   ]
  },
  {
   "cell_type": "raw",
   "id": "4702860e-6050-4a13-9c34-108399f39452",
   "metadata": {},
   "source": [
    "point estimate: a value of any statistics that estimates the value of an unknown population parameter\n",
    "    We construct a confidence intervel to help estimate what is actual value of unknow population mean\n",
    "\n",
    "z-test: point_estimate +or- margin_of_error\n",
    "based on that there will be lower CI and higher CI . the value should lie inside these Confidence interval"
   ]
  },
  {
   "cell_type": "markdown",
   "id": "5f984fcb-afa0-4853-971f-b9e7265b7b73",
   "metadata": {},
   "source": [
    "# Bayes theorm"
   ]
  },
  {
   "cell_type": "code",
   "execution_count": null,
   "id": "2a74f57e-27d9-4e62-b565-885a37574db9",
   "metadata": {},
   "outputs": [],
   "source": [
    "independent event:\n",
    "    egs: rolling a dice {1,2,3,4,5,6} one event doesnt impact other event\n",
    "dependent event:"
   ]
  }
 ],
 "metadata": {
  "kernelspec": {
   "display_name": "Python 3 (ipykernel)",
   "language": "python",
   "name": "python3"
  },
  "language_info": {
   "codemirror_mode": {
    "name": "ipython",
    "version": 3
   },
   "file_extension": ".py",
   "mimetype": "text/x-python",
   "name": "python",
   "nbconvert_exporter": "python",
   "pygments_lexer": "ipython3",
   "version": "3.12.2"
  }
 },
 "nbformat": 4,
 "nbformat_minor": 5
}
