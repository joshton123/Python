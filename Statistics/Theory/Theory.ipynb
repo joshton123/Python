{
 "cells": [
  {
   "cell_type": "raw",
   "id": "10d66147-9e90-469e-bc90-e17975e74ccb",
   "metadata": {},
   "source": [
    "population_data = the group u r intersected in studying\n",
    "         sample = a subset of population"
   ]
  },
  {
   "cell_type": "raw",
   "id": "480279e5-9d5f-481b-8448-1ff497677d75",
   "metadata": {},
   "source": [
    "Types of Data:\n",
    "   1. Quantitative data: (Numerical)\n",
    "        Discrete data: it is whole number (egs: no of bank account it can be 3 not 3.5)\n",
    "        continuous data: any value can come (egs: weight , height ,speed)\n",
    "      \n",
    "   2. Qualitative data: (Categorical data)\n",
    "          Nominal data: there will be no rank (egs: gender , pincode , blood group)\n",
    "          Ordinal data: There will br rank specified (egs: Customer feedback 'good,bad')\n",
    "        "
   ]
  },
  {
   "cell_type": "raw",
   "id": "dcfcbf2e-57d0-4b52-b79b-9b3ba23af6a3",
   "metadata": {},
   "source": [
    "Scale of measurement:\n",
    "    1. Nominal Scale data \n",
    "         - categorical data\n",
    "         - egs: gender, colors , labels\n",
    "         - Order does not matter\n",
    "\n",
    "    2. ordinal Scale data\n",
    "         - Ranking is important\n",
    "         - Order is important\n",
    "         - Difference cannot be measured\n",
    "         - egs: review: best,good,bad\n",
    "\n",
    "    3. Interval Scale data\n",
    "        - Order matters\n",
    "        - Difference can be measured \n",
    "        - ratio cannot be measured\n",
    "        - no 0 starting point\n",
    "        - egs: think of temperature variable . diff can be measured\n",
    "\n",
    "    4. Ratio Scale data\n",
    "        - order matter\n",
    "        - difference are measurable (including ratio)\n",
    "        - contain a 0 starting point\n",
    "        - egs: student mark in class 80, 90, 40, 50\n",
    "\n",
    "\n",
    "length of different river in the world\n",
    "faviorate food based on gender\n",
    "marital status"
   ]
  },
  {
   "cell_type": "code",
   "execution_count": null,
   "id": "c5399475-3173-4162-98be-bdfde607c0eb",
   "metadata": {},
   "outputs": [],
   "source": []
  },
  {
   "cell_type": "code",
   "execution_count": null,
   "id": "7a78c62a-d51d-42e5-8d05-b0006a83c3de",
   "metadata": {},
   "outputs": [],
   "source": []
  },
  {
   "cell_type": "code",
   "execution_count": null,
   "id": "7a2a78c6-7f3f-4714-ab11-3bdf2ea20b8f",
   "metadata": {},
   "outputs": [],
   "source": []
  }
 ],
 "metadata": {
  "kernelspec": {
   "display_name": "Python 3 (ipykernel)",
   "language": "python",
   "name": "python3"
  },
  "language_info": {
   "codemirror_mode": {
    "name": "ipython",
    "version": 3
   },
   "file_extension": ".py",
   "mimetype": "text/x-python",
   "name": "python",
   "nbconvert_exporter": "python",
   "pygments_lexer": "ipython3",
   "version": "3.12.2"
  }
 },
 "nbformat": 4,
 "nbformat_minor": 5
}
