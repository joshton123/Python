{
 "cells": [
  {
   "cell_type": "code",
   "execution_count": 4,
   "id": "230ecef6-fd9e-4232-8dfd-46310f8c7578",
   "metadata": {},
   "outputs": [
    {
     "name": "stdout",
     "output_type": "stream",
     "text": [
      "Defaulting to user installation because normal site-packages is not writeable\n",
      "Collecting pymongo\n",
      "  Downloading pymongo-4.8.0-cp312-cp312-win_amd64.whl.metadata (22 kB)\n",
      "Collecting dnspython<3.0.0,>=1.16.0 (from pymongo)\n",
      "  Downloading dnspython-2.6.1-py3-none-any.whl.metadata (5.8 kB)\n",
      "Downloading pymongo-4.8.0-cp312-cp312-win_amd64.whl (680 kB)\n",
      "   ---------------------------------------- 0.0/680.4 kB ? eta -:--:--\n",
      "   ---------------------------------------- 680.4/680.4 kB 8.9 MB/s eta 0:00:00\n",
      "Downloading dnspython-2.6.1-py3-none-any.whl (307 kB)\n",
      "Installing collected packages: dnspython, pymongo\n",
      "Successfully installed dnspython-2.6.1 pymongo-4.8.0\n",
      "Note: you may need to restart the kernel to use updated packages.\n"
     ]
    }
   ],
   "source": [
    "pip install pymongo"
   ]
  },
  {
   "cell_type": "code",
   "execution_count": 5,
   "id": "04295999-84d5-4a80-ad60-894df56e33ef",
   "metadata": {},
   "outputs": [],
   "source": [
    "import pymongo"
   ]
  },
  {
   "cell_type": "markdown",
   "id": "86c957d4-00ac-4ab6-975e-7c3b03d80fd2",
   "metadata": {},
   "source": [
    "# Enter ur mongodb url"
   ]
  },
  {
   "cell_type": "code",
   "execution_count": 43,
   "id": "eb85efb6-2657-4eff-8d58-507b9a9c4345",
   "metadata": {},
   "outputs": [],
   "source": [
    "\n",
    "client = pymongo.MongoClient(\"   \")\n"
   ]
  },
  {
   "cell_type": "code",
   "execution_count": 47,
   "id": "8c935bbd-9577-4c10-a5fd-9f3ecc1ba352",
   "metadata": {},
   "outputs": [],
   "source": [
    "db"
   ]
  },
  {
   "cell_type": "code",
   "execution_count": 48,
   "id": "74be4034-8c55-4927-a4ff-107063815594",
   "metadata": {},
   "outputs": [],
   "source": [
    "db = client['user_details']\n",
    "db"
   ]
  },
  {
   "cell_type": "code",
   "execution_count": 46,
   "id": "7cfd7ff4-63d1-4ccb-80a1-37a18368952e",
   "metadata": {},
   "outputs": [],
   "source": [
    "data = {\n",
    "        \"name\" : \"joshton\" ,\n",
    "        \"class\" : \"NMAMIT\" , \n",
    "        \"time\" : \"14/09/2023\"\n",
    "       }"
   ]
  },
  {
   "cell_type": "code",
   "execution_count": 40,
   "id": "264e11d8-b41a-436b-85d8-39f0e7a6eb5e",
   "metadata": {},
   "outputs": [],
   "source": [
    "collection_data = db[\"my_record\"] "
   ]
  },
  {
   "cell_type": "code",
   "execution_count": 51,
   "id": "c41d1c69-0182-46fd-ae80-8b1697ae4b08",
   "metadata": {},
   "outputs": [],
   "source": [
    "collection_data.insert_one(data)"
   ]
  },
  {
   "cell_type": "code",
   "execution_count": null,
   "id": "d3ce040e-4081-4d75-9a2d-056f52000845",
   "metadata": {},
   "outputs": [],
   "source": []
  }
 ],
 "metadata": {
  "kernelspec": {
   "display_name": "Python 3 (ipykernel)",
   "language": "python",
   "name": "python3"
  },
  "language_info": {
   "codemirror_mode": {
    "name": "ipython",
    "version": 3
   },
   "file_extension": ".py",
   "mimetype": "text/x-python",
   "name": "python",
   "nbconvert_exporter": "python",
   "pygments_lexer": "ipython3",
   "version": "3.12.2"
  }
 },
 "nbformat": 4,
 "nbformat_minor": 5
}
