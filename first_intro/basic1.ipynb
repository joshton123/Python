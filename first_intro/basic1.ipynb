{
 "cells": [
  {
   "cell_type": "code",
   "execution_count": 1,
   "id": "a81129ca-67da-45d0-9c75-b4862932443d",
   "metadata": {},
   "outputs": [
    {
     "name": "stdin",
     "output_type": "stream",
     "text": [
      "hello : kk\n"
     ]
    },
    {
     "data": {
      "text/plain": [
       "'kk'"
      ]
     },
     "execution_count": 1,
     "metadata": {},
     "output_type": "execute_result"
    }
   ],
   "source": [
    "input(\"hello :\")"
   ]
  },
  {
   "cell_type": "code",
   "execution_count": 1,
   "id": "98f8c528-5a6a-433e-9330-127160e89ceb",
   "metadata": {},
   "outputs": [
    {
     "name": "stdin",
     "output_type": "stream",
     "text": [
      "Enter ur number :  5\n"
     ]
    },
    {
     "data": {
      "text/plain": [
       "15"
      ]
     },
     "execution_count": 1,
     "metadata": {},
     "output_type": "execute_result"
    }
   ],
   "source": [
    "n = int(input(\"Enter ur number : \"))\n",
    "start =0\n",
    "counter = 1\n",
    "\n",
    "while counter <= n:\n",
    "    start += counter\n",
    "    counter+=1\n",
    "\n",
    "start"
   ]
  },
  {
   "cell_type": "code",
   "execution_count": 2,
   "id": "9bf8b804-6fc5-4d1f-bec9-4134de4116e8",
   "metadata": {},
   "outputs": [
    {
     "name": "stdin",
     "output_type": "stream",
     "text": [
      "Enter the number:  5\n"
     ]
    },
    {
     "data": {
      "text/plain": [
       "120"
      ]
     },
     "execution_count": 2,
     "metadata": {},
     "output_type": "execute_result"
    }
   ],
   "source": [
    "# fact\n",
    "number = int(input(\"Enter the number: \"))\n",
    "fact = 1\n",
    "while n>0:\n",
    "    fact = fact * n\n",
    "    n = n -1\n",
    "\n",
    "fact"
   ]
  },
  {
   "cell_type": "code",
   "execution_count": 3,
   "id": "156ae477-bc6c-4a3d-88b0-ca09d6ff96e9",
   "metadata": {},
   "outputs": [
    {
     "name": "stdin",
     "output_type": "stream",
     "text": [
      "Enter the number:  9\n"
     ]
    },
    {
     "name": "stdout",
     "output_type": "stream",
     "text": [
      "0\n",
      "1\n",
      "1\n",
      "2\n",
      "3\n",
      "5\n",
      "8\n",
      "13\n",
      "21\n"
     ]
    }
   ],
   "source": [
    "#fib\n",
    "n = int(input(\"Enter the number: \"))\n",
    "a,b = 0,1\n",
    "counter = 1\n",
    "\n",
    "while counter<=n:\n",
    "    print(a)\n",
    "    c=a+b\n",
    "    a=b\n",
    "    b=c\n",
    "    counter = counter + 1"
   ]
  },
  {
   "cell_type": "code",
   "execution_count": 4,
   "id": "de0d60d8-0a68-4115-919f-3daff33d1e1a",
   "metadata": {},
   "outputs": [
    {
     "name": "stdout",
     "output_type": "stream",
     "text": [
      "0\n",
      "1\n",
      "1\n",
      "2\n",
      "3\n",
      "5\n",
      "8\n",
      "13\n",
      "21\n",
      "34\n"
     ]
    }
   ],
   "source": [
    "a,b = 0,1\n",
    "for i in range(10):\n",
    "    print(a)\n",
    "    c = a+b\n",
    "    a=b\n",
    "    b=c"
   ]
  },
  {
   "cell_type": "code",
   "execution_count": 5,
   "id": "b4ce76c8-a2cf-4964-941a-e6c34b4a7382",
   "metadata": {},
   "outputs": [
    {
     "data": {
      "text/plain": [
       "'hdus'"
      ]
     },
     "execution_count": 5,
     "metadata": {},
     "output_type": "execute_result"
    }
   ],
   "source": [
    "s = \"sudh\"\n",
    "s[::-1]"
   ]
  },
  {
   "cell_type": "code",
   "execution_count": 6,
   "id": "816822b2-05fb-4292-b852-07729c50a354",
   "metadata": {},
   "outputs": [
    {
     "name": "stdin",
     "output_type": "stream",
     "text": [
      "Enter the string :  joshton\n"
     ]
    },
    {
     "data": {
      "text/plain": [
       "'nothsoj'"
      ]
     },
     "execution_count": 6,
     "metadata": {},
     "output_type": "execute_result"
    }
   ],
   "source": [
    "word = input(\"Enter the string : \")\n",
    "reverse = \"\"\n",
    "\n",
    "length = len(word)\n",
    "while length > 0 :\n",
    "    reverse = reverse + word[length-1]\n",
    "    length = length - 1\n",
    "\n",
    "reverse"
   ]
  },
  {
   "cell_type": "code",
   "execution_count": 9,
   "id": "85bc50f6-a735-4ab6-9492-9f7e1b33faf4",
   "metadata": {},
   "outputs": [
    {
     "name": "stdin",
     "output_type": "stream",
     "text": [
      "Enter the number:  5\n"
     ]
    },
    {
     "name": "stdout",
     "output_type": "stream",
     "text": [
      "5 * 1 = 5\n",
      "5 * 2 = 10\n",
      "5 * 3 = 15\n",
      "5 * 4 = 20\n",
      "5 * 5 = 25\n",
      "5 * 6 = 30\n",
      "5 * 7 = 35\n",
      "5 * 8 = 40\n",
      "5 * 9 = 45\n",
      "5 * 10 = 50\n"
     ]
    }
   ],
   "source": [
    "# print table of number\n",
    "n = int(input(\"Enter the number: \"))\n",
    "i = 1\n",
    "\n",
    "while i<=10:\n",
    "    result = n * i\n",
    "    print(n ,\"*\" , i , \"=\" , result)\n",
    "    i += 1"
   ]
  },
  {
   "cell_type": "code",
   "execution_count": 11,
   "id": "fffd6a16-082c-4c48-85f6-ee7b09973224",
   "metadata": {},
   "outputs": [
    {
     "data": {
      "text/plain": [
       "[1, 4, 9, 16, 25]"
      ]
     },
     "execution_count": 11,
     "metadata": {},
     "output_type": "execute_result"
    }
   ],
   "source": [
    "l = [1,2,3,4,5]\n",
    "l1 = []\n",
    "\n",
    "for i in l:\n",
    "    l1.append(i**2)\n",
    "\n",
    "l1"
   ]
  },
  {
   "cell_type": "code",
   "execution_count": 12,
   "id": "b58d3301-198c-4aef-92be-6bb7bfb684fc",
   "metadata": {},
   "outputs": [
    {
     "data": {
      "text/plain": [
       "[1, 4, 9, 16, 25]"
      ]
     },
     "execution_count": 12,
     "metadata": {},
     "output_type": "execute_result"
    }
   ],
   "source": [
    "[i**2 for i in l]"
   ]
  },
  {
   "cell_type": "code",
   "execution_count": 13,
   "id": "cef5e8a4-afb3-4865-9fc9-1cf6e691d1bd",
   "metadata": {},
   "outputs": [
    {
     "data": {
      "text/plain": [
       "[2, 4]"
      ]
     },
     "execution_count": 13,
     "metadata": {},
     "output_type": "execute_result"
    }
   ],
   "source": [
    "[i for  i in l if i%2==0 ]"
   ]
  },
  {
   "cell_type": "code",
   "execution_count": 14,
   "id": "dd6a33c5-5491-4524-b64f-4f70af22c5f2",
   "metadata": {},
   "outputs": [],
   "source": [
    "l1 = [\"sudh\" , \"pwskills\" , \" kumar\" , \"data science masters\"]"
   ]
  },
  {
   "cell_type": "code",
   "execution_count": 15,
   "id": "dd007baf-4843-41a5-b2f2-586f346ec648",
   "metadata": {},
   "outputs": [
    {
     "data": {
      "text/plain": [
       "['SUDH', 'PWSKILLS', ' KUMAR', 'DATA SCIENCE MASTERS']"
      ]
     },
     "execution_count": 15,
     "metadata": {},
     "output_type": "execute_result"
    }
   ],
   "source": [
    "[i.upper() for i in l1]"
   ]
  },
  {
   "cell_type": "code",
   "execution_count": 18,
   "id": "cf985709-9f6d-486c-a2b9-467fd1905a60",
   "metadata": {},
   "outputs": [
    {
     "data": {
      "text/plain": [
       "[1, 4, 9, 16, 25]"
      ]
     },
     "execution_count": 18,
     "metadata": {},
     "output_type": "execute_result"
    }
   ],
   "source": [
    "a = list(i**2 for i in l)\n",
    "a"
   ]
  },
  {
   "cell_type": "code",
   "execution_count": 24,
   "id": "a3f63b81-f0f7-4c3e-8e5f-ad3d0fd284de",
   "metadata": {},
   "outputs": [],
   "source": [
    "d = {\n",
    "    \"key1\" : 1,\n",
    "    \"key2\" : 2,\n",
    "    \"key3\" : 3,\n",
    "    \"key4\" : 4,\n",
    "}\n",
    "\n",
    "# for k,v in d.items"
   ]
  },
  {
   "cell_type": "code",
   "execution_count": 26,
   "id": "cd9c3b1d-5c34-4a74-bc21-e0d39d003285",
   "metadata": {},
   "outputs": [
    {
     "data": {
      "text/plain": [
       "dict_items([('key1', 1), ('key2', 2), ('key3', 3), ('key4', 4)])"
      ]
     },
     "execution_count": 26,
     "metadata": {},
     "output_type": "execute_result"
    }
   ],
   "source": [
    "d.items()"
   ]
  },
  {
   "cell_type": "code",
   "execution_count": 27,
   "id": "8eb310a7-d124-4d87-8741-7ac4980c685b",
   "metadata": {},
   "outputs": [
    {
     "data": {
      "text/plain": [
       "{'key1': 1, 'key2': 4, 'key3': 9, 'key4': 16}"
      ]
     },
     "execution_count": 27,
     "metadata": {},
     "output_type": "execute_result"
    }
   ],
   "source": [
    "{k:v**2 for k,v in d.items()}"
   ]
  },
  {
   "cell_type": "code",
   "execution_count": null,
   "id": "359b7b43-80b8-4395-95bf-cbf2e60d0d61",
   "metadata": {},
   "outputs": [],
   "source": []
  }
 ],
 "metadata": {
  "kernelspec": {
   "display_name": "Python 3 (ipykernel)",
   "language": "python",
   "name": "python3"
  },
  "language_info": {
   "codemirror_mode": {
    "name": "ipython",
    "version": 3
   },
   "file_extension": ".py",
   "mimetype": "text/x-python",
   "name": "python",
   "nbconvert_exporter": "python",
   "pygments_lexer": "ipython3",
   "version": "3.12.2"
  }
 },
 "nbformat": 4,
 "nbformat_minor": 5
}
