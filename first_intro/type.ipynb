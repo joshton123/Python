{
 "cells": [
  {
   "cell_type": "code",
   "execution_count": 1,
   "id": "97fa79f9-1c1e-4afe-bfb3-b436466760d0",
   "metadata": {},
   "outputs": [],
   "source": [
    "l = [1,2,3,4]"
   ]
  },
  {
   "cell_type": "code",
   "execution_count": 3,
   "id": "ddfe8544-ca7a-4a7e-aee1-12140fe0e12c",
   "metadata": {},
   "outputs": [
    {
     "name": "stdout",
     "output_type": "stream",
     "text": [
      "1 <class 'int'>\n",
      "2 <class 'int'>\n",
      "3 <class 'int'>\n",
      "4 <class 'int'>\n"
     ]
    }
   ],
   "source": [
    "for i in l:\n",
    "    print(i , type(i))"
   ]
  },
  {
   "cell_type": "code",
   "execution_count": 8,
   "id": "04d07352-0058-4de2-bce0-0bc256dca225",
   "metadata": {},
   "outputs": [
    {
     "name": "stdout",
     "output_type": "stream",
     "text": [
      "sudg <class 'str'>\n",
      "kumar <class 'str'>\n",
      "krish <class 'str'>\n",
      "naik <class 'str'>\n",
      "12 <class 'int'>\n",
      "True <class 'bool'>\n"
     ]
    }
   ],
   "source": [
    "l1 = [\"sudg\" , \"kumar\" , \"krish\" , \"naik\", 12 , True]\n",
    "for i in l1:\n",
    "    print(i , type(i))"
   ]
  },
  {
   "cell_type": "code",
   "execution_count": 10,
   "id": "8ed64040-1e5e-43df-b0cc-832a5110db23",
   "metadata": {},
   "outputs": [
    {
     "data": {
      "text/plain": [
       "['sudg', 'kumar', 'krish', 'naik', 12, True]"
      ]
     },
     "execution_count": 10,
     "metadata": {},
     "output_type": "execute_result"
    }
   ],
   "source": [
    "l1"
   ]
  },
  {
   "cell_type": "code",
   "execution_count": 11,
   "id": "bb13fc8c-81c4-4cb8-a7ba-6d5131467a14",
   "metadata": {},
   "outputs": [
    {
     "name": "stdout",
     "output_type": "stream",
     "text": [
      "sudg\n",
      "kumar\n",
      "krish\n",
      "naik\n",
      "12\n",
      "True\n",
      "Do Something\n"
     ]
    }
   ],
   "source": [
    "for i in l1:\n",
    "    print(i)\n",
    "else:\n",
    "    print(\"Do Something\")"
   ]
  },
  {
   "cell_type": "code",
   "execution_count": 17,
   "id": "7561cebd-baf4-4474-9a60-6e46722bea44",
   "metadata": {},
   "outputs": [
    {
     "name": "stdout",
     "output_type": "stream",
     "text": [
      "sudg\n",
      "krish\n",
      "naik\n",
      "12\n",
      "True\n",
      "Do Something\n"
     ]
    }
   ],
   "source": [
    "for i in l1 :\n",
    "    \n",
    "    if i==\"kumar\":\n",
    "        continue \n",
    "    print(i)\n",
    "else :\n",
    "    print(\"Do Something\")\n"
   ]
  },
  {
   "cell_type": "code",
   "execution_count": null,
   "id": "019ee562-2d4a-4e38-98ac-fcb69f5ff5ea",
   "metadata": {},
   "outputs": [],
   "source": []
  }
 ],
 "metadata": {
  "kernelspec": {
   "display_name": "Python 3 (ipykernel)",
   "language": "python",
   "name": "python3"
  },
  "language_info": {
   "codemirror_mode": {
    "name": "ipython",
    "version": 3
   },
   "file_extension": ".py",
   "mimetype": "text/x-python",
   "name": "python",
   "nbconvert_exporter": "python",
   "pygments_lexer": "ipython3",
   "version": "3.12.2"
  }
 },
 "nbformat": 4,
 "nbformat_minor": 5
}
