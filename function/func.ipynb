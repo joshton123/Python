{
 "cells": [
  {
   "cell_type": "code",
   "execution_count": 4,
   "id": "29eed7a8-c9ad-418e-95a2-a57082258266",
   "metadata": {},
   "outputs": [
    {
     "name": "stdout",
     "output_type": "stream",
     "text": [
      "hello joshton\n"
     ]
    },
    {
     "data": {
      "text/plain": [
       "'hello Sequeira'"
      ]
     },
     "execution_count": 4,
     "metadata": {},
     "output_type": "execute_result"
    }
   ],
   "source": [
    "def test():\n",
    "    print(\"hello joshton\")\n",
    "    return \"hello Sequeira\"\n",
    "\n",
    "test()"
   ]
  },
  {
   "cell_type": "code",
   "execution_count": 13,
   "id": "6625f03a-1a08-49ea-8a07-680ca7d70c65",
   "metadata": {},
   "outputs": [],
   "source": [
    "def test3() :\n",
    "    return \"joshton\"  , 56 , True , [1,2,3]"
   ]
  },
  {
   "cell_type": "code",
   "execution_count": 14,
   "id": "0c923d92-5eb8-4d76-8758-7346f8a34185",
   "metadata": {},
   "outputs": [
    {
     "data": {
      "text/plain": [
       "('joshton', 56, True, [1, 2, 3])"
      ]
     },
     "execution_count": 14,
     "metadata": {},
     "output_type": "execute_result"
    }
   ],
   "source": [
    "test3()"
   ]
  },
  {
   "cell_type": "code",
   "execution_count": 15,
   "id": "7719da8b-9b74-45c4-aa71-ca9c8f98acad",
   "metadata": {},
   "outputs": [],
   "source": [
    "a,b,c,d = test3()"
   ]
  },
  {
   "cell_type": "code",
   "execution_count": 17,
   "id": "6bd8cebd-f038-4992-9410-adec06332887",
   "metadata": {},
   "outputs": [
    {
     "data": {
      "text/plain": [
       "'joshton'"
      ]
     },
     "execution_count": 17,
     "metadata": {},
     "output_type": "execute_result"
    }
   ],
   "source": [
    "a "
   ]
  },
  {
   "cell_type": "code",
   "execution_count": 20,
   "id": "a8f2b0d3-379d-409b-879f-e22334f633b3",
   "metadata": {},
   "outputs": [
    {
     "data": {
      "text/plain": [
       "6"
      ]
     },
     "execution_count": 20,
     "metadata": {},
     "output_type": "execute_result"
    }
   ],
   "source": [
    "def test4(a,b,c):\n",
    "    d = a+b+c\n",
    "    return d\n",
    "\n",
    "test4(1,2,3)"
   ]
  },
  {
   "cell_type": "code",
   "execution_count": 29,
   "id": "fad55279-b26d-4ac0-8175-1a743c9bc08c",
   "metadata": {},
   "outputs": [],
   "source": [
    "l = [1,2,3,4,\"joshton\" , \"sequeira\" , [1,2,3,4]]"
   ]
  },
  {
   "cell_type": "code",
   "execution_count": 32,
   "id": "7576138a-d2a8-4ac4-a29d-509f92b7914e",
   "metadata": {},
   "outputs": [],
   "source": [
    "def test6(l):\n",
    "    l1=[]\n",
    "    for i in l :\n",
    "        if type(i)==int or type(i)==float:\n",
    "            l1.append(i)\n",
    "        if type(i)==list:\n",
    "            l1.append(i)\n",
    "    return l1"
   ]
  },
  {
   "cell_type": "code",
   "execution_count": 33,
   "id": "cb9a3fcf-a187-43cd-97c4-5e263fb301da",
   "metadata": {},
   "outputs": [
    {
     "data": {
      "text/plain": [
       "[1, 2, 3, 4, [1, 2, 3, 4]]"
      ]
     },
     "execution_count": 33,
     "metadata": {},
     "output_type": "execute_result"
    }
   ],
   "source": [
    "test6(l)"
   ]
  },
  {
   "cell_type": "code",
   "execution_count": null,
   "id": "f12d31f9-7c03-420e-8ab8-dc5d673dba71",
   "metadata": {},
   "outputs": [],
   "source": [
    "l1\n",
    "l2\n",
    "l3"
   ]
  },
  {
   "cell_type": "code",
   "execution_count": 38,
   "id": "db53ec4e-3f98-40b4-86bb-63ff55444af7",
   "metadata": {},
   "outputs": [],
   "source": [
    "def test11(*args):\n",
    "    return args"
   ]
  },
  {
   "cell_type": "code",
   "execution_count": 39,
   "id": "e58dc2f8-0389-4b7a-9388-29ff3c0a91d4",
   "metadata": {},
   "outputs": [
    {
     "data": {
      "text/plain": [
       "()"
      ]
     },
     "execution_count": 39,
     "metadata": {},
     "output_type": "execute_result"
    }
   ],
   "source": [
    "test11()"
   ]
  },
  {
   "cell_type": "code",
   "execution_count": 42,
   "id": "ceeeb409-9f99-4066-be19-86e19643c9b9",
   "metadata": {},
   "outputs": [],
   "source": [
    "def test13(*args , a=10):\n",
    "    return args,a"
   ]
  },
  {
   "cell_type": "code",
   "execution_count": 43,
   "id": "d1a28487-c772-49d1-8847-fcb2bd77ddd1",
   "metadata": {},
   "outputs": [
    {
     "data": {
      "text/plain": [
       "((1, 2, 3, 4), 10)"
      ]
     },
     "execution_count": 43,
     "metadata": {},
     "output_type": "execute_result"
    }
   ],
   "source": [
    "test13(1,2,3,4)"
   ]
  },
  {
   "cell_type": "code",
   "execution_count": 51,
   "id": "3bf1e189-95b0-4f70-b977-35d832061b2e",
   "metadata": {},
   "outputs": [],
   "source": [
    "def test15(**kwargs ):\n",
    "    return kwargs"
   ]
  },
  {
   "cell_type": "code",
   "execution_count": 52,
   "id": "6c754a04-c8ca-4560-9bea-cd57ceaa0e8b",
   "metadata": {},
   "outputs": [
    {
     "data": {
      "text/plain": [
       "{'a': [1, 2, 3, 4], 'b': 'sudh', 'c': 23.3}"
      ]
     },
     "execution_count": 52,
     "metadata": {},
     "output_type": "execute_result"
    }
   ],
   "source": [
    "test15(a=[1,2,3,4] , b=\"sudh\" , c = 23.3)"
   ]
  },
  {
   "cell_type": "code",
   "execution_count": 53,
   "id": "941441ad-a8d0-4f47-b99e-42233b42062a",
   "metadata": {},
   "outputs": [
    {
     "name": "stdout",
     "output_type": "stream",
     "text": [
      "0\n",
      "1\n",
      "2\n",
      "3\n",
      "4\n",
      "5\n",
      "6\n",
      "7\n",
      "8\n",
      "9\n"
     ]
    }
   ],
   "source": [
    "for i in range(10):\n",
    "    print(i)"
   ]
  },
  {
   "cell_type": "code",
   "execution_count": 55,
   "id": "a8380c64-33d9-42a2-903b-d27e678eea15",
   "metadata": {},
   "outputs": [],
   "source": [
    "def fib(n):\n",
    "    a,b=0,1\n",
    "    for i in range(n):\n",
    "        yield a\n",
    "        a,b = b , a+b"
   ]
  },
  {
   "cell_type": "code",
   "execution_count": 56,
   "id": "b3b152c5-3eee-41fe-9e28-0ff8c1bc9f73",
   "metadata": {},
   "outputs": [
    {
     "data": {
      "text/plain": [
       "<generator object fib at 0x0000019EB245A340>"
      ]
     },
     "execution_count": 56,
     "metadata": {},
     "output_type": "execute_result"
    }
   ],
   "source": [
    "fib(10)"
   ]
  },
  {
   "cell_type": "code",
   "execution_count": 57,
   "id": "f2e48455-2a5d-4c2e-b3a4-87070cdcb9d4",
   "metadata": {},
   "outputs": [
    {
     "name": "stdout",
     "output_type": "stream",
     "text": [
      "0\n",
      "1\n",
      "1\n",
      "2\n",
      "3\n",
      "5\n",
      "8\n",
      "13\n",
      "21\n",
      "34\n",
      "55\n",
      "89\n",
      "144\n",
      "233\n",
      "377\n"
     ]
    }
   ],
   "source": [
    "for i in fib(15):\n",
    "    print(i)\n",
    "    "
   ]
  },
  {
   "cell_type": "code",
   "execution_count": 58,
   "id": "d6dcf845-088c-4232-8a2c-068f629801da",
   "metadata": {},
   "outputs": [],
   "source": [
    "def count_test(n):\n",
    "    c=1\n",
    "    while c<=n:\n",
    "        yield c\n",
    "        c = c+1"
   ]
  },
  {
   "cell_type": "code",
   "execution_count": 59,
   "id": "a9b7ca55-a659-48cf-91b7-703330fdc643",
   "metadata": {},
   "outputs": [],
   "source": [
    "c = count_test(10)"
   ]
  },
  {
   "cell_type": "code",
   "execution_count": 60,
   "id": "509da02e-1eb3-4b8c-8a02-fcb5287da197",
   "metadata": {},
   "outputs": [
    {
     "data": {
      "text/plain": [
       "generator"
      ]
     },
     "execution_count": 60,
     "metadata": {},
     "output_type": "execute_result"
    }
   ],
   "source": [
    "type(c)"
   ]
  },
  {
   "cell_type": "code",
   "execution_count": 61,
   "id": "936ff7f5-8db5-4fe8-99f1-421fcddf9dcc",
   "metadata": {},
   "outputs": [
    {
     "name": "stdout",
     "output_type": "stream",
     "text": [
      "1\n",
      "2\n",
      "3\n",
      "4\n",
      "5\n",
      "6\n",
      "7\n",
      "8\n",
      "9\n",
      "10\n"
     ]
    }
   ],
   "source": [
    "for i in c:\n",
    "    print(i)"
   ]
  },
  {
   "cell_type": "code",
   "execution_count": null,
   "id": "5a0e362c-f760-42f2-afc5-144603615793",
   "metadata": {},
   "outputs": [],
   "source": []
  }
 ],
 "metadata": {
  "kernelspec": {
   "display_name": "Python 3 (ipykernel)",
   "language": "python",
   "name": "python3"
  },
  "language_info": {
   "codemirror_mode": {
    "name": "ipython",
    "version": 3
   },
   "file_extension": ".py",
   "mimetype": "text/x-python",
   "name": "python",
   "nbconvert_exporter": "python",
   "pygments_lexer": "ipython3",
   "version": "3.12.2"
  }
 },
 "nbformat": 4,
 "nbformat_minor": 5
}
