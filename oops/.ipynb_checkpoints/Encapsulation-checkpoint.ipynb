{
 "cells": [
  {
   "cell_type": "markdown",
   "id": "7737a42b-37b3-4cab-9d4e-65c673028f98",
   "metadata": {},
   "source": [
    "# What is encapsulation in Python\n",
    "# Encapsulation is a fundamental object-oriented principle in Python. It protects your classes from accidental changes or deletions and promotes code reusability and maintainability"
   ]
  },
  {
   "cell_type": "code",
   "execution_count": 1,
   "id": "7239d09c-f837-4e1c-9811-f289fd822fb4",
   "metadata": {},
   "outputs": [],
   "source": [
    "class test:\n",
    "\n",
    "    def __init__(self ,a ,b):\n",
    "        self.a = a\n",
    "        self.b = b"
   ]
  },
  {
   "cell_type": "code",
   "execution_count": 2,
   "id": "84834d6d-f052-4f11-934d-cb54849c1964",
   "metadata": {},
   "outputs": [],
   "source": [
    "t = test(23,34)"
   ]
  },
  {
   "cell_type": "code",
   "execution_count": 4,
   "id": "fecd1ba4-a918-4e56-85ae-8a4c923de7d2",
   "metadata": {},
   "outputs": [],
   "source": [
    "t.a = 2345"
   ]
  },
  {
   "cell_type": "code",
   "execution_count": 5,
   "id": "910d2657-7012-4da8-ba00-8bc2d21b1e21",
   "metadata": {},
   "outputs": [
    {
     "data": {
      "text/plain": [
       "2345"
      ]
     },
     "execution_count": 5,
     "metadata": {},
     "output_type": "execute_result"
    }
   ],
   "source": [
    "t.a"
   ]
  },
  {
   "cell_type": "code",
   "execution_count": 6,
   "id": "696176b1-e181-42fa-8f49-7b0268a1f2ff",
   "metadata": {},
   "outputs": [],
   "source": [
    "# user should'nt see the value and change it"
   ]
  },
  {
   "cell_type": "code",
   "execution_count": null,
   "id": "f628b2e5-18d0-49a6-bf11-a8c3c4831236",
   "metadata": {},
   "outputs": [],
   "source": []
  }
 ],
 "metadata": {
  "kernelspec": {
   "display_name": "Python 3 (ipykernel)",
   "language": "python",
   "name": "python3"
  },
  "language_info": {
   "codemirror_mode": {
    "name": "ipython",
    "version": 3
   },
   "file_extension": ".py",
   "mimetype": "text/x-python",
   "name": "python",
   "nbconvert_exporter": "python",
   "pygments_lexer": "ipython3",
   "version": "3.12.2"
  }
 },
 "nbformat": 4,
 "nbformat_minor": 5
}
