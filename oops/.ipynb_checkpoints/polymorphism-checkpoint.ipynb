{
 "cells": [
  {
   "cell_type": "markdown",
   "id": "cb4e8b53-8002-4bec-92df-19a150ca7d86",
   "metadata": {},
   "source": [
    "# The word polymorphism means having many forms. In programming, polymorphism means the same function name (but different signatures) being used for different types. The key difference is the data types and number of arguments used in function."
   ]
  },
  {
   "cell_type": "code",
   "execution_count": 15,
   "id": "ac20678a-efb3-4ef4-8b38-d79a7a777e74",
   "metadata": {},
   "outputs": [],
   "source": [
    "# depends on place and data "
   ]
  },
  {
   "cell_type": "code",
   "execution_count": 1,
   "id": "22749a20-063e-4d65-b78d-74a94d832ce3",
   "metadata": {},
   "outputs": [],
   "source": [
    "def test( a , b):\n",
    "    return a+b"
   ]
  },
  {
   "cell_type": "code",
   "execution_count": 4,
   "id": "d91e2700-434c-4457-8448-d7527a5124d0",
   "metadata": {},
   "outputs": [
    {
     "data": {
      "text/plain": [
       "7"
      ]
     },
     "execution_count": 4,
     "metadata": {},
     "output_type": "execute_result"
    }
   ],
   "source": [
    "test(3,4)"
   ]
  },
  {
   "cell_type": "code",
   "execution_count": 5,
   "id": "cac2f2da-3394-4a13-964b-c6656824a289",
   "metadata": {},
   "outputs": [
    {
     "data": {
      "text/plain": [
       "'joshton sequeira'"
      ]
     },
     "execution_count": 5,
     "metadata": {},
     "output_type": "execute_result"
    }
   ],
   "source": [
    "test(\"joshton \" , \"sequeira\")"
   ]
  },
  {
   "cell_type": "code",
   "execution_count": 7,
   "id": "9e218034-25fe-43ff-9d0d-69378032aca8",
   "metadata": {},
   "outputs": [
    {
     "data": {
      "text/plain": [
       "[1, 2, 3, 4, 5, 6]"
      ]
     },
     "execution_count": 7,
     "metadata": {},
     "output_type": "execute_result"
    }
   ],
   "source": [
    "test([1,2,3] , [4,5,6])"
   ]
  },
  {
   "cell_type": "markdown",
   "id": "63cf86c2-61bc-40db-9e86-49c333afc754",
   "metadata": {},
   "source": [
    "# doing using class"
   ]
  },
  {
   "cell_type": "code",
   "execution_count": 8,
   "id": "c08244c9-9c98-4e2d-b5d4-3a55e7855eb8",
   "metadata": {},
   "outputs": [],
   "source": [
    "class data_science:\n",
    "    def syllabus(self):\n",
    "        print(\"this is joshton studying ds\")"
   ]
  },
  {
   "cell_type": "code",
   "execution_count": 9,
   "id": "c80c9cc6-8552-429e-8904-ef1605bb8c55",
   "metadata": {},
   "outputs": [],
   "source": [
    "class web_dev:\n",
    "    def syllabus(self):\n",
    "        print(\"this is joshton studying web_dev\")"
   ]
  },
  {
   "cell_type": "code",
   "execution_count": 10,
   "id": "32e461b2-fdc5-4503-935b-8025f35f0296",
   "metadata": {},
   "outputs": [],
   "source": [
    "def class_parser(class_obj):\n",
    "    for i in class_obj:\n",
    "        i.syllabus()"
   ]
  },
  {
   "cell_type": "code",
   "execution_count": 11,
   "id": "9ba41ca3-6495-42ba-9815-c73b12fccc20",
   "metadata": {},
   "outputs": [],
   "source": [
    "data_s = data_science()"
   ]
  },
  {
   "cell_type": "code",
   "execution_count": 12,
   "id": "99d4cd7d-0c7d-400f-b84c-bd6ee1380ec0",
   "metadata": {},
   "outputs": [],
   "source": [
    "web_dev = web_dev()"
   ]
  },
  {
   "cell_type": "code",
   "execution_count": 13,
   "id": "50cfc6b4-38d2-4caf-9173-41f89249fc0b",
   "metadata": {},
   "outputs": [],
   "source": [
    "class_ob = [data_s , web_dev ]"
   ]
  },
  {
   "cell_type": "code",
   "execution_count": 14,
   "id": "5f7c5043-4fdd-4d33-a295-403fbe7661d7",
   "metadata": {},
   "outputs": [
    {
     "name": "stdout",
     "output_type": "stream",
     "text": [
      "this is joshton studying ds\n",
      "this is joshton studying web_dev\n"
     ]
    }
   ],
   "source": [
    "class_parser(class_ob)"
   ]
  },
  {
   "cell_type": "code",
   "execution_count": null,
   "id": "2c8de389-fdc7-4acf-816a-511d3be27917",
   "metadata": {},
   "outputs": [],
   "source": []
  }
 ],
 "metadata": {
  "kernelspec": {
   "display_name": "Python 3 (ipykernel)",
   "language": "python",
   "name": "python3"
  },
  "language_info": {
   "codemirror_mode": {
    "name": "ipython",
    "version": 3
   },
   "file_extension": ".py",
   "mimetype": "text/x-python",
   "name": "python",
   "nbconvert_exporter": "python",
   "pygments_lexer": "ipython3",
   "version": "3.12.2"
  }
 },
 "nbformat": 4,
 "nbformat_minor": 5
}
