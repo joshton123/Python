{
 "cells": [
  {
   "cell_type": "markdown",
   "id": "27d83b78-8394-48d9-8767-9b7ed78b8bb0",
   "metadata": {},
   "source": [
    "# What is an abstract method in Python?\n",
    "# Abstract methods are methods that are declared in a base class but not defined"
   ]
  },
  {
   "cell_type": "code",
   "execution_count": 2,
   "id": "9c18c806-571d-4d6a-ac9e-ed9655611c20",
   "metadata": {},
   "outputs": [],
   "source": [
    "import abc\n",
    "class pwskills:\n",
    "\n",
    "    @abc.abstractmethod\n",
    "    def student_details(self):\n",
    "        pass\n",
    "\n",
    "    @abc.abstractmethod\n",
    "    def student_assignment(self):\n",
    "        pass\n",
    "\n",
    "    @abc.abstractmethod\n",
    "    def student_marks(self):\n",
    "        pass"
   ]
  },
  {
   "cell_type": "code",
   "execution_count": 4,
   "id": "ac5fd0a6-586c-4a0c-a04c-eca5d8d06d95",
   "metadata": {},
   "outputs": [],
   "source": [
    "class student_details(pwskills):\n",
    "\n",
    "    def student_details(self):\n",
    "        return \"This is methid for takin student details\"\n",
    "\n",
    "    def student_assignment(self):\n",
    "        return \"This is methid for takin student assignment\""
   ]
  },
  {
   "cell_type": "code",
   "execution_count": 5,
   "id": "d2176849-7d0e-4bf8-acef-439c46adce3a",
   "metadata": {},
   "outputs": [],
   "source": [
    "class first_method(pwskills):\n",
    "\n",
    "    def student_details(self):\n",
    "        return \"This is methid for takin student details for methid-1\"\n",
    "\n",
    "    def student_assignment(self):\n",
    "        return \"This is methid for takin student assignment for methid-1\""
   ]
  },
  {
   "cell_type": "code",
   "execution_count": 6,
   "id": "c11e7794-9148-426e-96a9-dbb15c5aa28f",
   "metadata": {},
   "outputs": [
    {
     "data": {
      "text/plain": [
       "'This is methid for takin student details for methid-1'"
      ]
     },
     "execution_count": 6,
     "metadata": {},
     "output_type": "execute_result"
    }
   ],
   "source": [
    "dsm = first_method()\n",
    "dsm.student_details()"
   ]
  },
  {
   "cell_type": "code",
   "execution_count": 7,
   "id": "e9329091-62ae-4cca-833e-0f437649c87a",
   "metadata": {},
   "outputs": [
    {
     "data": {
      "text/plain": [
       "'This is methid for takin student details'"
      ]
     },
     "execution_count": 7,
     "metadata": {},
     "output_type": "execute_result"
    }
   ],
   "source": [
    "wd = student_details()\n",
    "wd.student_details()"
   ]
  },
  {
   "cell_type": "code",
   "execution_count": null,
   "id": "539d3934-c31d-4d69-abae-119f49605a02",
   "metadata": {},
   "outputs": [],
   "source": []
  }
 ],
 "metadata": {
  "kernelspec": {
   "display_name": "Python 3 (ipykernel)",
   "language": "python",
   "name": "python3"
  },
  "language_info": {
   "codemirror_mode": {
    "name": "ipython",
    "version": 3
   },
   "file_extension": ".py",
   "mimetype": "text/x-python",
   "name": "python",
   "nbconvert_exporter": "python",
   "pygments_lexer": "ipython3",
   "version": "3.12.2"
  }
 },
 "nbformat": 4,
 "nbformat_minor": 5
}
