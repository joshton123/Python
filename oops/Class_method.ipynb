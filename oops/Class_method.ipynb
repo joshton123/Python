{
 "cells": [
  {
   "cell_type": "code",
   "execution_count": 3,
   "id": "c52eb320-b2c7-47b8-b3b9-2f950d67be7e",
   "metadata": {},
   "outputs": [],
   "source": [
    "class joshton:\n",
    "\n",
    "    def __init__(self , name , email):\n",
    "        self.name = name\n",
    "        self.email = email\n",
    "\n",
    "    def student_details(self):\n",
    "        print(self.name , self.email)"
   ]
  },
  {
   "cell_type": "code",
   "execution_count": 5,
   "id": "345381be-4f0f-46e9-9cf8-781b46bc798f",
   "metadata": {},
   "outputs": [],
   "source": [
    "js = joshton(\"joshton\" , \"joshton@gmail.com\")"
   ]
  },
  {
   "cell_type": "code",
   "execution_count": 6,
   "id": "1ef5b348-c77e-466c-acb8-1c4eedd3218a",
   "metadata": {},
   "outputs": [
    {
     "data": {
      "text/plain": [
       "'joshton'"
      ]
     },
     "execution_count": 6,
     "metadata": {},
     "output_type": "execute_result"
    }
   ],
   "source": [
    "js.name"
   ]
  },
  {
   "cell_type": "code",
   "execution_count": 7,
   "id": "3386784f-05ac-49e7-a281-f8ecab732f15",
   "metadata": {},
   "outputs": [
    {
     "data": {
      "text/plain": [
       "'joshton@gmail.com'"
      ]
     },
     "execution_count": 7,
     "metadata": {},
     "output_type": "execute_result"
    }
   ],
   "source": [
    "js.email"
   ]
  },
  {
   "cell_type": "code",
   "execution_count": 9,
   "id": "24a36f3b-91c1-461a-b22c-9046333de667",
   "metadata": {},
   "outputs": [
    {
     "name": "stdout",
     "output_type": "stream",
     "text": [
      "joshton joshton@gmail.com\n"
     ]
    }
   ],
   "source": [
    "js.student_details()"
   ]
  },
  {
   "cell_type": "code",
   "execution_count": 34,
   "id": "427e29f1-6e3c-4aa0-9b8e-3543dea8737d",
   "metadata": {},
   "outputs": [],
   "source": [
    "class joshton1:\n",
    "    mobile_no = 9881896421    \n",
    "\n",
    "    def __init__(self , name , email , ):\n",
    "        self.name = name\n",
    "        self.email = email\n",
    "\n",
    "    @classmethod\n",
    "    def change_num(cls , mobile):\n",
    "        joshton1.mobile_no = mobile\n",
    "    \n",
    "    @classmethod\n",
    "    def details(cls, name , email):\n",
    "        return cls(name,email)\n",
    "        \n",
    "    def student_details(self):\n",
    "        print(self.name , self.email , joshton1.mobile_no)"
   ]
  },
  {
   "cell_type": "code",
   "execution_count": 35,
   "id": "8052a559-9746-4614-95d8-25dc47cb8175",
   "metadata": {},
   "outputs": [],
   "source": [
    "js1 = joshton1.details(\"sequeira\" , \"sequeira@gmail.com\")"
   ]
  },
  {
   "cell_type": "code",
   "execution_count": 36,
   "id": "4e11421b-9a85-4de0-b1f0-7107c6ea87c6",
   "metadata": {},
   "outputs": [
    {
     "data": {
      "text/plain": [
       "'sequeira'"
      ]
     },
     "execution_count": 36,
     "metadata": {},
     "output_type": "execute_result"
    }
   ],
   "source": [
    "js1.name"
   ]
  },
  {
   "cell_type": "code",
   "execution_count": 40,
   "id": "13f6c21e-aac2-4b41-b4ae-06ce75b98ca4",
   "metadata": {},
   "outputs": [
    {
     "name": "stdout",
     "output_type": "stream",
     "text": [
      "sequeira sequeira@gmail.com 489888\n"
     ]
    }
   ],
   "source": [
    "js1.student_details()"
   ]
  },
  {
   "cell_type": "code",
   "execution_count": 38,
   "id": "c7f76ffe-0006-4b0c-ab91-d87cd998e34f",
   "metadata": {},
   "outputs": [
    {
     "data": {
      "text/plain": [
       "9881896421"
      ]
     },
     "execution_count": 38,
     "metadata": {},
     "output_type": "execute_result"
    }
   ],
   "source": [
    "js1.mobile_no"
   ]
  },
  {
   "cell_type": "code",
   "execution_count": 39,
   "id": "0d7710b0-09d3-4b7c-bbfa-f492112dff1e",
   "metadata": {},
   "outputs": [],
   "source": [
    "js1.change_num(489888)"
   ]
  },
  {
   "cell_type": "code",
   "execution_count": 33,
   "id": "26714805-62bd-4e73-9526-55820d22e806",
   "metadata": {},
   "outputs": [
    {
     "data": {
      "text/plain": [
       "489888"
      ]
     },
     "execution_count": 33,
     "metadata": {},
     "output_type": "execute_result"
    }
   ],
   "source": [
    "js1.mobile_no"
   ]
  },
  {
   "cell_type": "code",
   "execution_count": 49,
   "id": "74ea60f2-409f-4515-b7c3-414249499d05",
   "metadata": {},
   "outputs": [],
   "source": [
    "def course_details(cls , course_name):\n",
    "    print(\"Course name is\", course_name)"
   ]
  },
  {
   "cell_type": "code",
   "execution_count": 50,
   "id": "d13bacb7-d62b-402f-b725-10e8fb089b9a",
   "metadata": {},
   "outputs": [],
   "source": [
    "joshton1.course_details = classmethod(course_details)"
   ]
  },
  {
   "cell_type": "code",
   "execution_count": 51,
   "id": "8a9a3c5a-fc67-44a7-a45e-20b877dc862b",
   "metadata": {},
   "outputs": [
    {
     "name": "stdout",
     "output_type": "stream",
     "text": [
      "Course name is Web Development\n"
     ]
    }
   ],
   "source": [
    "joshton1.course_details(\"Web Development\")"
   ]
  },
  {
   "cell_type": "code",
   "execution_count": 52,
   "id": "02fbfa2f-e238-48f5-80c2-258357ae90e8",
   "metadata": {},
   "outputs": [],
   "source": [
    "def mentor(cls , list_of_mentor):\n",
    "    print(list_of_mentor)"
   ]
  },
  {
   "cell_type": "code",
   "execution_count": 53,
   "id": "70218520-36ed-4c63-97d9-68169c51c103",
   "metadata": {},
   "outputs": [],
   "source": [
    "joshton1.mentor = classmethod(mentor)"
   ]
  },
  {
   "cell_type": "code",
   "execution_count": 54,
   "id": "5f2c07b9-0db3-4019-9f2a-3a6b999a06c6",
   "metadata": {},
   "outputs": [
    {
     "name": "stdout",
     "output_type": "stream",
     "text": [
      "['Harry', 'Angela']\n"
     ]
    }
   ],
   "source": [
    "joshton1.mentor([\"Harry\" , \"Angela\"])"
   ]
  },
  {
   "cell_type": "code",
   "execution_count": null,
   "id": "d8af8307-a572-413a-8d97-ccc266e9f83d",
   "metadata": {},
   "outputs": [],
   "source": []
  },
  {
   "cell_type": "code",
   "execution_count": 59,
   "id": "12311b6a-1dae-4e56-8389-4ca63785dab6",
   "metadata": {},
   "outputs": [],
   "source": [
    "class joshton2:\n",
    "    mobile_no = 9881896421    \n",
    "\n",
    "    def __init__(self , name , email , ):\n",
    "        self.name = name\n",
    "        self.email = email\n",
    "\n",
    "    @classmethod\n",
    "    def change_num(cls , mobile):\n",
    "        joshton1.mobile_no = mobile\n",
    "    \n",
    "    @classmethod\n",
    "    def details(cls, name , email):\n",
    "        return cls(name,email)\n",
    "        \n",
    "    def student_details(self):\n",
    "        print(self.name , self.email , joshton1.mobile_no)"
   ]
  },
  {
   "cell_type": "code",
   "execution_count": 60,
   "id": "e07de5d8-23ee-4ca9-a3cd-4b36c309f814",
   "metadata": {},
   "outputs": [],
   "source": [
    "# deleing the value\n",
    "del joshton2.change_num"
   ]
  },
  {
   "cell_type": "code",
   "execution_count": 61,
   "id": "b76927f9-9a72-482c-a4c3-5ff0bcffcb07",
   "metadata": {},
   "outputs": [],
   "source": [
    "delattr(joshton2 , \"details\")"
   ]
  },
  {
   "cell_type": "code",
   "execution_count": null,
   "id": "dab9e45b-223e-458c-8bba-e5f91a26d17a",
   "metadata": {},
   "outputs": [],
   "source": []
  }
 ],
 "metadata": {
  "kernelspec": {
   "display_name": "Python 3 (ipykernel)",
   "language": "python",
   "name": "python3"
  },
  "language_info": {
   "codemirror_mode": {
    "name": "ipython",
    "version": 3
   },
   "file_extension": ".py",
   "mimetype": "text/x-python",
   "name": "python",
   "nbconvert_exporter": "python",
   "pygments_lexer": "ipython3",
   "version": "3.12.2"
  }
 },
 "nbformat": 4,
 "nbformat_minor": 5
}
