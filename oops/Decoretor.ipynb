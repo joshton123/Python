{
 "cells": [
  {
   "cell_type": "markdown",
   "id": "1b4d98c9-3c6e-4c1d-84b1-2b34c524db3e",
   "metadata": {},
   "source": [
    "# What are the decorators in Python?\n",
    "# A decorator is a design pattern in Python that allows a user to add new functionality to an existing object without modifying its structure."
   ]
  },
  {
   "cell_type": "code",
   "execution_count": 3,
   "id": "affd82d4-503e-4a2d-9dbe-cf198429b710",
   "metadata": {},
   "outputs": [],
   "source": [
    "def test():\n",
    "    print(\"This is my start of my function\")\n",
    "    print(\"This is my function to test\")\n",
    "    print(\"This is my end of my function\")"
   ]
  },
  {
   "cell_type": "code",
   "execution_count": 4,
   "id": "8170d241-b55a-4c10-a86b-5165c22ee800",
   "metadata": {},
   "outputs": [
    {
     "name": "stdout",
     "output_type": "stream",
     "text": [
      "This is my start of my function\n",
      "This is my function to test\n",
      "This is my end of my function\n"
     ]
    }
   ],
   "source": [
    "test()"
   ]
  },
  {
   "cell_type": "code",
   "execution_count": 5,
   "id": "77d97eb4-6d45-46b3-99a5-da5e1d8be0ee",
   "metadata": {},
   "outputs": [],
   "source": [
    "# using decoreter function\n",
    "def deco(func):\n",
    "    def inner_dec():\n",
    "        print(\"This is my start of my function\")\n",
    "        func()\n",
    "        print(\"This is my end of my function\")\n",
    "    return inner_dec"
   ]
  },
  {
   "cell_type": "code",
   "execution_count": 6,
   "id": "cbefbea0-b550-4b5e-8768-147516821c22",
   "metadata": {},
   "outputs": [],
   "source": [
    "def test1():\n",
    "    print(100+200)"
   ]
  },
  {
   "cell_type": "code",
   "execution_count": 7,
   "id": "ce4b229c-b357-4ca6-9e29-f1a45bbaf207",
   "metadata": {},
   "outputs": [
    {
     "name": "stdout",
     "output_type": "stream",
     "text": [
      "300\n"
     ]
    }
   ],
   "source": [
    "test1()"
   ]
  },
  {
   "cell_type": "code",
   "execution_count": 8,
   "id": "99d06ae3-9c53-4a88-b292-ab30969be3c6",
   "metadata": {},
   "outputs": [],
   "source": [
    "@deco\n",
    "def test1():\n",
    "    print(100+200)"
   ]
  },
  {
   "cell_type": "code",
   "execution_count": 9,
   "id": "88bfc483-18d5-4599-a146-04a9a9ca95a7",
   "metadata": {},
   "outputs": [
    {
     "name": "stdout",
     "output_type": "stream",
     "text": [
      "This is my start of my function\n",
      "300\n",
      "This is my end of my function\n"
     ]
    }
   ],
   "source": [
    "test1()"
   ]
  },
  {
   "cell_type": "code",
   "execution_count": 20,
   "id": "aa370ea9-e4ea-4aa3-a095-4b1dc3147420",
   "metadata": {},
   "outputs": [],
   "source": [
    "import time\n",
    "\n",
    "def timer_test(func):\n",
    "    def timer_inner_func():\n",
    "        start = time.time()\n",
    "        func()\n",
    "        end = time.time()\n",
    "        print(end-start)\n",
    "    return timer_inner_func"
   ]
  },
  {
   "cell_type": "code",
   "execution_count": 21,
   "id": "97bffe11-5e7a-4dab-b579-7670461dde5c",
   "metadata": {},
   "outputs": [
    {
     "name": "stdout",
     "output_type": "stream",
     "text": [
      "319\n"
     ]
    }
   ],
   "source": [
    "def test2():\n",
    "    print(119+200)\n",
    "\n",
    "test2()"
   ]
  },
  {
   "cell_type": "code",
   "execution_count": 24,
   "id": "1d8eef61-1200-4dc8-ab19-8d232aab22a3",
   "metadata": {},
   "outputs": [
    {
     "name": "stdout",
     "output_type": "stream",
     "text": [
      "689\n",
      "0.0\n"
     ]
    }
   ],
   "source": [
    "@timer_test\n",
    "def test2():\n",
    "    print(100+589)\n",
    "\n",
    "\n",
    "test2()"
   ]
  },
  {
   "cell_type": "code",
   "execution_count": 25,
   "id": "94ef8ab5-50c3-471c-8d00-39f469733a93",
   "metadata": {},
   "outputs": [
    {
     "name": "stdout",
     "output_type": "stream",
     "text": [
      "2.5442235469818115\n"
     ]
    }
   ],
   "source": [
    "@timer_test\n",
    "def test():\n",
    "    for i in range(100000000):\n",
    "        pass\n",
    "\n",
    "test()"
   ]
  },
  {
   "cell_type": "code",
   "execution_count": null,
   "id": "0120c6aa-4c92-4d74-9f3f-12892a02c4a9",
   "metadata": {},
   "outputs": [],
   "source": []
  },
  {
   "cell_type": "code",
   "execution_count": null,
   "id": "6c0d08e1-cb75-4e4d-9eb9-156194747ab1",
   "metadata": {},
   "outputs": [],
   "source": []
  }
 ],
 "metadata": {
  "kernelspec": {
   "display_name": "Python 3 (ipykernel)",
   "language": "python",
   "name": "python3"
  },
  "language_info": {
   "codemirror_mode": {
    "name": "ipython",
    "version": 3
   },
   "file_extension": ".py",
   "mimetype": "text/x-python",
   "name": "python",
   "nbconvert_exporter": "python",
   "pygments_lexer": "ipython3",
   "version": "3.12.2"
  }
 },
 "nbformat": 4,
 "nbformat_minor": 5
}
