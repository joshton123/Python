{
 "cells": [
  {
   "cell_type": "markdown",
   "id": "7737a42b-37b3-4cab-9d4e-65c673028f98",
   "metadata": {},
   "source": [
    "# What is encapsulation in Python\n",
    "# Encapsulation is a fundamental object-oriented principle in Python. It protects your classes from accidental changes or deletions and promotes code reusability and maintainability"
   ]
  },
  {
   "cell_type": "code",
   "execution_count": 1,
   "id": "7239d09c-f837-4e1c-9811-f289fd822fb4",
   "metadata": {},
   "outputs": [],
   "source": [
    "class test:\n",
    "\n",
    "    def __init__(self ,a ,b):\n",
    "        self.a = a\n",
    "        self.b = b"
   ]
  },
  {
   "cell_type": "code",
   "execution_count": 2,
   "id": "84834d6d-f052-4f11-934d-cb54849c1964",
   "metadata": {},
   "outputs": [],
   "source": [
    "t = test(23,34)"
   ]
  },
  {
   "cell_type": "code",
   "execution_count": 3,
   "id": "fecd1ba4-a918-4e56-85ae-8a4c923de7d2",
   "metadata": {},
   "outputs": [],
   "source": [
    "t.a = 2345"
   ]
  },
  {
   "cell_type": "code",
   "execution_count": 4,
   "id": "910d2657-7012-4da8-ba00-8bc2d21b1e21",
   "metadata": {},
   "outputs": [
    {
     "data": {
      "text/plain": [
       "2345"
      ]
     },
     "execution_count": 4,
     "metadata": {},
     "output_type": "execute_result"
    }
   ],
   "source": [
    "t.a"
   ]
  },
  {
   "cell_type": "code",
   "execution_count": 5,
   "id": "696176b1-e181-42fa-8f49-7b0268a1f2ff",
   "metadata": {},
   "outputs": [],
   "source": [
    "# user should'nt see the value and change it"
   ]
  },
  {
   "cell_type": "code",
   "execution_count": 6,
   "id": "f628b2e5-18d0-49a6-bf11-a8c3c4831236",
   "metadata": {},
   "outputs": [],
   "source": [
    "class car:\n",
    "\n",
    "    def __init__(self ,year ,make ,model ,speed):\n",
    "        self.__year = year\n",
    "        self.__make = make\n",
    "        self.__model = model\n",
    "        self.__speed = 0\n",
    "\n",
    "    def set_speed(self ,speed):\n",
    "        self.__speed = 0 if speed<0 else speed\n",
    "\n",
    "    def get_speed(self):\n",
    "        return self.__speed"
   ]
  },
  {
   "cell_type": "code",
   "execution_count": 7,
   "id": "26330209-a2ce-4a6d-a302-d5125f996241",
   "metadata": {},
   "outputs": [],
   "source": [
    "c = car(2003 , \"toyota\" , \"Innova\" ,12 )"
   ]
  },
  {
   "cell_type": "code",
   "execution_count": 8,
   "id": "4fd6cbf8-4e65-49bf-b46b-652188409275",
   "metadata": {},
   "outputs": [],
   "source": [
    "c.set_speed(1000)"
   ]
  },
  {
   "cell_type": "code",
   "execution_count": 9,
   "id": "ef157148-15bc-442d-9c4e-23b4c956259a",
   "metadata": {},
   "outputs": [
    {
     "data": {
      "text/plain": [
       "1000"
      ]
     },
     "execution_count": 9,
     "metadata": {},
     "output_type": "execute_result"
    }
   ],
   "source": [
    "c.get_speed()"
   ]
  },
  {
   "cell_type": "code",
   "execution_count": null,
   "id": "b6306720-34dd-4e0d-91f7-61309d95d1ba",
   "metadata": {},
   "outputs": [],
   "source": []
  },
  {
   "cell_type": "code",
   "execution_count": 20,
   "id": "d18ee3a9-5ce3-4533-a484-36ee4e728696",
   "metadata": {},
   "outputs": [],
   "source": [
    "class bank_account:\n",
    "\n",
    "    def __init__(self, balance):\n",
    "        self.__balance = balance\n",
    "\n",
    "    def deposit(self , amount):\n",
    "        self.__balance = self.__balance + amount\n",
    "\n",
    "    def withdraw(self ,amount):\n",
    "        if self.__balance >= amount:\n",
    "            self.__balance = self.__balance - amount\n",
    "            return True\n",
    "        else:\n",
    "            return False\n",
    "\n",
    "    def get_balance(self):\n",
    "        return self.__balance\n",
    "        "
   ]
  },
  {
   "cell_type": "code",
   "execution_count": 26,
   "id": "b213bd6a-98ce-4627-be99-7beb5539269a",
   "metadata": {},
   "outputs": [],
   "source": [
    "joshton = bank_account(5000)"
   ]
  },
  {
   "cell_type": "code",
   "execution_count": 27,
   "id": "bb838a3a-13f4-43b8-a531-4bd241262e4a",
   "metadata": {},
   "outputs": [
    {
     "data": {
      "text/plain": [
       "5000"
      ]
     },
     "execution_count": 27,
     "metadata": {},
     "output_type": "execute_result"
    }
   ],
   "source": [
    "joshton.get_balance()"
   ]
  },
  {
   "cell_type": "code",
   "execution_count": 28,
   "id": "3f6da3c6-e5ff-43b0-b8a4-5c25b864671e",
   "metadata": {},
   "outputs": [],
   "source": [
    "joshton.deposit(1000)"
   ]
  },
  {
   "cell_type": "code",
   "execution_count": 29,
   "id": "77332d43-668e-489b-be5a-a473bcc64e65",
   "metadata": {},
   "outputs": [
    {
     "data": {
      "text/plain": [
       "6000"
      ]
     },
     "execution_count": 29,
     "metadata": {},
     "output_type": "execute_result"
    }
   ],
   "source": [
    "joshton.get_balance()"
   ]
  },
  {
   "cell_type": "code",
   "execution_count": 30,
   "id": "8832bdb8-7a09-4ee1-895b-adcd05ea8cb8",
   "metadata": {},
   "outputs": [
    {
     "data": {
      "text/plain": [
       "True"
      ]
     },
     "execution_count": 30,
     "metadata": {},
     "output_type": "execute_result"
    }
   ],
   "source": [
    "joshton.withdraw(2000)"
   ]
  },
  {
   "cell_type": "code",
   "execution_count": 31,
   "id": "d7af8b3b-375a-429b-9581-72c6537c77cf",
   "metadata": {},
   "outputs": [
    {
     "data": {
      "text/plain": [
       "4000"
      ]
     },
     "execution_count": 31,
     "metadata": {},
     "output_type": "execute_result"
    }
   ],
   "source": [
    "joshton.get_balance()"
   ]
  },
  {
   "cell_type": "code",
   "execution_count": null,
   "id": "1ca873bb-4588-48f1-b014-4fcc399d3c8f",
   "metadata": {},
   "outputs": [],
   "source": []
  }
 ],
 "metadata": {
  "kernelspec": {
   "display_name": "Python 3 (ipykernel)",
   "language": "python",
   "name": "python3"
  },
  "language_info": {
   "codemirror_mode": {
    "name": "ipython",
    "version": 3
   },
   "file_extension": ".py",
   "mimetype": "text/x-python",
   "name": "python",
   "nbconvert_exporter": "python",
   "pygments_lexer": "ipython3",
   "version": "3.12.2"
  }
 },
 "nbformat": 4,
 "nbformat_minor": 5
}
