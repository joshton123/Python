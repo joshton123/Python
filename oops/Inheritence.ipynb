{
 "cells": [
  {
   "cell_type": "markdown",
   "id": "36ca6e64-e055-4d71-a979-181bdd33a373",
   "metadata": {},
   "source": [
    "# What is an inheritance in Python?\n",
    "# Inheritance allows us to define a class that inherits all the methods and properties from another class. Parent class is the class being inherited from, also called base class. Child class is the class that inherits from another class, also called derived class."
   ]
  },
  {
   "cell_type": "code",
   "execution_count": 1,
   "id": "0af0e7b4-411b-4272-bc03-4391e97684c9",
   "metadata": {},
   "outputs": [],
   "source": [
    "class test:\n",
    "\n",
    "    def test_method(self):\n",
    "        return \"this is my first class\""
   ]
  },
  {
   "cell_type": "code",
   "execution_count": 2,
   "id": "2df6f18b-40d9-4783-9384-6bb4180d3bca",
   "metadata": {},
   "outputs": [],
   "source": [
    "class child_test(test):\n",
    "    pass"
   ]
  },
  {
   "cell_type": "code",
   "execution_count": 3,
   "id": "9b1cabfd-7de4-4a82-90bd-474561249553",
   "metadata": {},
   "outputs": [],
   "source": [
    "child_test_obj = child_test()"
   ]
  },
  {
   "cell_type": "code",
   "execution_count": 4,
   "id": "d8a06302-8ded-40e0-a642-b35b878ceabf",
   "metadata": {},
   "outputs": [
    {
     "data": {
      "text/plain": [
       "'this is my first class'"
      ]
     },
     "execution_count": 4,
     "metadata": {},
     "output_type": "execute_result"
    }
   ],
   "source": [
    "child_test_obj.test_method()"
   ]
  },
  {
   "cell_type": "code",
   "execution_count": 9,
   "id": "d37476a9-de4e-4d50-a4e7-2739ece1d877",
   "metadata": {},
   "outputs": [],
   "source": [
    "# MULTI LABEL INHERITENCE\n",
    "class class1:\n",
    "\n",
    "    def test_class(self):\n",
    "        return \"this is method from class--1\""
   ]
  },
  {
   "cell_type": "code",
   "execution_count": 10,
   "id": "62ff57f7-45a7-41ec-a893-91ac64e07d0a",
   "metadata": {},
   "outputs": [],
   "source": [
    "class class2(class1):\n",
    "\n",
    "    def test_class2(self):\n",
    "        return \"this is method from class--2\""
   ]
  },
  {
   "cell_type": "code",
   "execution_count": 11,
   "id": "21bd3aa7-7c14-4b4c-a6df-05caba9b73a1",
   "metadata": {},
   "outputs": [],
   "source": [
    "class class3(class2):\n",
    "    pass"
   ]
  },
  {
   "cell_type": "code",
   "execution_count": 12,
   "id": "b0fc132f-fe50-4737-a77c-bee3dd5e65cf",
   "metadata": {},
   "outputs": [],
   "source": [
    "obj_class3 = class3()"
   ]
  },
  {
   "cell_type": "code",
   "execution_count": 13,
   "id": "fe03e779-6b4e-4732-9889-1e063828f336",
   "metadata": {},
   "outputs": [
    {
     "data": {
      "text/plain": [
       "'this is method from class--1'"
      ]
     },
     "execution_count": 13,
     "metadata": {},
     "output_type": "execute_result"
    }
   ],
   "source": [
    "obj_class3.test_class()"
   ]
  },
  {
   "cell_type": "code",
   "execution_count": 14,
   "id": "7c2dcc46-7805-4ee5-80b8-58b6a24da4db",
   "metadata": {},
   "outputs": [
    {
     "data": {
      "text/plain": [
       "'this is method from class--2'"
      ]
     },
     "execution_count": 14,
     "metadata": {},
     "output_type": "execute_result"
    }
   ],
   "source": [
    "obj_class3.test_class2()"
   ]
  },
  {
   "cell_type": "markdown",
   "id": "a4def76c-4fdf-48e3-8022-58bd6f5d09ea",
   "metadata": {},
   "source": [
    "# no inheritence see class2"
   ]
  },
  {
   "cell_type": "code",
   "execution_count": 20,
   "id": "6ade166d-1e40-41ae-8878-7afc5c74fca1",
   "metadata": {},
   "outputs": [],
   "source": [
    "class class1:\n",
    "\n",
    "    def test_class(self):\n",
    "        return \"this is method-1 from class--1\""
   ]
  },
  {
   "cell_type": "code",
   "execution_count": 21,
   "id": "a533fdea-6085-4716-aab8-085adaad3790",
   "metadata": {},
   "outputs": [],
   "source": [
    "class class2:\n",
    "\n",
    "    def test_class2(self):\n",
    "        return \"this is method-2 from class--2\""
   ]
  },
  {
   "cell_type": "code",
   "execution_count": 22,
   "id": "086758db-6f25-470b-9b27-aa7e333d940e",
   "metadata": {},
   "outputs": [],
   "source": [
    "class class3(class1 , class2):\n",
    "    pass"
   ]
  },
  {
   "cell_type": "code",
   "execution_count": 23,
   "id": "d8e6ae34-d5b0-4771-9133-55b24ebf1193",
   "metadata": {},
   "outputs": [],
   "source": [
    "obj_clas3 = class3()"
   ]
  },
  {
   "cell_type": "code",
   "execution_count": 24,
   "id": "d5f2d958-dcf7-422b-90c5-4e9a2b9367cc",
   "metadata": {},
   "outputs": [
    {
     "data": {
      "text/plain": [
       "'this is method-1 from class--1'"
      ]
     },
     "execution_count": 24,
     "metadata": {},
     "output_type": "execute_result"
    }
   ],
   "source": [
    "obj_clas3.test_class()"
   ]
  },
  {
   "cell_type": "code",
   "execution_count": 25,
   "id": "724bae3e-1686-4a67-8942-78593e4874ba",
   "metadata": {},
   "outputs": [
    {
     "data": {
      "text/plain": [
       "'this is method-2 from class--2'"
      ]
     },
     "execution_count": 25,
     "metadata": {},
     "output_type": "execute_result"
    }
   ],
   "source": [
    "obj_clas3.test_class2()"
   ]
  },
  {
   "cell_type": "code",
   "execution_count": null,
   "id": "489811ca-0642-4d1c-aacd-335add48d54c",
   "metadata": {},
   "outputs": [],
   "source": []
  }
 ],
 "metadata": {
  "kernelspec": {
   "display_name": "Python 3 (ipykernel)",
   "language": "python",
   "name": "python3"
  },
  "language_info": {
   "codemirror_mode": {
    "name": "ipython",
    "version": 3
   },
   "file_extension": ".py",
   "mimetype": "text/x-python",
   "name": "python",
   "nbconvert_exporter": "python",
   "pygments_lexer": "ipython3",
   "version": "3.12.2"
  }
 },
 "nbformat": 4,
 "nbformat_minor": 5
}
