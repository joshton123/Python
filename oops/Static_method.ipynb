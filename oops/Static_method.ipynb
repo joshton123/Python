{
 "cells": [
  {
   "cell_type": "markdown",
   "id": "1c2aaca0-e935-4e00-8314-e9bc67677624",
   "metadata": {},
   "source": [
    "# The difference between the Class method and the static method is: A class method takes cls as the first parameter while a static method needs no specific parameters. A class method can access or modify the class state while a static method can't access or modify"
   ]
  },
  {
   "cell_type": "code",
   "execution_count": 3,
   "id": "15bd35c3-e123-4a95-a68c-a1cdd54574a8",
   "metadata": {},
   "outputs": [],
   "source": [
    "class pwskills:\n",
    "\n",
    "    def student_details(self , name , mail_id , number):\n",
    "        print(name , mail_id , number)\n",
    "        "
   ]
  },
  {
   "cell_type": "code",
   "execution_count": 4,
   "id": "864272d2-e68e-478d-b563-a938093d4936",
   "metadata": {},
   "outputs": [
    {
     "name": "stdout",
     "output_type": "stream",
     "text": [
      "joshton joshton@mail.com 48556666\n"
     ]
    }
   ],
   "source": [
    "pw = pwskills()\n",
    "pw.student_details(\"joshton\" , \"joshton@mail.com\" , 48556666)"
   ]
  },
  {
   "cell_type": "markdown",
   "id": "029a2acb-aff5-45cb-8869-bef6d6371b14",
   "metadata": {},
   "source": [
    "# Without creating object using it"
   ]
  },
  {
   "cell_type": "code",
   "execution_count": 11,
   "id": "898a42a4-775b-4c02-b6bf-42d3ea6e0d33",
   "metadata": {},
   "outputs": [],
   "source": [
    "class pwskills1:\n",
    "\n",
    "    def student_details(self , name , mail_id , number):\n",
    "        print(name , mail_id , number)\n",
    "\n",
    "    @staticmethod\n",
    "    def mentor_of_class(list_mentor):\n",
    "        print(list_mentor)\n",
    "\n",
    "    def mentor(self , mentor_list):\n",
    "        print(mentor_list)"
   ]
  },
  {
   "cell_type": "code",
   "execution_count": 7,
   "id": "3c9819c3-0a5c-4465-9bc0-ba94c1fa1d97",
   "metadata": {},
   "outputs": [
    {
     "name": "stdout",
     "output_type": "stream",
     "text": [
      "['harry', 'Angela']\n"
     ]
    }
   ],
   "source": [
    "pwskills1.mentor_of_class([\"harry\" , \"Angela\"])"
   ]
  },
  {
   "cell_type": "code",
   "execution_count": 13,
   "id": "6a786cc4-1a2a-4efe-9b16-dde2c5347fec",
   "metadata": {},
   "outputs": [
    {
     "name": "stdout",
     "output_type": "stream",
     "text": [
      "['harry', 'Angela', 'Joshton']\n"
     ]
    }
   ],
   "source": [
    "student1 = pwskills1()\n",
    "student1.mentor([\"harry\" , \"Angela\", \"Joshton\"])"
   ]
  },
  {
   "cell_type": "code",
   "execution_count": 14,
   "id": "74361493-8bc2-4cc0-a408-0f525e5e513f",
   "metadata": {},
   "outputs": [],
   "source": [
    "student2 = pwskills1() "
   ]
  },
  {
   "cell_type": "code",
   "execution_count": 15,
   "id": "f02e8ac8-1f35-4460-88c7-7f1383dea27a",
   "metadata": {},
   "outputs": [],
   "source": [
    "student3 = pwskills1()"
   ]
  },
  {
   "cell_type": "code",
   "execution_count": 20,
   "id": "cb13b349-d396-4314-b9e2-843fb755f86e",
   "metadata": {},
   "outputs": [],
   "source": [
    "class pwskills2:\n",
    "\n",
    "    def student_details(self , name , mail_id , number):\n",
    "        print(name , mail_id , number)\n",
    "\n",
    "    @staticmethod\n",
    "    def mentor_mail(mail_of_mentor):\n",
    "        print(mail_of_mentor)\n",
    "   \n",
    "    @staticmethod\n",
    "    def mentor_of_class(list_mentor):\n",
    "        pwskills2.mentor_mail([\"harry@mail\" , \"Angela@mail\", \"Joshton@mail\"])\n",
    "        print(list_mentor)\n",
    "\n",
    "    @classmethod\n",
    "    def class_name(cls):\n",
    "        cls.mentor_of_class([\"harry\" , \"Angela\", \"Joshton\"])\n",
    "\n",
    "    def mentor(self , mentor_list):\n",
    "        print(mentor_list)"
   ]
  },
  {
   "cell_type": "code",
   "execution_count": 21,
   "id": "da8cf301-fb91-4832-bf27-6017a58757db",
   "metadata": {},
   "outputs": [
    {
     "name": "stdout",
     "output_type": "stream",
     "text": [
      "['harry@mail', 'Angela@mail', 'Joshton@mail']\n",
      "['harry', 'Angela', 'Joshton']\n"
     ]
    }
   ],
   "source": [
    "pwskills2.class_name()"
   ]
  },
  {
   "cell_type": "code",
   "execution_count": 22,
   "id": "1b3646c6-3f62-42d9-b32c-235fdddcef8d",
   "metadata": {},
   "outputs": [
    {
     "name": "stdout",
     "output_type": "stream",
     "text": [
      "['harry@mail', 'Angela@mail', 'Joshton@mail']\n",
      "['harry', 'Angela', 'Joshton', 'kumar']\n"
     ]
    }
   ],
   "source": [
    "pwskills2.mentor_of_class([\"harry\" , \"Angela\", \"Joshton\" , \"kumar\"])"
   ]
  },
  {
   "cell_type": "code",
   "execution_count": null,
   "id": "c3587294-0323-4e24-b9b9-267e12b5907f",
   "metadata": {},
   "outputs": [],
   "source": []
  }
 ],
 "metadata": {
  "kernelspec": {
   "display_name": "Python 3 (ipykernel)",
   "language": "python",
   "name": "python3"
  },
  "language_info": {
   "codemirror_mode": {
    "name": "ipython",
    "version": 3
   },
   "file_extension": ".py",
   "mimetype": "text/x-python",
   "name": "python",
   "nbconvert_exporter": "python",
   "pygments_lexer": "ipython3",
   "version": "3.12.2"
  }
 },
 "nbformat": 4,
 "nbformat_minor": 5
}
