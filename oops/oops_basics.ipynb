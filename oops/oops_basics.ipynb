{
 "cells": [
  {
   "cell_type": "markdown",
   "id": "320d1798-1b35-4d49-835c-c7ebc4ce4180",
   "metadata": {},
   "source": [
    "# understanding class and obj"
   ]
  },
  {
   "cell_type": "code",
   "execution_count": 1,
   "id": "ee7531fa-e61d-4daa-871d-e0be7afcbb0f",
   "metadata": {},
   "outputs": [],
   "source": [
    "a=1"
   ]
  },
  {
   "cell_type": "code",
   "execution_count": 2,
   "id": "54300cf9-2784-4a69-b4da-bf80ddd6a8fd",
   "metadata": {},
   "outputs": [
    {
     "name": "stdout",
     "output_type": "stream",
     "text": [
      "<class 'str'>\n"
     ]
    }
   ],
   "source": [
    "print(type(\"hello\"))"
   ]
  },
  {
   "cell_type": "code",
   "execution_count": 3,
   "id": "880ee8c2-58f5-4700-85f0-80f21af2c3ee",
   "metadata": {},
   "outputs": [],
   "source": [
    "class test:\n",
    "    pass"
   ]
  },
  {
   "cell_type": "code",
   "execution_count": 4,
   "id": "a52a965f-df94-4747-a797-47abfc5f10ae",
   "metadata": {},
   "outputs": [],
   "source": [
    "a = test()"
   ]
  },
  {
   "cell_type": "code",
   "execution_count": 5,
   "id": "dcefd3ac-6b26-41d7-8a0b-3dfafd9ec414",
   "metadata": {},
   "outputs": [
    {
     "name": "stdout",
     "output_type": "stream",
     "text": [
      "<class '__main__.test'>\n"
     ]
    }
   ],
   "source": [
    "print(type(a))"
   ]
  },
  {
   "cell_type": "code",
   "execution_count": 6,
   "id": "783a8811-b388-4ac8-9c69-b061f01d08c1",
   "metadata": {},
   "outputs": [],
   "source": [
    "class pwskills :\n",
    "\n",
    "    def welcome_msg(self):\n",
    "        print(\"Welcome to pwskills\")"
   ]
  },
  {
   "cell_type": "code",
   "execution_count": 7,
   "id": "f29a04e8-df72-4e87-8682-0ce6b6b777b0",
   "metadata": {},
   "outputs": [
    {
     "name": "stdout",
     "output_type": "stream",
     "text": [
      "Welcome to pwskills\n"
     ]
    }
   ],
   "source": [
    "rohan = pwskills()\n",
    "rohan.welcome_msg()"
   ]
  },
  {
   "cell_type": "code",
   "execution_count": 8,
   "id": "32c02d98-6f41-439e-ae82-20b57f969631",
   "metadata": {},
   "outputs": [
    {
     "name": "stdout",
     "output_type": "stream",
     "text": [
      "Welcome to pwskills\n"
     ]
    }
   ],
   "source": [
    "gaurav = pwskills()\n",
    "gaurav.welcome_msg()"
   ]
  },
  {
   "cell_type": "code",
   "execution_count": 9,
   "id": "8abf9d8c-fc70-4147-bbe9-a10e1e197b6a",
   "metadata": {},
   "outputs": [],
   "source": [
    "class pwskills1:\n",
    "\n",
    "    def __init__(self , phone_no , email_id , student_id):\n",
    "        self.phone_no = phone_no\n",
    "        self.email_id = email_id\n",
    "        self.student_id = student_id\n",
    "\n",
    "    def return_student_details(self):\n",
    "        return self.student_id ,self.phone_no ,self.email_id\n",
    "    "
   ]
  },
  {
   "cell_type": "code",
   "execution_count": 16,
   "id": "8efb80ee-ce01-498d-9326-1b4679d53893",
   "metadata": {},
   "outputs": [
    {
     "data": {
      "text/plain": [
       "(111, 123456, 'rohan@mail.com')"
      ]
     },
     "execution_count": 16,
     "metadata": {},
     "output_type": "execute_result"
    }
   ],
   "source": [
    "rohan = pwskills1(123456 , \"rohan@mail.com\" , 111)\n",
    "rohan.return_student_details()"
   ]
  },
  {
   "cell_type": "code",
   "execution_count": 17,
   "id": "efcdefe0-11eb-4f90-a8af-08cd97e3844e",
   "metadata": {},
   "outputs": [
    {
     "data": {
      "text/plain": [
       "(222, 567891, 'gaurav@mail.com')"
      ]
     },
     "execution_count": 17,
     "metadata": {},
     "output_type": "execute_result"
    }
   ],
   "source": [
    "gaurav = pwskills1(567891 , \"gaurav@mail.com\" , 222)\n",
    "gaurav.return_student_details()"
   ]
  },
  {
   "cell_type": "code",
   "execution_count": 29,
   "id": "ce30fb73-e24b-4ce4-95f9-55ea1d984021",
   "metadata": {},
   "outputs": [],
   "source": [
    "class pwskills2:\n",
    "\n",
    "    def __init__(self , phone_no , email_id , student_id):\n",
    "        self.phone_no1 = phone_no\n",
    "        self.email_id1 = email_id\n",
    "        self.student_id1 = student_id\n",
    "\n",
    "    def return_student_details(self):\n",
    "        return self.student_id1 ,self.phone_no1 ,self.email_id1\n",
    "    "
   ]
  },
  {
   "cell_type": "code",
   "execution_count": 30,
   "id": "88e93923-9fb3-47ca-aaeb-28758e0727b7",
   "metadata": {},
   "outputs": [],
   "source": [
    "joshton = pwskills2(162556 , \"joshton@mail.com\" , 333)"
   ]
  },
  {
   "cell_type": "code",
   "execution_count": 31,
   "id": "6027ebb4-17fc-4422-9f1f-4cc9ef39a6b6",
   "metadata": {},
   "outputs": [
    {
     "data": {
      "text/plain": [
       "'joshton@mail.com'"
      ]
     },
     "execution_count": 31,
     "metadata": {},
     "output_type": "execute_result"
    }
   ],
   "source": [
    "joshton.email_id1"
   ]
  },
  {
   "cell_type": "code",
   "execution_count": 32,
   "id": "b8b8aed7-3671-465b-b522-a69005a7bf86",
   "metadata": {},
   "outputs": [
    {
     "data": {
      "text/plain": [
       "(333, 162556, 'joshton@mail.com')"
      ]
     },
     "execution_count": 32,
     "metadata": {},
     "output_type": "execute_result"
    }
   ],
   "source": [
    "joshton.return_student_details()"
   ]
  },
  {
   "cell_type": "code",
   "execution_count": null,
   "id": "6b23ec19-9ccd-4243-93e8-a8567303dc8f",
   "metadata": {},
   "outputs": [],
   "source": []
  }
 ],
 "metadata": {
  "kernelspec": {
   "display_name": "Python 3 (ipykernel)",
   "language": "python",
   "name": "python3"
  },
  "language_info": {
   "codemirror_mode": {
    "name": "ipython",
    "version": 3
   },
   "file_extension": ".py",
   "mimetype": "text/x-python",
   "name": "python",
   "nbconvert_exporter": "python",
   "pygments_lexer": "ipython3",
   "version": "3.12.2"
  }
 },
 "nbformat": 4,
 "nbformat_minor": 5
}
