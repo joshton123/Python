{
 "cells": [
  {
   "cell_type": "code",
   "execution_count": 33,
   "id": "70d1c8c8-6aaf-40f6-9d44-53ecee7d25d3",
   "metadata": {},
   "outputs": [],
   "source": [
    "class pwskills:\n",
    "    def __init__(self , course_price , course_name):\n",
    "        self.__course_price = course_price\n",
    "        self.course_name = course_name\n",
    "\n",
    "    @property\n",
    "    def course_price_access(self):\n",
    "        return self.__course_price\n",
    "\n",
    "    @course_price_access.setter\n",
    "    def course_price_set(self , price):\n",
    "        if price <= 499 :\n",
    "            pass\n",
    "        else:\n",
    "            self.__course_price = price\n",
    "\n",
    "    @course_price_access.deleter\n",
    "    def course_price_delete(self ):\n",
    "        del  self.__course_price"
   ]
  },
  {
   "cell_type": "code",
   "execution_count": 34,
   "id": "3b165e02-5c8f-4021-bbf1-2768d6568c3b",
   "metadata": {},
   "outputs": [],
   "source": [
    "pw = pwskills(499 , \"web development\")"
   ]
  },
  {
   "cell_type": "code",
   "execution_count": 35,
   "id": "48b94515-72df-4675-aea3-4e82b37460b5",
   "metadata": {},
   "outputs": [
    {
     "data": {
      "text/plain": [
       "'web development'"
      ]
     },
     "execution_count": 35,
     "metadata": {},
     "output_type": "execute_result"
    }
   ],
   "source": [
    "pw.course_name"
   ]
  },
  {
   "cell_type": "code",
   "execution_count": 36,
   "id": "1762efdc-a348-4971-8bb0-8f14b3523bcd",
   "metadata": {},
   "outputs": [
    {
     "ename": "AttributeError",
     "evalue": "'pwskills' object has no attribute 'course_price'",
     "output_type": "error",
     "traceback": [
      "\u001b[1;31m---------------------------------------------------------------------------\u001b[0m",
      "\u001b[1;31mAttributeError\u001b[0m                            Traceback (most recent call last)",
      "Cell \u001b[1;32mIn[36], line 1\u001b[0m\n\u001b[1;32m----> 1\u001b[0m \u001b[43mpw\u001b[49m\u001b[38;5;241;43m.\u001b[39;49m\u001b[43mcourse_price\u001b[49m\n",
      "\u001b[1;31mAttributeError\u001b[0m: 'pwskills' object has no attribute 'course_price'"
     ]
    }
   ],
   "source": [
    "pw.course_price"
   ]
  },
  {
   "cell_type": "code",
   "execution_count": 37,
   "id": "412be50e-7d96-46a4-8526-dd0284e988da",
   "metadata": {},
   "outputs": [
    {
     "data": {
      "text/plain": [
       "499"
      ]
     },
     "execution_count": 37,
     "metadata": {},
     "output_type": "execute_result"
    }
   ],
   "source": [
    "pw.course_price_access"
   ]
  },
  {
   "cell_type": "code",
   "execution_count": 38,
   "id": "23c91786-49ea-4e14-af84-d37723957149",
   "metadata": {},
   "outputs": [],
   "source": [
    "pw.course_price_set = 500"
   ]
  },
  {
   "cell_type": "code",
   "execution_count": 39,
   "id": "ab69830b-a150-4aa2-aac5-b09193dd05a5",
   "metadata": {},
   "outputs": [
    {
     "data": {
      "text/plain": [
       "500"
      ]
     },
     "execution_count": 39,
     "metadata": {},
     "output_type": "execute_result"
    }
   ],
   "source": [
    "pw.course_price_access"
   ]
  },
  {
   "cell_type": "code",
   "execution_count": 41,
   "id": "d7ce7a38-3f27-4b63-b79b-2d11bd80aa39",
   "metadata": {},
   "outputs": [],
   "source": [
    "del pw.course_price_delete"
   ]
  },
  {
   "cell_type": "code",
   "execution_count": 42,
   "id": "dd04b55e-aea0-422a-a99e-a1eeb4eedb67",
   "metadata": {},
   "outputs": [
    {
     "ename": "AttributeError",
     "evalue": "'pwskills' object has no attribute '_pwskills__course_price'",
     "output_type": "error",
     "traceback": [
      "\u001b[1;31m---------------------------------------------------------------------------\u001b[0m",
      "\u001b[1;31mAttributeError\u001b[0m                            Traceback (most recent call last)",
      "Cell \u001b[1;32mIn[42], line 1\u001b[0m\n\u001b[1;32m----> 1\u001b[0m \u001b[43mpw\u001b[49m\u001b[38;5;241;43m.\u001b[39;49m\u001b[43mcourse_price_access\u001b[49m\n",
      "Cell \u001b[1;32mIn[33], line 8\u001b[0m, in \u001b[0;36mpwskills.course_price_access\u001b[1;34m(self)\u001b[0m\n\u001b[0;32m      6\u001b[0m \u001b[38;5;129m@property\u001b[39m\n\u001b[0;32m      7\u001b[0m \u001b[38;5;28;01mdef\u001b[39;00m \u001b[38;5;21mcourse_price_access\u001b[39m(\u001b[38;5;28mself\u001b[39m):\n\u001b[1;32m----> 8\u001b[0m     \u001b[38;5;28;01mreturn\u001b[39;00m \u001b[38;5;28;43mself\u001b[39;49m\u001b[38;5;241;43m.\u001b[39;49m\u001b[43m__course_price\u001b[49m\n",
      "\u001b[1;31mAttributeError\u001b[0m: 'pwskills' object has no attribute '_pwskills__course_price'"
     ]
    }
   ],
   "source": [
    "pw.course_price_access"
   ]
  },
  {
   "cell_type": "code",
   "execution_count": null,
   "id": "57048d8b-1a69-4238-a51c-fd1ff81caa59",
   "metadata": {},
   "outputs": [],
   "source": []
  }
 ],
 "metadata": {
  "kernelspec": {
   "display_name": "Python 3 (ipykernel)",
   "language": "python",
   "name": "python3"
  },
  "language_info": {
   "codemirror_mode": {
    "name": "ipython",
    "version": 3
   },
   "file_extension": ".py",
   "mimetype": "text/x-python",
   "name": "python",
   "nbconvert_exporter": "python",
   "pygments_lexer": "ipython3",
   "version": "3.12.2"
  }
 },
 "nbformat": 4,
 "nbformat_minor": 5
}
